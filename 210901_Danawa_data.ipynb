{
 "cells": [
  {
   "cell_type": "code",
   "execution_count": 3,
   "id": "aa1e76ee",
   "metadata": {},
   "outputs": [],
   "source": [
    "from selenium import webdriver\n",
    "from bs4 import BeautifulSoup\n",
    "\n",
    "driver=webdriver.Chrome(\"C:/Users/pc/Main/Data_Analysis/chromedriver_win32/chromedriver.exe\")\n",
    "url=\"http://search.danawa.com/dsearch.php?query=무선청소기&tab=main\"\n",
    "driver.get(url)"
   ]
  },
  {
   "cell_type": "code",
   "execution_count": 4,
   "id": "54c29a63",
   "metadata": {},
   "outputs": [],
   "source": [
    "html=driver.page_source\n",
    "\n",
    "from bs4 import BeautifulSoup\n",
    "soup=BeautifulSoup(html, \"html.parser\")"
   ]
  },
  {
   "cell_type": "code",
   "execution_count": 46,
   "id": "8ccd5110",
   "metadata": {},
   "outputs": [
    {
     "data": {
      "text/plain": [
       "44"
      ]
     },
     "execution_count": 46,
     "metadata": {},
     "output_type": "execute_result"
    }
   ],
   "source": [
    "prod_items=soup.select(\"div.main_prodlist>ul.product_list>li.prod_item\")\n",
    "len(prod_items)"
   ]
  },
  {
   "cell_type": "code",
   "execution_count": 20,
   "id": "4109bc55",
   "metadata": {},
   "outputs": [
    {
     "data": {
      "text/plain": [
       "'샤오미 드리미 V10'"
      ]
     },
     "execution_count": 20,
     "metadata": {},
     "output_type": "execute_result"
    }
   ],
   "source": [
    "#제품 이름\n",
    "prod_items[0].select(\"p.prod_name>a\")[0].text.strip()"
   ]
  },
  {
   "cell_type": "code",
   "execution_count": 24,
   "id": "fbf12de1",
   "metadata": {},
   "outputs": [
    {
     "data": {
      "text/plain": [
       "'핸디/스틱청소기 / 핸디+스틱형 / 무선형 / 흡입전용 / [성능] 멀티싸이클론 / BLDC모터 / 흡입력: 140AW / 흡입력: 22000Pa / 소비전력: 450W / [배터리] 용량: 2500mAh / 충전시간: 3시간30분 / 사용시간: 1시간(개당) / [필터] 헤파필터 / H12급 / 5단계여과 / [구성] 바닥 / 침구 / 솔형 / 틈새 / 연장툴 / 거치대 / [부가] 먼지통용량: 0.5L / 색상: 화이트 / 무게: 1.5kg'"
      ]
     },
     "execution_count": 24,
     "metadata": {},
     "output_type": "execute_result"
    }
   ],
   "source": [
    "#제품 스펙\n",
    "prod_items[0].select(\"div.spec_list\")[0].text.strip()"
   ]
  },
  {
   "cell_type": "code",
   "execution_count": 45,
   "id": "5d5fe234",
   "metadata": {},
   "outputs": [
    {
     "data": {
      "text/plain": [
       "'150080'"
      ]
     },
     "execution_count": 45,
     "metadata": {},
     "output_type": "execute_result"
    }
   ],
   "source": [
    "#제품 가격\n",
    "price=prod_items[0].select(\"p.price_sect>a>strong\")[0].text.strip().replace(\",\",\"\")\n",
    "price"
   ]
  },
  {
   "cell_type": "code",
   "execution_count": 55,
   "id": "749c8766",
   "metadata": {},
   "outputs": [
    {
     "name": "stdout",
     "output_type": "stream",
     "text": [
      "40\n"
     ]
    }
   ],
   "source": [
    "prod_data=[]\n",
    "\n",
    "for prod_item in prod_items:\n",
    "    if 'product-pot' in prod_item[\"class\"]:\n",
    "        continue\n",
    "    try: \n",
    "        name=prod_item.select(\"p.prod_name>a\")[0].text.strip()\n",
    "        spec=prod_item.select(\"div.spec_list\")[0].text.strip()\n",
    "        price=prod_item.select(\"p.price_sect>a>strong\")[0].text.strip().replace(\",\",\"\")\n",
    "        prod_data.append([name, spec, price])\n",
    "    except:\n",
    "        pass\n",
    "\n",
    "print(len(prod_data))"
   ]
  },
  {
   "cell_type": "code",
   "execution_count": 56,
   "id": "1dad8832",
   "metadata": {},
   "outputs": [],
   "source": [
    "# 함수 만들기\n",
    "\n",
    "def get_prod_data(prod_items):\n",
    "    prod_data=[]\n",
    "\n",
    "    for prod_item in prod_items:\n",
    "        if 'product-pot' in prod_item[\"class\"]:\n",
    "            continue\n",
    "        try: \n",
    "            name=prod_item.select(\"p.prod_name>a\")[0].text.strip()\n",
    "            spec=prod_item.select(\"div.spec_list\")[0].text.strip()\n",
    "            price=prod_item.select(\"p.price_sect>a>strong\")[0].text.strip().replace(\",\",\"\")\n",
    "            prod_data.append([name, spec, price])\n",
    "        except:\n",
    "            pass\n",
    "    return prod_data"
   ]
  },
  {
   "cell_type": "code",
   "execution_count": 57,
   "id": "9c658356",
   "metadata": {},
   "outputs": [
    {
     "data": {
      "text/plain": [
       "40"
      ]
     },
     "execution_count": 57,
     "metadata": {},
     "output_type": "execute_result"
    }
   ],
   "source": [
    "prod_items=soup.select(\"div.main_prodlist>ul.product_list>li.prod_item\")\n",
    "prod_data=get_prod_data(prod_items)\n",
    "len(prod_data)"
   ]
  },
  {
   "cell_type": "markdown",
   "id": "4dfddf37",
   "metadata": {},
   "source": [
    "## 페이지 URL 분석"
   ]
  },
  {
   "cell_type": "code",
   "execution_count": 1,
   "id": "01c4ddc4",
   "metadata": {},
   "outputs": [
    {
     "data": {
      "text/plain": [
       "'http://search.danawa.com/dsearch.php?query=%EB%AC%B4%EC%84%A0%EC%B2%AD%EC%86%8C%EA%B8%B0&originalQuery=%EB%AC%B4%EC%84%A0%EC%B2%AD%EC%86%8C%EA%B8%B0&previousKeyword=%EB%AC%B4%EC%84%A0%EC%B2%AD%EC%86%8C%EA%B8%B0&volumeType=allvs&page=2&limit=40&sort=saveDESC&list=list&boost=true&addDelivery=N&recommendedSort=Y&defaultUICategoryCode=102207&defaultPhysicsCategoryCode=72%7C80%7C81%7C0&defaultVmTab=2557&defaultVaTab=181232&tab=goods'"
      ]
     },
     "execution_count": 1,
     "metadata": {},
     "output_type": "execute_result"
    }
   ],
   "source": [
    "#여러 페이지를 크롤링할 떄...URL을 변경하여 페이지별 정보를 수집하고 병합한다.\n",
    "def get_research_page_url(page):\n",
    "    return \"http://search.danawa.com/dsearch.php?query=%EB%AC%B4%EC%84%A0%EC%B2%AD%EC%86%8C%EA%B8%B0&originalQuery=%EB%AC%B4%EC%84%A0%EC%B2%AD%EC%86%8C%EA%B8%B0&previousKeyword=%EB%AC%B4%EC%84%A0%EC%B2%AD%EC%86%8C%EA%B8%B0&volumeType=allvs&page={}&limit=40&sort=saveDESC&list=list&boost=true&addDelivery=N&recommendedSort=Y&defaultUICategoryCode=102207&defaultPhysicsCategoryCode=72%7C80%7C81%7C0&defaultVmTab=2557&defaultVaTab=181232&tab=goods\".format(page)\n",
    "\n",
    "page=2\n",
    "url=get_research_page_url(page)\n",
    "url"
   ]
  },
  {
   "cell_type": "markdown",
   "id": "55f2f52b",
   "metadata": {},
   "source": [
    "## 쥬피터 노트북의 진행표시줄 처리"
   ]
  },
  {
   "cell_type": "code",
   "execution_count": 6,
   "id": "fe679bdd",
   "metadata": {},
   "outputs": [
    {
     "data": {
      "application/vnd.jupyter.widget-view+json": {
       "model_id": "42670d4eaf1b4b5889ed780a9acfe181",
       "version_major": 2,
       "version_minor": 0
      },
      "text/plain": [
       "  0%|          | 0/10 [00:00<?, ?it/s]"
      ]
     },
     "metadata": {},
     "output_type": "display_data"
    },
    {
     "ename": "KeyboardInterrupt",
     "evalue": "",
     "output_type": "error",
     "traceback": [
      "\u001b[1;31m---------------------------------------------------------------------------\u001b[0m",
      "\u001b[1;31mKeyboardInterrupt\u001b[0m                         Traceback (most recent call last)",
      "\u001b[1;32m<ipython-input-6-d343746f3fd6>\u001b[0m in \u001b[0;36m<module>\u001b[1;34m\u001b[0m\n\u001b[0;32m      5\u001b[0m \u001b[1;32mfor\u001b[0m \u001b[0mpage\u001b[0m \u001b[1;32min\u001b[0m \u001b[0mtqdm\u001b[0m\u001b[1;33m(\u001b[0m\u001b[0mrange\u001b[0m\u001b[1;33m(\u001b[0m\u001b[1;36m1\u001b[0m\u001b[1;33m,\u001b[0m \u001b[0mtotal_page\u001b[0m\u001b[1;33m+\u001b[0m\u001b[1;36m1\u001b[0m\u001b[1;33m)\u001b[0m\u001b[1;33m)\u001b[0m\u001b[1;33m:\u001b[0m\u001b[1;33m\u001b[0m\u001b[1;33m\u001b[0m\u001b[0m\n\u001b[0;32m      6\u001b[0m     \u001b[1;31m#페이지가 로딩 완료되기 위한 시간을 5초를 준다..\u001b[0m\u001b[1;33m\u001b[0m\u001b[1;33m\u001b[0m\u001b[1;33m\u001b[0m\u001b[0m\n\u001b[1;32m----> 7\u001b[1;33m     \u001b[0mtime\u001b[0m\u001b[1;33m.\u001b[0m\u001b[0msleep\u001b[0m\u001b[1;33m(\u001b[0m\u001b[1;36m5\u001b[0m\u001b[1;33m)\u001b[0m\u001b[1;33m\u001b[0m\u001b[1;33m\u001b[0m\u001b[0m\n\u001b[0m",
      "\u001b[1;31mKeyboardInterrupt\u001b[0m: "
     ]
    }
   ],
   "source": [
    "import time\n",
    "from tqdm.notebook import tqdm\n",
    "\n",
    "total_page=10\n",
    "for page in tqdm(range(1, total_page+1)):\n",
    "    #페이지가 로딩 완료되기 위한 시간을 5초를 준다..\n",
    "    time.sleep(5)"
   ]
  },
  {
   "cell_type": "markdown",
   "id": "06b89d40",
   "metadata": {},
   "source": [
    "## 여러 페이지에 걸친 상품정보 수집"
   ]
  },
  {
   "cell_type": "code",
   "execution_count": 2,
   "id": "ab4cdb06",
   "metadata": {},
   "outputs": [
    {
     "data": {
      "application/vnd.jupyter.widget-view+json": {
       "model_id": "ae30c5eb3a544ae5b4407a21f2d3b640",
       "version_major": 2,
       "version_minor": 0
      },
      "text/plain": [
       "  0%|          | 0/10 [00:00<?, ?it/s]"
      ]
     },
     "metadata": {},
     "output_type": "display_data"
    }
   ],
   "source": [
    "from selenium import webdriver\n",
    "from bs4 import BeautifulSoup\n",
    "import time\n",
    "from tqdm.notebook import tqdm\n",
    "\n",
    "#상품 정보 함수\n",
    "def get_prod_data(prod_items):\n",
    "    prod_data=[]\n",
    "\n",
    "    for prod_item in prod_items:\n",
    "        if 'product-pot' in prod_item[\"class\"]:\n",
    "            continue\n",
    "        try: \n",
    "            name=prod_item.select(\"p.prod_name>a\")[0].text.strip()\n",
    "            spec=prod_item.select(\"div.spec_list\")[0].text.strip()\n",
    "            price=prod_item.select(\"p.price_sect>a>strong\")[0].text.strip().replace(\",\",\"\")\n",
    "            prod_data.append([name, spec, price])\n",
    "        except:\n",
    "            pass\n",
    "    return prod_data\n",
    "\n",
    "driver = webdriver.Chrome(\"C:/Users/pc/Main/Data_Analysis/chromedriver_win32/chromedriver.exe\")\n",
    "driver.implicitly_wait(3)\n",
    "    \n",
    "total_page=10\n",
    "prod_data_total=[]\n",
    "for page in tqdm(range(1, total_page+1)):\n",
    "    url=get_research_page_url(page)\n",
    "    driver.get(url)\n",
    "    time.sleep(5)\n",
    "    \n",
    "    #현재 페이지의html\n",
    "    html=driver.page_source\n",
    "    soup = BeautifulSoup(html,\"html.parser\")\n",
    "    \n",
    "    #상품 정보가져오기\n",
    "    prod_items=soup.select(\"div.main_prodlist>ul.product_list>li.prod_item\")\n",
    "    prod_data=get_prod_data(prod_items)\n",
    "    \n",
    "    #추출 데이터 저장\n",
    "    prod_data_total = prod_data_total +prod_data"
   ]
  },
  {
   "cell_type": "code",
   "execution_count": 4,
   "id": "e346289d",
   "metadata": {},
   "outputs": [
    {
     "data": {
      "text/plain": [
       "400"
      ]
     },
     "execution_count": 4,
     "metadata": {},
     "output_type": "execute_result"
    }
   ],
   "source": [
    "len(prod_data_total)"
   ]
  },
  {
   "cell_type": "code",
   "execution_count": 8,
   "id": "643bd8f2",
   "metadata": {},
   "outputs": [
    {
     "data": {
      "text/html": [
       "<div>\n",
       "<style scoped>\n",
       "    .dataframe tbody tr th:only-of-type {\n",
       "        vertical-align: middle;\n",
       "    }\n",
       "\n",
       "    .dataframe tbody tr th {\n",
       "        vertical-align: top;\n",
       "    }\n",
       "\n",
       "    .dataframe thead th {\n",
       "        text-align: right;\n",
       "    }\n",
       "</style>\n",
       "<table border=\"1\" class=\"dataframe\">\n",
       "  <thead>\n",
       "    <tr style=\"text-align: right;\">\n",
       "      <th></th>\n",
       "      <th>제품명</th>\n",
       "      <th>스펙목록</th>\n",
       "      <th>가격</th>\n",
       "    </tr>\n",
       "  </thead>\n",
       "  <tbody>\n",
       "    <tr>\n",
       "      <th>0</th>\n",
       "      <td>샤오미 드리미 V10</td>\n",
       "      <td>핸디/스틱청소기 / 핸디+스틱형 / 무선형 / 흡입전용 / [성능] 멀티싸이클론 /...</td>\n",
       "      <td>150080</td>\n",
       "    </tr>\n",
       "    <tr>\n",
       "      <th>1</th>\n",
       "      <td>LG전자 오브제컬렉션 코드제로 ThinQ A9S AO9571</td>\n",
       "      <td>핸디/스틱청소기 / 핸디+스틱형 / 무선형 / 흡입+걸레겸용 / [성능] 2중터보싸...</td>\n",
       "      <td>1190940</td>\n",
       "    </tr>\n",
       "    <tr>\n",
       "      <th>2</th>\n",
       "      <td>삼성전자 제트 VS20T9218QDCC</td>\n",
       "      <td>핸디/스틱청소기 / 핸디+스틱형 / 무선형 / 흡입+걸레겸용 / [성능] 싸이클론 ...</td>\n",
       "      <td>568700</td>\n",
       "    </tr>\n",
       "    <tr>\n",
       "      <th>3</th>\n",
       "      <td>삼성전자 비스포크 제트 VS20A957D3</td>\n",
       "      <td>핸디/스틱청소기 / 핸디+스틱형 / 무선형 / 흡입+걸레겸용 / [성능] 제트싸이클...</td>\n",
       "      <td>919630</td>\n",
       "    </tr>\n",
       "    <tr>\n",
       "      <th>4</th>\n",
       "      <td>샤오미 CLEANFLY 차량용 무선 청소기 4세대 H2 (해외구매)</td>\n",
       "      <td>차량용청소기 / 무선 / 흡입력: 16,800Pa / 최대출력: 120W / 헤파필...</td>\n",
       "      <td>63140</td>\n",
       "    </tr>\n",
       "  </tbody>\n",
       "</table>\n",
       "</div>"
      ],
      "text/plain": [
       "                                     제품명  \\\n",
       "0                            샤오미 드리미 V10   \n",
       "1      LG전자 오브제컬렉션 코드제로 ThinQ A9S AO9571   \n",
       "2                  삼성전자 제트 VS20T9218QDCC   \n",
       "3                삼성전자 비스포크 제트 VS20A957D3   \n",
       "4  샤오미 CLEANFLY 차량용 무선 청소기 4세대 H2 (해외구매)   \n",
       "\n",
       "                                                스펙목록       가격  \n",
       "0  핸디/스틱청소기 / 핸디+스틱형 / 무선형 / 흡입전용 / [성능] 멀티싸이클론 /...   150080  \n",
       "1  핸디/스틱청소기 / 핸디+스틱형 / 무선형 / 흡입+걸레겸용 / [성능] 2중터보싸...  1190940  \n",
       "2  핸디/스틱청소기 / 핸디+스틱형 / 무선형 / 흡입+걸레겸용 / [성능] 싸이클론 ...   568700  \n",
       "3  핸디/스틱청소기 / 핸디+스틱형 / 무선형 / 흡입+걸레겸용 / [성능] 제트싸이클...   919630  \n",
       "4  차량용청소기 / 무선 / 흡입력: 16,800Pa / 최대출력: 120W / 헤파필...    63140  "
      ]
     },
     "execution_count": 8,
     "metadata": {},
     "output_type": "execute_result"
    }
   ],
   "source": [
    "import pandas as pd\n",
    "prod_data_total_df=pd.DataFrame(prod_data_total)\n",
    "prod_data_total_df.columns=[\"제품명\",\"스펙목록\",\"가격\"]\n",
    "prod_data_total_df.head()"
   ]
  },
  {
   "cell_type": "code",
   "execution_count": 9,
   "id": "a48cd161",
   "metadata": {},
   "outputs": [],
   "source": [
    "prod_data_total_df.to_excel(\"C:/Users/pc/Main/Data_Analysis/prod_data_total.xlsx\",index=False)"
   ]
  },
  {
   "cell_type": "code",
   "execution_count": null,
   "id": "a84164d3",
   "metadata": {},
   "outputs": [],
   "source": []
  }
 ],
 "metadata": {
  "kernelspec": {
   "display_name": "Python 3",
   "language": "python",
   "name": "python3"
  },
  "language_info": {
   "codemirror_mode": {
    "name": "ipython",
    "version": 3
   },
   "file_extension": ".py",
   "mimetype": "text/x-python",
   "name": "python",
   "nbconvert_exporter": "python",
   "pygments_lexer": "ipython3",
   "version": "3.7.10"
  }
 },
 "nbformat": 4,
 "nbformat_minor": 5
}
