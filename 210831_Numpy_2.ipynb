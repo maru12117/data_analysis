{
 "cells": [
  {
   "cell_type": "code",
   "execution_count": 4,
   "id": "627f4994",
   "metadata": {},
   "outputs": [
    {
     "name": "stdout",
     "output_type": "stream",
     "text": [
      "================================\n",
      "1. 친구 리스트 출력\n",
      "2. 친구 추가\n",
      "3. 친구 삭제\n",
      "4. 이름 변경\n",
      "9. 종료\n",
      "메뉴를 입력하세요 : 9\n"
     ]
    }
   ],
   "source": [
    "friend_list=[]\n",
    "while True:\n",
    "    print(\"================================\")\n",
    "    print(\"1. 친구 리스트 출력\")\n",
    "    print(\"2. 친구 추가\")\n",
    "    print(\"3. 친구 삭제\")\n",
    "    print(\"4. 이름 변경\")\n",
    "    print(\"9. 종료\")\n",
    "    menu=int(input(\"메뉴를 입력하세요 : \"))\n",
    "    if menu==1:\n",
    "        print(friend_list)\n",
    "    elif menu ==2:\n",
    "        name=input(\"이름을 입력하세요 : \")\n",
    "        tel=input(\"전화번호를 입력하세요 : \")\n",
    "        friend_list.append([name, tel])\n",
    "    elif menu ==3:\n",
    "        name=input(\"이름을 입력하세요 : \")\n",
    "        for i in range(len(friend_list)):\n",
    "            if friend_list[i][0]==name:\n",
    "                del friend_list[i]\n",
    "    elif menu ==4:\n",
    "        name=input(\"이름을 입력하세요 : \")\n",
    "        for i in range(len(friend_list)):\n",
    "            if friend_list[i][0]==name:\n",
    "                name_change=input(\"변경할 이름을 입력하세요 : \")\n",
    "                friend_list[i][0]=name_change\n",
    "    elif menu == 9:\n",
    "        break\n",
    "    else:\n",
    "        print(\"다시 입력해주세요\")\n",
    "    print(\"================================\")"
   ]
  },
  {
   "cell_type": "code",
   "execution_count": 9,
   "id": "1791184d",
   "metadata": {},
   "outputs": [
    {
     "name": "stdout",
     "output_type": "stream",
     "text": [
      "단어를 입력하세요 :둘\n",
      "two\n"
     ]
    }
   ],
   "source": [
    "english_dict=dict()\n",
    "\n",
    "english_dict[\"one\"]=\"하나\"\n",
    "english_dict[\"two\"]=\"둘\"\n",
    "english_dict[\"three\"]=\"셋\"\n",
    "\n",
    "english_dict[\"하나\"]=\"one\"\n",
    "english_dict[\"둘\"]=\"two\"\n",
    "english_dict[\"셋\"]=\"three\"\n",
    "word = input(\"단어를 입력하세요 :\")\n",
    "print(english_dict.get(word, \"없음\"))"
   ]
  },
  {
   "cell_type": "code",
   "execution_count": 7,
   "id": "1ef4af8d",
   "metadata": {},
   "outputs": [
    {
     "name": "stdout",
     "output_type": "stream",
     "text": [
      "단어를 입력하세요 :안녕\n"
     ]
    },
    {
     "data": {
      "text/plain": [
       "False"
      ]
     },
     "execution_count": 7,
     "metadata": {},
     "output_type": "execute_result"
    }
   ],
   "source": [
    "english_dict=dict()\n",
    "\n",
    "english_dict[\"one\"]=\"하나\"\n",
    "english_dict[\"two\"]=\"둘\"\n",
    "english_dict[\"three\"]=\"셋\"\n",
    "\n",
    "word = input(\"단어를 입력하세요 :\")\n",
    "word.encode().isalpha() #한글인지 확인하기"
   ]
  },
  {
   "cell_type": "markdown",
   "id": "1b5b2947",
   "metadata": {},
   "source": [
    "## 파일 복사하기"
   ]
  },
  {
   "cell_type": "code",
   "execution_count": null,
   "id": "e95de635",
   "metadata": {},
   "outputs": [],
   "source": [
    "filename1=input(\"원본 파일 이름을 입력하시오 : \")\n",
    "filename2=input(\"복사 파일 이름을 입력하시오 : \")\n",
    "\n",
    "infile = open(filename1, \"rb\")\n",
    "outfile = open(filename2, \"wb\")\n",
    "\n",
    "#입력파일에서 1024바이트씩 읽어서 출력파일에 쓴다.\n",
    "while True:\n",
    "    copy_buffer = infile.read(1024) #1024비트씩 읽기\n",
    "    if not copy_buffer:\n",
    "        break\n",
    "    outfile.write(copy_buffer)\n",
    "\n",
    "infile.close()\n",
    "outfile.close()\n",
    "print(\"복사완료\")"
   ]
  },
  {
   "cell_type": "markdown",
   "id": "26c1100c",
   "metadata": {},
   "source": [
    "## json 파일 다루기"
   ]
  },
  {
   "cell_type": "code",
   "execution_count": 14,
   "id": "125c00ae",
   "metadata": {},
   "outputs": [
    {
     "name": "stdout",
     "output_type": "stream",
     "text": [
      "{\"K5\": {\"price\": \"5000\", \"year\": \"2015\"}, \"Avante\": {\"price\": \"3000\", \"year\": \"2014\"}}\n"
     ]
    }
   ],
   "source": [
    "import json\n",
    "with open(\"C:/Users/pc/Main/Data_Analysis/test.json\", \"rb\") as file:\n",
    "    #json모듈을 임포트한 후, load 함수를 통해 데이터를 가져올 수 있음\n",
    "    json_data=json.load(file)\n",
    "\n",
    "print(json.dumps(json_data))"
   ]
  },
  {
   "cell_type": "code",
   "execution_count": 16,
   "id": "f8dccb15",
   "metadata": {},
   "outputs": [
    {
     "name": "stdout",
     "output_type": "stream",
     "text": [
      "{\n",
      "\t\"K5\": {\n",
      "\t\t\"price\": \"5000\",\n",
      "\t\t\"year\": \"2015\"\n",
      "\t},\n",
      "\t\"Avante\": {\n",
      "\t\t\"price\": \"3000\",\n",
      "\t\t\"year\": \"2014\"\n",
      "\t}\n",
      "}\n"
     ]
    }
   ],
   "source": [
    "print(json.dumps(json_data, indent=\"\\t\"))"
   ]
  },
  {
   "cell_type": "code",
   "execution_count": 18,
   "id": "73669720",
   "metadata": {},
   "outputs": [
    {
     "data": {
      "text/plain": [
       "'5000'"
      ]
     },
     "execution_count": 18,
     "metadata": {},
     "output_type": "execute_result"
    }
   ],
   "source": [
    "json_data[\"K5\"][\"price\"]"
   ]
  },
  {
   "cell_type": "code",
   "execution_count": 19,
   "id": "aa8100e1",
   "metadata": {},
   "outputs": [],
   "source": [
    "#데이터 수정하기\n",
    "json_data[\"K5\"][\"price\"]=\"7000\""
   ]
  },
  {
   "cell_type": "code",
   "execution_count": 20,
   "id": "cf7df92f",
   "metadata": {},
   "outputs": [
    {
     "data": {
      "text/plain": [
       "'7000'"
      ]
     },
     "execution_count": 20,
     "metadata": {},
     "output_type": "execute_result"
    }
   ],
   "source": [
    "json_data[\"K5\"][\"price\"]"
   ]
  },
  {
   "cell_type": "code",
   "execution_count": 22,
   "id": "85c8909d",
   "metadata": {},
   "outputs": [],
   "source": [
    "## 다시 저장하기\n",
    "with open(\"C:/Users/pc/Main/Data_Analysis/test.json\", \"w\") as make_file:\n",
    "    json.dump(json_data, make_file, indent=\"\\t\")"
   ]
  },
  {
   "cell_type": "code",
   "execution_count": 26,
   "id": "6bb025b9",
   "metadata": {},
   "outputs": [
    {
     "name": "stdout",
     "output_type": "stream",
     "text": [
      "{\n",
      "\t\"K5\": {\n",
      "\t\t\"price\": \"7000\",\n",
      "\t\t\"year\": \"2015\"\n",
      "\t},\n",
      "\t\"Avante\": {\n",
      "\t\t\"price\": \"3000\",\n",
      "\t\t\"year\": \"2014\"\n",
      "\t}\n",
      "}\n"
     ]
    }
   ],
   "source": [
    "# 다시 읽기\n",
    "with open(\"C:/Users/pc/Main/Data_Analysis/test.json\", \"r\") as read_file:\n",
    "    read_json=json.load(read_file)\n",
    "print(json.dumps(read_json, indent=\"\\t\"))"
   ]
  },
  {
   "cell_type": "code",
   "execution_count": 32,
   "id": "a9a27762",
   "metadata": {},
   "outputs": [],
   "source": [
    "import json\n",
    "\n",
    "car_group = dict()\n",
    "\n",
    "k5 = dict()\n",
    "k5[\"price\"]=\"5000\"\n",
    "k5[\"year\"]=\"2015\"\n",
    "car_group[\"K5\"] = k5\n",
    "\n",
    "avante=dict()\n",
    "avante[\"price\"]=\"3000\"\n",
    "avante[\"year\"]=\"2014\"\n",
    "car_group[\"Avante\"]=avante\n",
    "\n",
    "#json파일로 저장\n",
    "with open(\"C:/Users/pc/Main/Data_Analysis/test.json\", 'w', encoding=\"utf-8\") as make_file:\n",
    "    json.dump(car_group, make_file, indent=\"\\t\")"
   ]
  },
  {
   "cell_type": "code",
   "execution_count": 33,
   "id": "96fb4065",
   "metadata": {},
   "outputs": [
    {
     "name": "stdout",
     "output_type": "stream",
     "text": [
      "{\n",
      "\t\"K5\": {\n",
      "\t\t\"price\": \"5000\",\n",
      "\t\t\"year\": \"2015\"\n",
      "\t},\n",
      "\t\"Avante\": {\n",
      "\t\t\"price\": \"3000\",\n",
      "\t\t\"year\": \"2014\"\n",
      "\t}\n",
      "}\n"
     ]
    }
   ],
   "source": [
    "#저장한 파일 출력\n",
    "with open(\"C:/Users/pc/Main/Data_Analysis/test.json\", 'r') as file:\n",
    "    json_data=json.load(file)\n",
    "print(json.dumps(json_data, indent=\"\\t\"))"
   ]
  },
  {
   "cell_type": "code",
   "execution_count": 8,
   "id": "7b9ae7c1",
   "metadata": {},
   "outputs": [
    {
     "name": "stdout",
     "output_type": "stream",
     "text": [
      "================================\n",
      "1. 친구 리스트 출력\n",
      "2. 친구 추가\n",
      "3. 친구 삭제\n",
      "4. 이름 변경\n",
      "5. 저장하기 \n",
      "9. 종료\n",
      "메뉴를 입력하세요 : 1\n",
      "{'tom': {'name': 'tom', 'tel': '011'}, 'Avante': {'name': 'avante', 'tel': '2014'}, 'james': {'name': 'james', 'tel': '235'}}\n",
      "================================\n",
      "1. 친구 리스트 출력\n",
      "2. 친구 추가\n",
      "3. 친구 삭제\n",
      "4. 이름 변경\n",
      "5. 저장하기 \n",
      "9. 종료\n",
      "메뉴를 입력하세요 : 9\n",
      "시스템 종료\n"
     ]
    }
   ],
   "source": [
    "import json\n",
    "with open(\"C:/Users/pc/Main/Data_Analysis/test1.json\", 'r') as file:\n",
    "    json_data=json.load(file)\n",
    "friend =dict()\n",
    "while True:\n",
    "    print(\"================================\")\n",
    "    print(\"1. 친구 리스트 출력\")\n",
    "    print(\"2. 친구 추가\")\n",
    "    print(\"3. 친구 삭제\")\n",
    "    print(\"4. 이름 변경\")\n",
    "    print(\"5. 저장하기 \")\n",
    "    print(\"9. 종료\")\n",
    "    menu=int(input(\"메뉴를 입력하세요 : \"))\n",
    "    if menu==1:\n",
    "        print(json_data)\n",
    "    elif menu ==2:\n",
    "        name=input(\"이름을 입력하세요 : \")\n",
    "        tel=input(\"전화번호를 입력하세요 : \")\n",
    "        friend[\"name\"]=name\n",
    "        friend[\"tel\"]=tel\n",
    "        json_data[name]=friend\n",
    "    elif menu ==3: #삭제\n",
    "        name=input(\"이름을 입력하세요 : \")\n",
    "        del json_data[name]\n",
    "        print(\"친구 삭제 완료\")\n",
    "    elif menu ==4: #수정\n",
    "        name=input(\"이름을 입력하세요 : \")\n",
    "        tel=input(\"전화번호를 입력하세요 : \")\n",
    "        json_data[name][\"name\"]=name\n",
    "        json_data[name][\"tel\"]=tel\n",
    "        print(\"친구 수정완료\")\n",
    "    elif menu ==5:\n",
    "        with open(\"C:/Users/pc/Main/Data_Analysis/test1.json\", \"w\") as make_file:\n",
    "            json.dump(json_data, make_file, indent=\"\\t\")\n",
    "    elif menu == 9:\n",
    "        break\n",
    "    else:\n",
    "        print(\"다시 입력해주세요\")\n",
    "print(\"시스템 종료\")\n"
   ]
  },
  {
   "cell_type": "markdown",
   "id": "35e13b90",
   "metadata": {},
   "source": [
    "## xml 활용하기"
   ]
  },
  {
   "cell_type": "code",
   "execution_count": 11,
   "id": "716209e9",
   "metadata": {},
   "outputs": [
    {
     "name": "stdout",
     "output_type": "stream",
     "text": [
      "['peter', 'elgar', 'hong']\n",
      "['24', '21', '36']\n",
      "[{'math': '80', 'english': '97'}, {'math': '67', 'english': '56'}, {'math': '76', 'english': '81'}]\n"
     ]
    }
   ],
   "source": [
    "from xml.etree.ElementTree import parse\n",
    "\n",
    "tree=parse(\"test.xml\") #xml파일 불러오기\n",
    "root = tree.getroot()\n",
    "\n",
    "student = root.findall(\"student\") #student를 찾아..\n",
    "\n",
    "name = [x.findtext(\"name\") for x in student]\n",
    "age =  [x.findtext(\"age\") for x in student]\n",
    "score =  [x.find(\"score\").attrib for x in student]\n",
    "\n",
    "print(name)\n",
    "print(age)\n",
    "print(score)"
   ]
  },
  {
   "cell_type": "markdown",
   "id": "ccf49bf6",
   "metadata": {},
   "source": [
    "## yml 활용하기"
   ]
  },
  {
   "cell_type": "code",
   "execution_count": 33,
   "id": "4a76a152",
   "metadata": {},
   "outputs": [
    {
     "name": "stdout",
     "output_type": "stream",
     "text": [
      "{'Vegetables': ['Pepper', 'Tomato', 'Garlic']}\n"
     ]
    }
   ],
   "source": [
    "import yaml\n",
    "\n",
    "with open(\"vegetables.yml\") as f:\n",
    "    vegetables=yaml.load(f, Loader=yaml.FullLoader)\n",
    "    print(vegetables)"
   ]
  },
  {
   "cell_type": "code",
   "execution_count": 41,
   "id": "3562d9f4",
   "metadata": {},
   "outputs": [
    {
     "name": "stdout",
     "output_type": "stream",
     "text": [
      "{'hyundai': 45000, 'tesla': 65000, 'chevrolet': 42000, 'audi': 51000, 'mercedesbenz': 80000}\n",
      "====================================\n",
      "audi: 51000\n",
      "chevrolet: 42000\n",
      "hyundai: 45000\n",
      "mercedesbenz: 80000\n",
      "tesla: 65000\n",
      "\n"
     ]
    }
   ],
   "source": [
    "import yaml\n",
    "\n",
    "with open(\"cars.yml\") as f:\n",
    "    cars_original=yaml.load(f, Loader=yaml.FullLoader)\n",
    "    print(cars_original)\n",
    "    \n",
    "    print(\"====================================\")\n",
    "    cars_sorted=yaml.dump(cars_original, sort_keys=True)\n",
    "    print(cars_sorted)"
   ]
  },
  {
   "cell_type": "code",
   "execution_count": 42,
   "id": "890e61d9",
   "metadata": {},
   "outputs": [
    {
     "name": "stdout",
     "output_type": "stream",
     "text": [
      "{'hyundai': 45000, 'tesla': 65000, 'chevrolet': 42000, 'audi': 51000, 'mercedesbenz': 80000}\n",
      "====================================\n",
      "chevrolet : 42000\n",
      "hyundai : 45000\n",
      "audi : 51000\n",
      "tesla : 65000\n",
      "mercedesbenz : 80000\n"
     ]
    }
   ],
   "source": [
    "with open(\"cars.yml\") as f:\n",
    "    cars_original=yaml.load(f, Loader=yaml.FullLoader)\n",
    "    print(cars_original)\n",
    "    \n",
    "    print(\"====================================\")\n",
    "    for key, value in sorted(cars_original.items(), key=lambda item : item[1]):\n",
    "        print(key, \":\", value)"
   ]
  },
  {
   "cell_type": "code",
   "execution_count": 44,
   "id": "5739d98d",
   "metadata": {},
   "outputs": [],
   "source": [
    "fruits={\"fruits\":[\"blubbery\", \"apple\",\"oragne\"]}\n",
    "\n",
    "with open(\"fruits.yml\", \"w\") as f:\n",
    "    yaml.dump(fruits, f)"
   ]
  },
  {
   "cell_type": "markdown",
   "id": "fdb84006",
   "metadata": {},
   "source": [
    "# Numpy"
   ]
  },
  {
   "cell_type": "code",
   "execution_count": 1,
   "id": "25937791",
   "metadata": {},
   "outputs": [
    {
     "name": "stdout",
     "output_type": "stream",
     "text": [
      "type: <class 'numpy.ndarray'>\n",
      "shape: (3,)\n",
      "Array's Data:\n",
      "[1 2 3]\n"
     ]
    }
   ],
   "source": [
    "import numpy as np\n",
    "\n",
    "\n",
    "def pprint(arr):\n",
    "    print(\"type: {}\".format(type(arr)))\n",
    "    print(\"shape: {}\".format(arr.shape))\n",
    "    print(\"Array's Data:\\n{}\".format(arr))\n",
    "    \n",
    "arr=[1,2,3]\n",
    "a=np.array(arr)\n",
    "pprint(a)"
   ]
  },
  {
   "cell_type": "code",
   "execution_count": 60,
   "id": "8c931b8d",
   "metadata": {},
   "outputs": [
    {
     "name": "stdout",
     "output_type": "stream",
     "text": [
      "type: <class 'numpy.ndarray'>\n",
      "shape: (2, 3)\n",
      "Array's Data:\n",
      "[[1. 2. 3.]\n",
      " [4. 5. 6.]]\n"
     ]
    }
   ],
   "source": [
    "arr=[(1,2,3),(4,5,6)]\n",
    "b=np.array(arr, dtype=float)\n",
    "pprint(b)"
   ]
  },
  {
   "cell_type": "code",
   "execution_count": 59,
   "id": "85c0a9ff",
   "metadata": {},
   "outputs": [
    {
     "name": "stdout",
     "output_type": "stream",
     "text": [
      "type: <class 'numpy.ndarray'>\n",
      "shape: (2, 2, 3)\n",
      "Array's Data:\n",
      "[[[ 1.  2.  3.]\n",
      "  [ 4.  5.  6.]]\n",
      "\n",
      " [[ 7.  8.  9.]\n",
      "  [10. 11. 12.]]]\n"
     ]
    }
   ],
   "source": [
    "arr=[[[1,2,3],[4,5,6]],[[7,8,9],[10,11,12]]]\n",
    "c=np.array(arr, dtype=float)\n",
    "pprint(c)"
   ]
  },
  {
   "cell_type": "code",
   "execution_count": 65,
   "id": "4eea4ebe",
   "metadata": {},
   "outputs": [
    {
     "name": "stdout",
     "output_type": "stream",
     "text": [
      "type: <class 'numpy.ndarray'>\n",
      "shape: (3, 2)\n",
      "Array's Data:\n",
      "[[0. 0.]\n",
      " [0. 0.]\n",
      " [0. 0.]]\n"
     ]
    }
   ],
   "source": [
    "a=np.zeros((3,2))\n",
    "pprint(a)"
   ]
  },
  {
   "cell_type": "code",
   "execution_count": 68,
   "id": "76e127d0",
   "metadata": {},
   "outputs": [
    {
     "name": "stdout",
     "output_type": "stream",
     "text": [
      "type: <class 'numpy.ndarray'>\n",
      "shape: (3, 3)\n",
      "Array's Data:\n",
      "[[0 0 0]\n",
      " [0 0 0]\n",
      " [0 0 0]]\n"
     ]
    }
   ],
   "source": [
    "b = [[1,2,3],[4,5,6],[7,8,9]]\n",
    "c=np.zeros_like(b) #b의 shape로 값은 0으로 넣음\n",
    "pprint(c)"
   ]
  },
  {
   "cell_type": "code",
   "execution_count": 71,
   "id": "a52dc0fe",
   "metadata": {},
   "outputs": [
    {
     "name": "stdout",
     "output_type": "stream",
     "text": [
      "type: <class 'numpy.ndarray'>\n",
      "shape: (3, 3)\n",
      "Array's Data:\n",
      "[[1. 1. 1.]\n",
      " [1. 1. 1.]\n",
      " [1. 1. 1.]]\n"
     ]
    }
   ],
   "source": [
    "b = [[1,2,3],[4,5,6],[7,8,9]]\n",
    "c=np.ones_like(b, dtype=float) #b의 shape로 값은 1으로 넣음\n",
    "pprint(c)"
   ]
  },
  {
   "cell_type": "code",
   "execution_count": 70,
   "id": "88d97d2f",
   "metadata": {},
   "outputs": [
    {
     "name": "stdout",
     "output_type": "stream",
     "text": [
      "type: <class 'numpy.ndarray'>\n",
      "shape: (3, 2)\n",
      "Array's Data:\n",
      "[[1. 1.]\n",
      " [1. 1.]\n",
      " [1. 1.]]\n"
     ]
    }
   ],
   "source": [
    "a=np.ones((3,2))\n",
    "pprint(a)"
   ]
  },
  {
   "cell_type": "code",
   "execution_count": 73,
   "id": "3e61a5ae",
   "metadata": {},
   "outputs": [
    {
     "name": "stdout",
     "output_type": "stream",
     "text": [
      "type: <class 'numpy.ndarray'>\n",
      "shape: (10,)\n",
      "Array's Data:\n",
      "[0 1 2 3 4 5 6 7 8 9]\n"
     ]
    }
   ],
   "source": [
    "a = np.array(range(10))\n",
    "pprint(a)"
   ]
  },
  {
   "cell_type": "code",
   "execution_count": 76,
   "id": "b7389562",
   "metadata": {},
   "outputs": [
    {
     "name": "stdout",
     "output_type": "stream",
     "text": [
      "type: <class 'numpy.ndarray'>\n",
      "shape: (2, 5)\n",
      "Array's Data:\n",
      "[[0 1 2 3 4]\n",
      " [5 6 7 8 9]]\n"
     ]
    }
   ],
   "source": [
    "b=a.reshape(-1,5)\n",
    "pprint(b)"
   ]
  },
  {
   "cell_type": "code",
   "execution_count": 77,
   "id": "4c2a0b99",
   "metadata": {},
   "outputs": [
    {
     "name": "stdout",
     "output_type": "stream",
     "text": [
      "type: <class 'numpy.ndarray'>\n",
      "shape: (2, 1, 5)\n",
      "Array's Data:\n",
      "[[[0 1 2 3 4]]\n",
      "\n",
      " [[5 6 7 8 9]]]\n"
     ]
    }
   ],
   "source": [
    "b=a.reshape(2,-1,5)\n",
    "pprint(b)"
   ]
  },
  {
   "cell_type": "code",
   "execution_count": 2,
   "id": "9e16aabc",
   "metadata": {},
   "outputs": [
    {
     "name": "stdout",
     "output_type": "stream",
     "text": [
      "type: <class 'numpy.ndarray'>\n",
      "shape: (2, 2)\n",
      "Array's Data:\n",
      "[[7 7]\n",
      " [7 7]]\n"
     ]
    }
   ],
   "source": [
    "a = np.full((2,2),7)\n",
    "pprint(a)"
   ]
  },
  {
   "cell_type": "code",
   "execution_count": 3,
   "id": "4be454e8",
   "metadata": {},
   "outputs": [
    {
     "name": "stdout",
     "output_type": "stream",
     "text": [
      "type: <class 'numpy.ndarray'>\n",
      "shape: (4, 4)\n",
      "Array's Data:\n",
      "[[1. 0. 0. 0.]\n",
      " [0. 1. 0. 0.]\n",
      " [0. 0. 1. 0.]\n",
      " [0. 0. 0. 1.]]\n"
     ]
    }
   ],
   "source": [
    "a=np.eye(4)\n",
    "pprint(a) #한쪽으로 내려가는..."
   ]
  },
  {
   "cell_type": "code",
   "execution_count": 4,
   "id": "9fe17f70",
   "metadata": {},
   "outputs": [
    {
     "name": "stdout",
     "output_type": "stream",
     "text": [
      "type: <class 'numpy.ndarray'>\n",
      "shape: (4, 2)\n",
      "Array's Data:\n",
      "[[0.00e+000 0.00e+000]\n",
      " [0.00e+000 0.00e+000]\n",
      " [0.00e+000 5.63e-321]\n",
      " [0.00e+000 0.00e+000]]\n"
     ]
    }
   ],
   "source": [
    "a = np.empty((4,2))\n",
    "pprint(a)"
   ]
  },
  {
   "cell_type": "code",
   "execution_count": 5,
   "id": "320398c3",
   "metadata": {},
   "outputs": [
    {
     "name": "stdout",
     "output_type": "stream",
     "text": [
      "type: <class 'numpy.ndarray'>\n",
      "shape: (2, 3)\n",
      "Array's Data:\n",
      "[[1 1 1]\n",
      " [1 1 1]]\n"
     ]
    }
   ],
   "source": [
    "a = np.array([[1,2,3], [4,5,6]])\n",
    "b = np.ones_like(a)\n",
    "pprint(b)"
   ]
  },
  {
   "cell_type": "code",
   "execution_count": 6,
   "id": "5ebd3eba",
   "metadata": {},
   "outputs": [
    {
     "name": "stdout",
     "output_type": "stream",
     "text": [
      "type: <class 'numpy.ndarray'>\n",
      "shape: (5,)\n",
      "Array's Data:\n",
      "[0.   0.25 0.5  0.75 1.  ]\n"
     ]
    }
   ],
   "source": [
    "#np.linspace 함수 : start부터 stop의 범위에서 num개를 균일한 간격으로 데이터를 생성하고 배열을 만드는 함수\n",
    "# 요소 개수를 기준으로 균등 간격의 배열을 생성\n",
    "\n",
    "#0부터 1까지 균등하게...5개......\n",
    "a = np.linspace(0, 1, 5)\n",
    "pprint(a)"
   ]
  },
  {
   "cell_type": "code",
   "execution_count": 7,
   "id": "52d09bda",
   "metadata": {},
   "outputs": [
    {
     "data": {
      "image/png": "[encoded data removed]",
      "text/plain": [
       "<Figure size 432x288 with 1 Axes>"
      ]
     },
     "metadata": {
      "needs_background": "light"
     },
     "output_type": "display_data"
    }
   ],
   "source": [
    "# linspace의 데이터 추출 시각화\n",
    "import matplotlib.pyplot as plt\n",
    "plt.plot(a, 'o')\n",
    "plt.show()"
   ]
  },
  {
   "cell_type": "code",
   "execution_count": 10,
   "id": "8f7fcce4",
   "metadata": {},
   "outputs": [
    {
     "name": "stdout",
     "output_type": "stream",
     "text": [
      "type: <class 'numpy.ndarray'>\n",
      "shape: (5,)\n",
      "Array's Data:\n",
      "[0. 2. 4. 6. 8.]\n"
     ]
    }
   ],
   "source": [
    "# np.arange 함수 : start부터 stop 미만까지 step 간격으로 데이터 생성한 후 배열을 만듦\n",
    "#요소의 객수가 아닌 데이터의 간격을 기준으로 배열 생성\n",
    "\n",
    "b = np.arange(0, 10, 2, np.float) #2씩 증가\n",
    "pprint(b)"
   ]
  },
  {
   "cell_type": "code",
   "execution_count": 11,
   "id": "8066a8fa",
   "metadata": {},
   "outputs": [
    {
     "data": {
      "image/png": "[encoded data removed]",
      "text/plain": [
       "<Figure size 432x288 with 1 Axes>"
      ]
     },
     "metadata": {
      "needs_background": "light"
     },
     "output_type": "display_data"
    }
   ],
   "source": [
    "# arange의 데이터 추출 시각화\n",
    "import matplotlib.pyplot as plt\n",
    "plt.plot(b, 'o')\n",
    "plt.show()"
   ]
  },
  {
   "cell_type": "code",
   "execution_count": 12,
   "id": "e638a20d",
   "metadata": {},
   "outputs": [
    {
     "name": "stdout",
     "output_type": "stream",
     "text": [
      "type: <class 'numpy.ndarray'>\n",
      "shape: (20,)\n",
      "Array's Data:\n",
      "[ 1.25892541  1.40400425  1.565802    1.74624535  1.94748304  2.1719114\n",
      "  2.42220294  2.70133812  3.0126409   3.35981829  3.74700446  4.17881006\n",
      "  4.66037703  5.19743987  5.79639395  6.46437163  7.2093272   8.04013161\n",
      "  8.9666781  10.        ]\n"
     ]
    }
   ],
   "source": [
    "# np.logspace 함수 : 로그 스케일로 지정된 범위에서 num 개수만큼 균등 간격으로 데이터 생성한 후 배열 만듦\n",
    "\n",
    "a = np.logspace(0.1, 1, 20, endpoint=True)\n",
    "pprint(a)"
   ]
  },
  {
   "cell_type": "code",
   "execution_count": 13,
   "id": "18e1a33b",
   "metadata": {},
   "outputs": [
    {
     "data": {
      "image/png": "[encoded data removed]",
      "text/plain": [
       "<Figure size 432x288 with 1 Axes>"
      ]
     },
     "metadata": {
      "needs_background": "light"
     },
     "output_type": "display_data"
    }
   ],
   "source": [
    "# logspace의 데이터 추출 시각화\n",
    "import matplotlib.pyplot as plt\n",
    "plt.plot(a, 'o')\n",
    "plt.show()"
   ]
  },
  {
   "cell_type": "markdown",
   "id": "e703c5bf",
   "metadata": {},
   "source": [
    "## 난수 기반 배열 생성\n",
    "\n",
    "NumPy는 난수 발생 및 배열 생성을 생성하는 numpy.random 모듈을 제공\n",
    " - np.random.normal\n",
    " - np.random.rand\n",
    " - np.random.randn\n",
    " - np.random.randint\n",
    " - np.random.random"
   ]
  },
  {
   "cell_type": "code",
   "execution_count": 14,
   "id": "7c239b62",
   "metadata": {},
   "outputs": [
    {
     "name": "stdout",
     "output_type": "stream",
     "text": [
      "type: <class 'numpy.ndarray'>\n",
      "shape: (2, 3)\n",
      "Array's Data:\n",
      "[[ 3.05434021  2.46179455  0.86520924]\n",
      " [-1.23545209  0.52740034  0.92064891]]\n"
     ]
    }
   ],
   "source": [
    "# np.random.normal : 정규 분포 확률 밀도에서 표본 추출\n",
    "\n",
    "mean = 0 # 평균\n",
    "std = 1 #표준편차\n",
    "a = np.random.normal(mean, std, (2, 3))\n",
    "pprint(a)"
   ]
  },
  {
   "cell_type": "code",
   "execution_count": 16,
   "id": "f4827113",
   "metadata": {},
   "outputs": [
    {
     "data": {
      "image/png": "[encoded data removed]",
      "text/plain": [
       "<Figure size 432x288 with 1 Axes>"
      ]
     },
     "metadata": {
      "needs_background": "light"
     },
     "output_type": "display_data"
    }
   ],
   "source": [
    "#평균 0 표준편차 1\n",
    "data = np.random.normal(0,1,10000)\n",
    "\n",
    "#표본 10000개의 배열을 100개 구간으로 구분할 때, 정규 분포 형태\n",
    "plt.hist(data, bins=100)\n",
    "plt.show()"
   ]
  },
  {
   "cell_type": "code",
   "execution_count": 17,
   "id": "2279eb6f",
   "metadata": {},
   "outputs": [
    {
     "name": "stdout",
     "output_type": "stream",
     "text": [
      "type: <class 'numpy.ndarray'>\n",
      "shape: (3, 2)\n",
      "Array's Data:\n",
      "[[0.99952146 0.40474718]\n",
      " [0.55814084 0.7277467 ]\n",
      " [0.24802571 0.26352633]]\n"
     ]
    }
   ],
   "source": [
    "# np.random.rand : 균등 분포(Uniform Distribution) 형상으로 표본 추출\n",
    "# np.random.rand는 균등한 비율로 표본 추출\n",
    "a = np.random.rand(3,2)\n",
    "pprint(a)"
   ]
  },
  {
   "cell_type": "code",
   "execution_count": 21,
   "id": "e7d678d3",
   "metadata": {},
   "outputs": [
    {
     "data": {
      "image/png": "[encoded data removed]",
      "text/plain": [
       "<Figure size 432x288 with 1 Axes>"
      ]
     },
     "metadata": {
      "needs_background": "light"
     },
     "output_type": "display_data"
    }
   ],
   "source": [
    "# 표본 10000개의 배열을 10개 구간으로 구분했을때 균등한 분포 형태\n",
    "data = np.random.rand(10000)\n",
    "plt.hist(data, bins=10)\n",
    "plt.show()"
   ]
  },
  {
   "cell_type": "code",
   "execution_count": 22,
   "id": "7941e93d",
   "metadata": {},
   "outputs": [
    {
     "name": "stdout",
     "output_type": "stream",
     "text": [
      "type: <class 'numpy.ndarray'>\n",
      "shape: (2, 4)\n",
      "Array's Data:\n",
      "[[ 1.68380299  2.01900433  1.64526581  0.16761582]\n",
      " [-0.10142405 -1.8787254   0.69699132  1.31031047]]\n"
     ]
    }
   ],
   "source": [
    "# np.random.randn : 난수: 표준 정규 분포(standard normal distribution)에서 표본 추출\n",
    "a = np.random.randn(2, 4)\n",
    "pprint(a)"
   ]
  },
  {
   "cell_type": "code",
   "execution_count": 24,
   "id": "157d1437",
   "metadata": {},
   "outputs": [
    {
     "data": {
      "image/png": "[encoded data removed]",
      "text/plain": [
       "<Figure size 432x288 with 1 Axes>"
      ]
     },
     "metadata": {
      "needs_background": "light"
     },
     "output_type": "display_data"
    }
   ],
   "source": [
    "#표본 10000개의 배열을 10개 구간으로 구분했을때 정규 분포 형태\n",
    "\n",
    "data = np.random.randn(1000)\n",
    "plt.hist(data, bins=10)\n",
    "plt.show()"
   ]
  },
  {
   "cell_type": "code",
   "execution_count": 25,
   "id": "9baf06a6",
   "metadata": {},
   "outputs": [
    {
     "name": "stdout",
     "output_type": "stream",
     "text": [
      "type: <class 'numpy.ndarray'>\n",
      "shape: (2, 4)\n",
      "Array's Data:\n",
      "[[6 9 9 9]\n",
      " [8 5 9 9]]\n"
     ]
    }
   ],
   "source": [
    "# np.random.randint : 지정된 shape으로 배열을 만들고 low 부터 high 미만의 범위에서 정수 표본 추출\n",
    "a = np.random.randint(5, 10, size=(2, 4))\n",
    "pprint(a)"
   ]
  },
  {
   "cell_type": "code",
   "execution_count": 26,
   "id": "50e9da4f",
   "metadata": {},
   "outputs": [
    {
     "name": "stdout",
     "output_type": "stream",
     "text": [
      "type: <class 'numpy.ndarray'>\n",
      "shape: (10,)\n",
      "Array's Data:\n",
      "[0 0 0 0 0 0 0 0 0 0]\n"
     ]
    }
   ],
   "source": [
    "a = np.random.randint(1, size=10)\n",
    "pprint(a)"
   ]
  },
  {
   "cell_type": "code",
   "execution_count": 27,
   "id": "ae4a7150",
   "metadata": {},
   "outputs": [
    {
     "data": {
      "image/png": "[encoded data removed]",
      "text/plain": [
       "<Figure size 432x288 with 1 Axes>"
      ]
     },
     "metadata": {
      "needs_background": "light"
     },
     "output_type": "display_data"
    }
   ],
   "source": [
    "#  10000개의 배열을 10개 구간으로 구분했을때 균등한 분포 형태\n",
    "\n",
    "data=np.random.randint(-100, 100, 10000)\n",
    "plt.hist(data, bins=10)\n",
    "plt.show()"
   ]
  },
  {
   "cell_type": "code",
   "execution_count": 28,
   "id": "36230e13",
   "metadata": {},
   "outputs": [
    {
     "name": "stdout",
     "output_type": "stream",
     "text": [
      "type: <class 'numpy.ndarray'>\n",
      "shape: (2, 4)\n",
      "Array's Data:\n",
      "[[0.54399458 0.65607904 0.94389119 0.85948263]\n",
      " [0.95682011 0.76430643 0.93162836 0.74478375]]\n"
     ]
    }
   ],
   "source": [
    "# np.ramdom.random : 난수: [0., 1.)의 균등 분포(Uniform Distribution)에서 표본 추출\n",
    "\n",
    "a = np.random.random((2, 4))\n",
    "pprint(a)"
   ]
  },
  {
   "cell_type": "code",
   "execution_count": 29,
   "id": "52d7982b",
   "metadata": {},
   "outputs": [
    {
     "data": {
      "image/png": "[encoded data removed]",
      "text/plain": [
       "<Figure size 432x288 with 1 Axes>"
      ]
     },
     "metadata": {
      "needs_background": "light"
     },
     "output_type": "display_data"
    }
   ],
   "source": [
    "# 표본 10000개의 배열을 10개 구간으로 구분했을때 정규 분포 형태\n",
    "\n",
    "data = np.random.random(100000)\n",
    "plt.hist(data, bins=10)\n",
    "plt.show()"
   ]
  },
  {
   "cell_type": "markdown",
   "id": "90610a04",
   "metadata": {},
   "source": [
    "## 난수 설정\n",
    "random 모듈의 함수는 실행할 때 마다 무작위 수를 반환합니다.\n",
    "\n",
    "난수의 시작점을 설정하는 함수가 np.random.seed "
   ]
  },
  {
   "cell_type": "code",
   "execution_count": 30,
   "id": "fa030d04",
   "metadata": {},
   "outputs": [
    {
     "data": {
      "text/plain": [
       "array([[0.27660074, 0.87695433],\n",
       "       [0.27044469, 0.61721475]])"
      ]
     },
     "execution_count": 30,
     "metadata": {},
     "output_type": "execute_result"
    }
   ],
   "source": [
    "np.random.random((2, 2))"
   ]
  },
  {
   "cell_type": "code",
   "execution_count": 31,
   "id": "311bc943",
   "metadata": {},
   "outputs": [
    {
     "data": {
      "text/plain": [
       "array([[9, 2, 6],\n",
       "       [0, 0, 5]])"
      ]
     },
     "execution_count": 31,
     "metadata": {},
     "output_type": "execute_result"
    }
   ],
   "source": [
    "np.random.randint(0, 10, (2, 3))"
   ]
  },
  {
   "cell_type": "code",
   "execution_count": 32,
   "id": "78ba1a85",
   "metadata": {},
   "outputs": [
    {
     "data": {
      "text/plain": [
       "array([[0.79932961, 0.27537106],\n",
       "       [0.90074736, 0.37531104]])"
      ]
     },
     "execution_count": 32,
     "metadata": {},
     "output_type": "execute_result"
    }
   ],
   "source": [
    "np.random.random((2, 2))"
   ]
  },
  {
   "cell_type": "code",
   "execution_count": 33,
   "id": "a8f42ffb",
   "metadata": {},
   "outputs": [
    {
     "data": {
      "text/plain": [
       "array([[5, 4, 8],\n",
       "       [0, 9, 3]])"
      ]
     },
     "execution_count": 33,
     "metadata": {},
     "output_type": "execute_result"
    }
   ],
   "source": [
    "np.random.randint(0, 10, (2, 3))"
   ]
  },
  {
   "cell_type": "code",
   "execution_count": 40,
   "id": "f067d373",
   "metadata": {},
   "outputs": [
    {
     "data": {
      "text/plain": [
       "array([[0.54340494, 0.27836939],\n",
       "       [0.42451759, 0.84477613]])"
      ]
     },
     "execution_count": 40,
     "metadata": {},
     "output_type": "execute_result"
    }
   ],
   "source": [
    "# seed 값을 설정하여 아래에서 난수가 재연 가능하도록 함\n",
    "np.random.seed(100)\n",
    "np.random.random((2, 2))"
   ]
  },
  {
   "cell_type": "code",
   "execution_count": 41,
   "id": "59c1d5a7",
   "metadata": {},
   "outputs": [
    {
     "data": {
      "text/plain": [
       "array([[4, 2, 5],\n",
       "       [2, 2, 2]])"
      ]
     },
     "execution_count": 41,
     "metadata": {},
     "output_type": "execute_result"
    }
   ],
   "source": [
    "np.random.randint(0, 10, (2, 3))"
   ]
  },
  {
   "cell_type": "code",
   "execution_count": 42,
   "id": "0aa2809b",
   "metadata": {},
   "outputs": [
    {
     "data": {
      "text/plain": [
       "array([[0.54340494, 0.27836939],\n",
       "       [0.42451759, 0.84477613]])"
      ]
     },
     "execution_count": 42,
     "metadata": {},
     "output_type": "execute_result"
    }
   ],
   "source": [
    "# seed 값 재설정\n",
    "np.random.seed(100)\n",
    "np.random.random((2, 2))"
   ]
  },
  {
   "cell_type": "code",
   "execution_count": 43,
   "id": "0cf8cdf1",
   "metadata": {},
   "outputs": [
    {
     "data": {
      "text/plain": [
       "array([[4, 2, 5],\n",
       "       [2, 2, 2]])"
      ]
     },
     "execution_count": 43,
     "metadata": {},
     "output_type": "execute_result"
    }
   ],
   "source": [
    "np.random.randint(0, 10, (2, 3))"
   ]
  },
  {
   "cell_type": "markdown",
   "id": "e0a56178",
   "metadata": {},
   "source": [
    "# NumPy 입출력"
   ]
  },
  {
   "cell_type": "code",
   "execution_count": 44,
   "id": "99555047",
   "metadata": {},
   "outputs": [
    {
     "name": "stdout",
     "output_type": "stream",
     "text": [
      "type: <class 'numpy.ndarray'>\n",
      "shape: (2, 3)\n",
      "Array's Data:\n",
      "[[1 0 8]\n",
      " [4 0 9]]\n",
      "type: <class 'numpy.ndarray'>\n",
      "shape: (2, 3)\n",
      "Array's Data:\n",
      "[[6 2 4]\n",
      " [1 5 3]]\n"
     ]
    }
   ],
   "source": [
    "a = np.random.randint(0, 10, (2, 3))\n",
    "b = np.random.randint(0, 10, (2, 3))\n",
    "pprint(a)\n",
    "pprint(b)"
   ]
  },
  {
   "cell_type": "code",
   "execution_count": 46,
   "id": "e817e6b8",
   "metadata": {},
   "outputs": [],
   "source": [
    "# np.save 함수와 np.savez 함수를 이용\n",
    "# 1개 파일 저장"
   ]
  },
  {
   "cell_type": "code",
   "execution_count": 47,
   "id": "9a5ad8bb",
   "metadata": {},
   "outputs": [],
   "source": [
    "#a배열을 저장함\n",
    "np.save(\"C:/Users/pc/Main/Data_Analysis/numpy/my_array_1\", a)"
   ]
  },
  {
   "cell_type": "code",
   "execution_count": 53,
   "id": "3c887c7c",
   "metadata": {},
   "outputs": [],
   "source": [
    "# a배열 파일에 저장\n",
    "np.save(\"./my_array1\", a)"
   ]
  },
  {
   "cell_type": "code",
   "execution_count": 56,
   "id": "43d35bdd",
   "metadata": {},
   "outputs": [],
   "source": [
    "# a, b 두 개 배열을 파일에 저장\n",
    "np.savez(\"./numpy/my_array2\", a, b)"
   ]
  },
  {
   "cell_type": "markdown",
   "id": "7b86da0c",
   "metadata": {},
   "source": [
    "## npy와 npz 파일은 np.load 함수로 읽을 수 있음"
   ]
  },
  {
   "cell_type": "code",
   "execution_count": 58,
   "id": "a2079973",
   "metadata": {},
   "outputs": [
    {
     "data": {
      "text/plain": [
       "array([[1, 0, 8],\n",
       "       [4, 0, 9]])"
      ]
     },
     "execution_count": 58,
     "metadata": {},
     "output_type": "execute_result"
    }
   ],
   "source": [
    "# 1개 배열 로딩\n",
    "np.load(\"./my_array1.npy\")"
   ]
  },
  {
   "cell_type": "code",
   "execution_count": 60,
   "id": "410149d3",
   "metadata": {},
   "outputs": [
    {
     "data": {
      "text/plain": [
       "['arr_0', 'arr_1']"
      ]
     },
     "execution_count": 60,
     "metadata": {},
     "output_type": "execute_result"
    }
   ],
   "source": [
    "# 복수 파일 로딩\n",
    "npzfiles = np.load(\"./numpy/my_array2.npz\")\n",
    "npzfiles.files"
   ]
  },
  {
   "cell_type": "code",
   "execution_count": 62,
   "id": "e88a4845",
   "metadata": {},
   "outputs": [
    {
     "data": {
      "text/plain": [
       "array([[1, 0, 8],\n",
       "       [4, 0, 9]])"
      ]
     },
     "execution_count": 62,
     "metadata": {},
     "output_type": "execute_result"
    }
   ],
   "source": [
    "npzfiles['arr_0']"
   ]
  },
  {
   "cell_type": "markdown",
   "id": "67813e6d",
   "metadata": {},
   "source": [
    "## 텍스트 파일을 np.loadtxt 로 로딩"
   ]
  },
  {
   "cell_type": "code",
   "execution_count": null,
   "id": "3c273f16",
   "metadata": {},
   "outputs": [],
   "source": [
    "# 문자열을 포함하는 텍스트 파일 로딩\n",
    "# dtype에 dict 형식으로 데이터 타입 지정\n",
    "data = np.loadtxt(\"./data/president_height.csv\", delimiter=\",\", skiprows=1, dtype={\n",
    "  'names': (\"order\",\"name\",\"height\"),\n",
    "  'formats':('i', 'S20', 'f')\n",
    "})\n",
    "# 배열 데이터 출력\n",
    "data[:3]"
   ]
  },
  {
   "cell_type": "code",
   "execution_count": 91,
   "id": "ba13316d",
   "metadata": {},
   "outputs": [
    {
     "data": {
      "text/html": [
       "<div>\n",
       "<style scoped>\n",
       "    .dataframe tbody tr th:only-of-type {\n",
       "        vertical-align: middle;\n",
       "    }\n",
       "\n",
       "    .dataframe tbody tr th {\n",
       "        vertical-align: top;\n",
       "    }\n",
       "\n",
       "    .dataframe thead th {\n",
       "        text-align: right;\n",
       "    }\n",
       "</style>\n",
       "<table border=\"1\" class=\"dataframe\">\n",
       "  <thead>\n",
       "    <tr style=\"text-align: right;\">\n",
       "      <th></th>\n",
       "      <th>군구별(1)</th>\n",
       "      <th>합계_사업체수 (개)</th>\n",
       "      <th>합계여성대표자 사업체수 (개)</th>\n",
       "      <th>합계종사자수 (명)</th>\n",
       "      <th>합계남성 종사자수 (명)</th>\n",
       "      <th>합계_여성 종사자수 (명)</th>\n",
       "      <th>농업 임업 및 어업_사업체수 (개)</th>\n",
       "      <th>농업 임업 및 어업_종사자수 (명)</th>\n",
       "      <th>광업_사업체수 (개)</th>\n",
       "      <th>광업_종사자수 (명)</th>\n",
       "      <th>...</th>\n",
       "      <th>공공행정 국방 및 사회보장행정_사업체수 (개)</th>\n",
       "      <th>공공행정 국방 및 사회보장행정_종사자수 (명)</th>\n",
       "      <th>교육서비스업_사업체수 (개)</th>\n",
       "      <th>교육서비스업_종사자수 (명)</th>\n",
       "      <th>보건업 및 사회복지 서비스업_사업체수 (개)</th>\n",
       "      <th>보건업 및 사회복지 서비스업_종사자수 (명)</th>\n",
       "      <th>예술 스포츠 및 여가 관련 서비스업_사업체수 (개)</th>\n",
       "      <th>예술 스포츠 및 여가 관련 서비스업_종사자수 (명)</th>\n",
       "      <th>협회 및 단체 수리 및 기타 개인서비스업_사업체수 (개)</th>\n",
       "      <th>협회 및 단체 수리 및 기타 개인서비스업_종사자수 (명)</th>\n",
       "    </tr>\n",
       "  </thead>\n",
       "  <tbody>\n",
       "    <tr>\n",
       "      <th>0</th>\n",
       "      <td>중  구</td>\n",
       "      <td>13589</td>\n",
       "      <td>4972</td>\n",
       "      <td>103973</td>\n",
       "      <td>62523</td>\n",
       "      <td>41450</td>\n",
       "      <td>3</td>\n",
       "      <td>3</td>\n",
       "      <td>16</td>\n",
       "      <td>310</td>\n",
       "      <td>...</td>\n",
       "      <td>70</td>\n",
       "      <td>7171</td>\n",
       "      <td>372</td>\n",
       "      <td>3777</td>\n",
       "      <td>329</td>\n",
       "      <td>6119</td>\n",
       "      <td>369</td>\n",
       "      <td>3403</td>\n",
       "      <td>1026</td>\n",
       "      <td>2815</td>\n",
       "    </tr>\n",
       "    <tr>\n",
       "      <th>1</th>\n",
       "      <td>동  구</td>\n",
       "      <td>7875</td>\n",
       "      <td>2320</td>\n",
       "      <td>35238</td>\n",
       "      <td>23831</td>\n",
       "      <td>11407</td>\n",
       "      <td>1</td>\n",
       "      <td>2</td>\n",
       "      <td>0</td>\n",
       "      <td>0</td>\n",
       "      <td>...</td>\n",
       "      <td>24</td>\n",
       "      <td>1207</td>\n",
       "      <td>142</td>\n",
       "      <td>1673</td>\n",
       "      <td>222</td>\n",
       "      <td>3378</td>\n",
       "      <td>94</td>\n",
       "      <td>382</td>\n",
       "      <td>593</td>\n",
       "      <td>1370</td>\n",
       "    </tr>\n",
       "    <tr>\n",
       "      <th>2</th>\n",
       "      <td>미추홀구</td>\n",
       "      <td>28017</td>\n",
       "      <td>11207</td>\n",
       "      <td>125290</td>\n",
       "      <td>63448</td>\n",
       "      <td>61842</td>\n",
       "      <td>1</td>\n",
       "      <td>6</td>\n",
       "      <td>0</td>\n",
       "      <td>0</td>\n",
       "      <td>...</td>\n",
       "      <td>64</td>\n",
       "      <td>5691</td>\n",
       "      <td>972</td>\n",
       "      <td>10435</td>\n",
       "      <td>999</td>\n",
       "      <td>15539</td>\n",
       "      <td>1016</td>\n",
       "      <td>2549</td>\n",
       "      <td>3338</td>\n",
       "      <td>6863</td>\n",
       "    </tr>\n",
       "    <tr>\n",
       "      <th>3</th>\n",
       "      <td>연수구</td>\n",
       "      <td>19802</td>\n",
       "      <td>8115</td>\n",
       "      <td>119825</td>\n",
       "      <td>64224</td>\n",
       "      <td>55601</td>\n",
       "      <td>0</td>\n",
       "      <td>0</td>\n",
       "      <td>1</td>\n",
       "      <td>4</td>\n",
       "      <td>...</td>\n",
       "      <td>36</td>\n",
       "      <td>3121</td>\n",
       "      <td>1421</td>\n",
       "      <td>14110</td>\n",
       "      <td>880</td>\n",
       "      <td>9939</td>\n",
       "      <td>822</td>\n",
       "      <td>2876</td>\n",
       "      <td>1985</td>\n",
       "      <td>4222</td>\n",
       "    </tr>\n",
       "    <tr>\n",
       "      <th>4</th>\n",
       "      <td>남동구</td>\n",
       "      <td>41071</td>\n",
       "      <td>14636</td>\n",
       "      <td>235674</td>\n",
       "      <td>133081</td>\n",
       "      <td>102593</td>\n",
       "      <td>3</td>\n",
       "      <td>5</td>\n",
       "      <td>0</td>\n",
       "      <td>0</td>\n",
       "      <td>...</td>\n",
       "      <td>60</td>\n",
       "      <td>7764</td>\n",
       "      <td>1574</td>\n",
       "      <td>12842</td>\n",
       "      <td>1524</td>\n",
       "      <td>23684</td>\n",
       "      <td>1327</td>\n",
       "      <td>3884</td>\n",
       "      <td>3806</td>\n",
       "      <td>7878</td>\n",
       "    </tr>\n",
       "  </tbody>\n",
       "</table>\n",
       "<p>5 rows × 44 columns</p>\n",
       "</div>"
      ],
      "text/plain": [
       "  군구별(1)  합계_사업체수 (개)  합계여성대표자 사업체수 (개)  합계종사자수 (명)  합계남성 종사자수 (명)  \\\n",
       "0   중  구        13589              4972      103973          62523   \n",
       "1   동  구         7875              2320       35238          23831   \n",
       "2   미추홀구        28017             11207      125290          63448   \n",
       "3    연수구        19802              8115      119825          64224   \n",
       "4    남동구        41071             14636      235674         133081   \n",
       "\n",
       "   합계_여성 종사자수 (명)  농업 임업 및 어업_사업체수 (개)  농업 임업 및 어업_종사자수 (명)  광업_사업체수 (개)  \\\n",
       "0           41450                    3                    3           16   \n",
       "1           11407                    1                    2            0   \n",
       "2           61842                    1                    6            0   \n",
       "3           55601                    0                    0            1   \n",
       "4          102593                    3                    5            0   \n",
       "\n",
       "   광업_종사자수 (명)  ...  공공행정 국방 및 사회보장행정_사업체수 (개)  공공행정 국방 및 사회보장행정_종사자수 (명)  \\\n",
       "0          310  ...                         70                       7171   \n",
       "1            0  ...                         24                       1207   \n",
       "2            0  ...                         64                       5691   \n",
       "3            4  ...                         36                       3121   \n",
       "4            0  ...                         60                       7764   \n",
       "\n",
       "   교육서비스업_사업체수 (개)  교육서비스업_종사자수 (명)  보건업 및 사회복지 서비스업_사업체수 (개)  \\\n",
       "0              372             3777                       329   \n",
       "1              142             1673                       222   \n",
       "2              972            10435                       999   \n",
       "3             1421            14110                       880   \n",
       "4             1574            12842                      1524   \n",
       "\n",
       "   보건업 및 사회복지 서비스업_종사자수 (명)  예술 스포츠 및 여가 관련 서비스업_사업체수 (개)  \\\n",
       "0                      6119                           369   \n",
       "1                      3378                            94   \n",
       "2                     15539                          1016   \n",
       "3                      9939                           822   \n",
       "4                     23684                          1327   \n",
       "\n",
       "   예술 스포츠 및 여가 관련 서비스업_종사자수 (명)  협회 및 단체 수리 및 기타 개인서비스업_사업체수 (개)  \\\n",
       "0                          3403                             1026   \n",
       "1                           382                              593   \n",
       "2                          2549                             3338   \n",
       "3                          2876                             1985   \n",
       "4                          3884                             3806   \n",
       "\n",
       "   협회 및 단체 수리 및 기타 개인서비스업_종사자수 (명)  \n",
       "0                             2815  \n",
       "1                             1370  \n",
       "2                             6863  \n",
       "3                             4222  \n",
       "4                             7878  \n",
       "\n",
       "[5 rows x 44 columns]"
      ]
     },
     "execution_count": 91,
     "metadata": {},
     "output_type": "execute_result"
    }
   ],
   "source": [
    "import pandas as pd\n",
    "data=pd.read_csv(\"C:/Users/pc/Downloads/인천광역시_산업별 사업체수 및 종사자수 현황_20191231.csv\", encoding='CP949')\n",
    "data.head()"
   ]
  },
  {
   "cell_type": "markdown",
   "id": "586c4baf",
   "metadata": {},
   "source": [
    "## 데이터 형변환"
   ]
  },
  {
   "cell_type": "code",
   "execution_count": 93,
   "id": "c89874c9",
   "metadata": {},
   "outputs": [
    {
     "data": {
      "text/plain": [
       "array([[[0.85239509, 0.97500649, 0.88485329],\n",
       "        [0.35950784, 0.59885895, 0.35479561]],\n",
       "\n",
       "       [[0.34019022, 0.17808099, 0.23769421],\n",
       "        [0.04486228, 0.50543143, 0.37625245]],\n",
       "\n",
       "       [[0.5928054 , 0.62994188, 0.14260031],\n",
       "        [0.9338413 , 0.94637988, 0.60229666]],\n",
       "\n",
       "       [[0.38776628, 0.363188  , 0.20434528],\n",
       "        [0.27676506, 0.24653588, 0.173608  ]],\n",
       "\n",
       "       [[0.96660969, 0.9570126 , 0.59797368],\n",
       "        [0.73130075, 0.34038522, 0.0920556 ]]])"
      ]
     },
     "execution_count": 93,
     "metadata": {},
     "output_type": "execute_result"
    }
   ],
   "source": [
    "# np.ramdom.random : 난수: [0., 1.)의 균등 분포(Uniform Distribution)에서 표본 추출\n",
    "arr=np.random.random((5,2,3))\n",
    "arr"
   ]
  },
  {
   "cell_type": "code",
   "execution_count": 94,
   "id": "65256fb7",
   "metadata": {},
   "outputs": [
    {
     "data": {
      "text/plain": [
       "numpy.ndarray"
      ]
     },
     "execution_count": 94,
     "metadata": {},
     "output_type": "execute_result"
    }
   ],
   "source": [
    "type(arr)"
   ]
  },
  {
   "cell_type": "code",
   "execution_count": 95,
   "id": "dfe83155",
   "metadata": {},
   "outputs": [
    {
     "data": {
      "text/plain": [
       "(5, 2, 3)"
      ]
     },
     "execution_count": 95,
     "metadata": {},
     "output_type": "execute_result"
    }
   ],
   "source": [
    "arr.shape"
   ]
  },
  {
   "cell_type": "code",
   "execution_count": 96,
   "id": "6b49bf91",
   "metadata": {},
   "outputs": [
    {
     "data": {
      "text/plain": [
       "5"
      ]
     },
     "execution_count": 96,
     "metadata": {},
     "output_type": "execute_result"
    }
   ],
   "source": [
    "len(arr)"
   ]
  },
  {
   "cell_type": "code",
   "execution_count": 97,
   "id": "cee4d71f",
   "metadata": {},
   "outputs": [
    {
     "data": {
      "text/plain": [
       "3"
      ]
     },
     "execution_count": 97,
     "metadata": {},
     "output_type": "execute_result"
    }
   ],
   "source": [
    "#차원\n",
    "arr.ndim"
   ]
  },
  {
   "cell_type": "code",
   "execution_count": 98,
   "id": "4a9f38c2",
   "metadata": {},
   "outputs": [
    {
     "data": {
      "text/plain": [
       "30"
      ]
     },
     "execution_count": 98,
     "metadata": {},
     "output_type": "execute_result"
    }
   ],
   "source": [
    "#배열의 요소 수\n",
    "arr.size"
   ]
  },
  {
   "cell_type": "code",
   "execution_count": 100,
   "id": "15e209ea",
   "metadata": {},
   "outputs": [
    {
     "data": {
      "text/plain": [
       "dtype('float64')"
      ]
     },
     "execution_count": 100,
     "metadata": {},
     "output_type": "execute_result"
    }
   ],
   "source": [
    "arr.dtype"
   ]
  },
  {
   "cell_type": "code",
   "execution_count": 101,
   "id": "f6fcb42c",
   "metadata": {},
   "outputs": [
    {
     "data": {
      "text/plain": [
       "'float64'"
      ]
     },
     "execution_count": 101,
     "metadata": {},
     "output_type": "execute_result"
    }
   ],
   "source": [
    "arr.dtype.name"
   ]
  },
  {
   "cell_type": "code",
   "execution_count": 102,
   "id": "c6142ca9",
   "metadata": {},
   "outputs": [
    {
     "data": {
      "text/plain": [
       "array([[[0, 0, 0],\n",
       "        [0, 0, 0]],\n",
       "\n",
       "       [[0, 0, 0],\n",
       "        [0, 0, 0]],\n",
       "\n",
       "       [[0, 0, 0],\n",
       "        [0, 0, 0]],\n",
       "\n",
       "       [[0, 0, 0],\n",
       "        [0, 0, 0]],\n",
       "\n",
       "       [[0, 0, 0],\n",
       "        [0, 0, 0]]])"
      ]
     },
     "execution_count": 102,
     "metadata": {},
     "output_type": "execute_result"
    }
   ],
   "source": [
    "#배열의 요소를  int값으로 변환함\n",
    "arr.astype(np.int)"
   ]
  },
  {
   "cell_type": "markdown",
   "id": "77353dba",
   "metadata": {},
   "source": [
    "## 배열 연산"
   ]
  },
  {
   "cell_type": "code",
   "execution_count": 105,
   "id": "8a2de4c8",
   "metadata": {},
   "outputs": [
    {
     "name": "stdout",
     "output_type": "stream",
     "text": [
      "type: <class 'numpy.ndarray'>\n",
      "shape: (3, 3)\n",
      "Array's Data:\n",
      "[[1 2 3]\n",
      " [4 5 6]\n",
      " [7 8 9]]\n"
     ]
    }
   ],
   "source": [
    "a = np.arange(1,10).reshape(3,3)\n",
    "pprint(a)"
   ]
  },
  {
   "cell_type": "code",
   "execution_count": 106,
   "id": "e52e0eed",
   "metadata": {},
   "outputs": [
    {
     "name": "stdout",
     "output_type": "stream",
     "text": [
      "type: <class 'numpy.ndarray'>\n",
      "shape: (3, 3)\n",
      "Array's Data:\n",
      "[[9 8 7]\n",
      " [6 5 4]\n",
      " [3 2 1]]\n"
     ]
    }
   ],
   "source": [
    "b = np.arange(9,0,-1).reshape(3,3)\n",
    "pprint(b)"
   ]
  },
  {
   "cell_type": "code",
   "execution_count": 107,
   "id": "4da132eb",
   "metadata": {},
   "outputs": [
    {
     "data": {
      "text/plain": [
       "array([[-8, -6, -4],\n",
       "       [-2,  0,  2],\n",
       "       [ 4,  6,  8]])"
      ]
     },
     "execution_count": 107,
     "metadata": {},
     "output_type": "execute_result"
    }
   ],
   "source": [
    "a-b"
   ]
  },
  {
   "cell_type": "code",
   "execution_count": 108,
   "id": "54a9fc84",
   "metadata": {},
   "outputs": [
    {
     "data": {
      "text/plain": [
       "array([[-8, -6, -4],\n",
       "       [-2,  0,  2],\n",
       "       [ 4,  6,  8]])"
      ]
     },
     "execution_count": 108,
     "metadata": {},
     "output_type": "execute_result"
    }
   ],
   "source": [
    "np.subtract(a,b)"
   ]
  },
  {
   "cell_type": "code",
   "execution_count": 109,
   "id": "5b2f18c9",
   "metadata": {},
   "outputs": [
    {
     "data": {
      "text/plain": [
       "array([[10, 10, 10],\n",
       "       [10, 10, 10],\n",
       "       [10, 10, 10]])"
      ]
     },
     "execution_count": 109,
     "metadata": {},
     "output_type": "execute_result"
    }
   ],
   "source": [
    "a+b"
   ]
  },
  {
   "cell_type": "code",
   "execution_count": 110,
   "id": "9aea33b9",
   "metadata": {},
   "outputs": [
    {
     "data": {
      "text/plain": [
       "array([[10, 10, 10],\n",
       "       [10, 10, 10],\n",
       "       [10, 10, 10]])"
      ]
     },
     "execution_count": 110,
     "metadata": {},
     "output_type": "execute_result"
    }
   ],
   "source": [
    "np.add(a,b)"
   ]
  },
  {
   "cell_type": "code",
   "execution_count": 111,
   "id": "7643deed",
   "metadata": {},
   "outputs": [
    {
     "data": {
      "text/plain": [
       "array([[0.11111111, 0.25      , 0.42857143],\n",
       "       [0.66666667, 1.        , 1.5       ],\n",
       "       [2.33333333, 4.        , 9.        ]])"
      ]
     },
     "execution_count": 111,
     "metadata": {},
     "output_type": "execute_result"
    }
   ],
   "source": [
    "a/b"
   ]
  },
  {
   "cell_type": "code",
   "execution_count": 112,
   "id": "d73dd770",
   "metadata": {},
   "outputs": [
    {
     "data": {
      "text/plain": [
       "array([[0.11111111, 0.25      , 0.42857143],\n",
       "       [0.66666667, 1.        , 1.5       ],\n",
       "       [2.33333333, 4.        , 9.        ]])"
      ]
     },
     "execution_count": 112,
     "metadata": {},
     "output_type": "execute_result"
    }
   ],
   "source": [
    "np.divide(a,b)"
   ]
  },
  {
   "cell_type": "code",
   "execution_count": 113,
   "id": "4f4d49f3",
   "metadata": {},
   "outputs": [
    {
     "data": {
      "text/plain": [
       "array([[ 9, 16, 21],\n",
       "       [24, 25, 24],\n",
       "       [21, 16,  9]])"
      ]
     },
     "execution_count": 113,
     "metadata": {},
     "output_type": "execute_result"
    }
   ],
   "source": [
    "a*b"
   ]
  },
  {
   "cell_type": "code",
   "execution_count": 114,
   "id": "adea57b8",
   "metadata": {},
   "outputs": [
    {
     "data": {
      "text/plain": [
       "array([[ 9, 16, 21],\n",
       "       [24, 25, 24],\n",
       "       [21, 16,  9]])"
      ]
     },
     "execution_count": 114,
     "metadata": {},
     "output_type": "execute_result"
    }
   ],
   "source": [
    "np.multiply(a,b)"
   ]
  },
  {
   "cell_type": "code",
   "execution_count": 115,
   "id": "407da3a3",
   "metadata": {},
   "outputs": [
    {
     "data": {
      "text/plain": [
       "array([[8.10308393e+03, 2.98095799e+03, 1.09663316e+03],\n",
       "       [4.03428793e+02, 1.48413159e+02, 5.45981500e+01],\n",
       "       [2.00855369e+01, 7.38905610e+00, 2.71828183e+00]])"
      ]
     },
     "execution_count": 115,
     "metadata": {},
     "output_type": "execute_result"
    }
   ],
   "source": [
    "#지수\n",
    "np.exp(b)"
   ]
  },
  {
   "cell_type": "code",
   "execution_count": 116,
   "id": "6343e283",
   "metadata": {},
   "outputs": [
    {
     "data": {
      "text/plain": [
       "array([[1.        , 1.41421356, 1.73205081],\n",
       "       [2.        , 2.23606798, 2.44948974],\n",
       "       [2.64575131, 2.82842712, 3.        ]])"
      ]
     },
     "execution_count": 116,
     "metadata": {},
     "output_type": "execute_result"
    }
   ],
   "source": [
    "#제곱근\n",
    "np.sqrt(a)"
   ]
  },
  {
   "cell_type": "code",
   "execution_count": 117,
   "id": "c8064916",
   "metadata": {},
   "outputs": [
    {
     "data": {
      "text/plain": [
       "array([[ 0.84147098,  0.90929743,  0.14112001],\n",
       "       [-0.7568025 , -0.95892427, -0.2794155 ],\n",
       "       [ 0.6569866 ,  0.98935825,  0.41211849]])"
      ]
     },
     "execution_count": 117,
     "metadata": {},
     "output_type": "execute_result"
    }
   ],
   "source": [
    "np.sin(a)"
   ]
  },
  {
   "cell_type": "code",
   "execution_count": 120,
   "id": "5bf59ca6",
   "metadata": {},
   "outputs": [
    {
     "data": {
      "text/plain": [
       "array([[ 0.54030231, -0.41614684, -0.9899925 ],\n",
       "       [-0.65364362,  0.28366219,  0.96017029],\n",
       "       [ 0.75390225, -0.14550003, -0.91113026]])"
      ]
     },
     "execution_count": 120,
     "metadata": {},
     "output_type": "execute_result"
    }
   ],
   "source": [
    "np.cos(a)"
   ]
  },
  {
   "cell_type": "code",
   "execution_count": 121,
   "id": "3c241ae0",
   "metadata": {},
   "outputs": [
    {
     "data": {
      "text/plain": [
       "array([[ 1.55740772, -2.18503986, -0.14254654],\n",
       "       [ 1.15782128, -3.38051501, -0.29100619],\n",
       "       [ 0.87144798, -6.79971146, -0.45231566]])"
      ]
     },
     "execution_count": 121,
     "metadata": {},
     "output_type": "execute_result"
    }
   ],
   "source": [
    "np.tan(a)"
   ]
  },
  {
   "cell_type": "code",
   "execution_count": 122,
   "id": "447d2eb0",
   "metadata": {},
   "outputs": [
    {
     "data": {
      "text/plain": [
       "array([[0.        , 0.69314718, 1.09861229],\n",
       "       [1.38629436, 1.60943791, 1.79175947],\n",
       "       [1.94591015, 2.07944154, 2.19722458]])"
      ]
     },
     "execution_count": 122,
     "metadata": {},
     "output_type": "execute_result"
    }
   ],
   "source": [
    "np.log(a)"
   ]
  },
  {
   "cell_type": "markdown",
   "id": "7f123616",
   "metadata": {},
   "source": [
    "## 비교연산"
   ]
  },
  {
   "cell_type": "code",
   "execution_count": 123,
   "id": "3a2d00c3",
   "metadata": {},
   "outputs": [
    {
     "data": {
      "text/plain": [
       "array([[False, False, False],\n",
       "       [False,  True, False],\n",
       "       [False, False, False]])"
      ]
     },
     "execution_count": 123,
     "metadata": {},
     "output_type": "execute_result"
    }
   ],
   "source": [
    "a==b"
   ]
  },
  {
   "cell_type": "code",
   "execution_count": 124,
   "id": "0c68136d",
   "metadata": {},
   "outputs": [
    {
     "data": {
      "text/plain": [
       "array([[False, False, False],\n",
       "       [False, False,  True],\n",
       "       [ True,  True,  True]])"
      ]
     },
     "execution_count": 124,
     "metadata": {},
     "output_type": "execute_result"
    }
   ],
   "source": [
    "a>b"
   ]
  },
  {
   "cell_type": "code",
   "execution_count": 125,
   "id": "423540d3",
   "metadata": {},
   "outputs": [
    {
     "data": {
      "text/plain": [
       "array([[ True,  True,  True],\n",
       "       [ True, False, False],\n",
       "       [False, False, False]])"
      ]
     },
     "execution_count": 125,
     "metadata": {},
     "output_type": "execute_result"
    }
   ],
   "source": [
    "a<b"
   ]
  },
  {
   "cell_type": "code",
   "execution_count": 128,
   "id": "3ac1eafa",
   "metadata": {},
   "outputs": [
    {
     "data": {
      "text/plain": [
       "False"
      ]
     },
     "execution_count": 128,
     "metadata": {},
     "output_type": "execute_result"
    }
   ],
   "source": [
    "#두 배열 전체 비교하기\n",
    "np.array_equal(a,b)"
   ]
  },
  {
   "cell_type": "markdown",
   "id": "92578202",
   "metadata": {},
   "source": [
    "## 집계함수\n",
    "\n",
    "NumPy의 모든 집계 함수는 집계 함수는 AXIS를 기준으로 계산\n",
    "\n",
    "집계함수에 AXIS를 지정하지 않으면 axis=None입니다. axis=None, 0, 1은 다음과 같은 기준"
   ]
  },
  {
   "cell_type": "code",
   "execution_count": 131,
   "id": "df0cab54",
   "metadata": {},
   "outputs": [
    {
     "name": "stdout",
     "output_type": "stream",
     "text": [
      "type: <class 'numpy.ndarray'>\n",
      "shape: (3, 3)\n",
      "Array's Data:\n",
      "[[1 2 3]\n",
      " [4 5 6]\n",
      " [7 8 9]]\n"
     ]
    }
   ],
   "source": [
    "a = np.arange(1,10).reshape(3,3)\n",
    "pprint(a)"
   ]
  },
  {
   "cell_type": "code",
   "execution_count": 133,
   "id": "9e069ab2",
   "metadata": {},
   "outputs": [
    {
     "data": {
      "text/plain": [
       "(45, 45)"
      ]
     },
     "execution_count": 133,
     "metadata": {},
     "output_type": "execute_result"
    }
   ],
   "source": [
    "#합계\n",
    "a.sum(), np.sum(a)"
   ]
  },
  {
   "cell_type": "code",
   "execution_count": 134,
   "id": "2d0e1afb",
   "metadata": {},
   "outputs": [
    {
     "data": {
      "text/plain": [
       "(array([12, 15, 18]), array([12, 15, 18]))"
      ]
     },
     "execution_count": 134,
     "metadata": {},
     "output_type": "execute_result"
    }
   ],
   "source": [
    "#세로형태로 sum()\n",
    "a.sum(axis=0), np.sum(a, axis=0)"
   ]
  },
  {
   "cell_type": "code",
   "execution_count": 135,
   "id": "f595c289",
   "metadata": {},
   "outputs": [
    {
     "data": {
      "text/plain": [
       "(array([ 6, 15, 24]), array([ 6, 15, 24]))"
      ]
     },
     "execution_count": 135,
     "metadata": {},
     "output_type": "execute_result"
    }
   ],
   "source": [
    "#가로형태로 sum()\n",
    "a.sum(axis=1), np.sum(a, axis=1)"
   ]
  },
  {
   "cell_type": "code",
   "execution_count": 136,
   "id": "f16a3fbb",
   "metadata": {},
   "outputs": [
    {
     "data": {
      "text/plain": [
       "(9, 9)"
      ]
     },
     "execution_count": 136,
     "metadata": {},
     "output_type": "execute_result"
    }
   ],
   "source": [
    "#최대값\n",
    "a.max(), np.max(a)"
   ]
  },
  {
   "cell_type": "code",
   "execution_count": 138,
   "id": "d1ba70c3",
   "metadata": {},
   "outputs": [
    {
     "data": {
      "text/plain": [
       "(array([7, 8, 9]), array([7, 8, 9]))"
      ]
     },
     "execution_count": 138,
     "metadata": {},
     "output_type": "execute_result"
    }
   ],
   "source": [
    "a.max(axis=0), np.max(a, axis=0)"
   ]
  },
  {
   "cell_type": "code",
   "execution_count": 139,
   "id": "4efba89e",
   "metadata": {},
   "outputs": [
    {
     "data": {
      "text/plain": [
       "(array([3, 6, 9]), array([3, 6, 9]))"
      ]
     },
     "execution_count": 139,
     "metadata": {},
     "output_type": "execute_result"
    }
   ],
   "source": [
    "a.max(axis=1), np.max(a, axis=1)"
   ]
  },
  {
   "cell_type": "code",
   "execution_count": 140,
   "id": "7eb04f75",
   "metadata": {},
   "outputs": [
    {
     "data": {
      "text/plain": [
       "(array([ 1,  3,  6, 10, 15, 21, 28, 36, 45], dtype=int32),\n",
       " array([ 1,  3,  6, 10, 15, 21, 28, 36, 45], dtype=int32))"
      ]
     },
     "execution_count": 140,
     "metadata": {},
     "output_type": "execute_result"
    }
   ],
   "source": [
    "#누적 합계\n",
    "a.cumsum(), np.cumsum(a)"
   ]
  },
  {
   "cell_type": "code",
   "execution_count": 141,
   "id": "89e8a822",
   "metadata": {},
   "outputs": [
    {
     "data": {
      "text/plain": [
       "(array([[ 1,  2,  3],\n",
       "        [ 5,  7,  9],\n",
       "        [12, 15, 18]], dtype=int32),\n",
       " array([[ 1,  2,  3],\n",
       "        [ 5,  7,  9],\n",
       "        [12, 15, 18]], dtype=int32))"
      ]
     },
     "execution_count": 141,
     "metadata": {},
     "output_type": "execute_result"
    }
   ],
   "source": [
    "a.cumsum(axis=0), np.cumsum(a, axis=0)"
   ]
  },
  {
   "cell_type": "code",
   "execution_count": 142,
   "id": "7b9b84e8",
   "metadata": {},
   "outputs": [
    {
     "data": {
      "text/plain": [
       "(array([[ 1,  3,  6],\n",
       "        [ 4,  9, 15],\n",
       "        [ 7, 15, 24]], dtype=int32),\n",
       " array([[ 1,  3,  6],\n",
       "        [ 4,  9, 15],\n",
       "        [ 7, 15, 24]], dtype=int32))"
      ]
     },
     "execution_count": 142,
     "metadata": {},
     "output_type": "execute_result"
    }
   ],
   "source": [
    "a.cumsum(axis=1), np.cumsum(a, axis=1)"
   ]
  },
  {
   "cell_type": "code",
   "execution_count": 145,
   "id": "d65dbd5b",
   "metadata": {},
   "outputs": [
    {
     "data": {
      "text/plain": [
       "(5.0, 5.0)"
      ]
     },
     "execution_count": 145,
     "metadata": {},
     "output_type": "execute_result"
    }
   ],
   "source": [
    "# 평균\n",
    "a.mean(), np.mean(a)"
   ]
  },
  {
   "cell_type": "code",
   "execution_count": 146,
   "id": "8546b89f",
   "metadata": {},
   "outputs": [
    {
     "data": {
      "text/plain": [
       "(array([4., 5., 6.]), array([4., 5., 6.]))"
      ]
     },
     "execution_count": 146,
     "metadata": {},
     "output_type": "execute_result"
    }
   ],
   "source": [
    "a.mean(axis=0), np.mean(a, axis=0)"
   ]
  },
  {
   "cell_type": "code",
   "execution_count": 147,
   "id": "f3316d1c",
   "metadata": {},
   "outputs": [
    {
     "data": {
      "text/plain": [
       "(array([2., 5., 8.]), array([2., 5., 8.]))"
      ]
     },
     "execution_count": 147,
     "metadata": {},
     "output_type": "execute_result"
    }
   ],
   "source": [
    "a.mean(axis=1), np.mean(a, axis=1)"
   ]
  },
  {
   "cell_type": "code",
   "execution_count": 148,
   "id": "4e502829",
   "metadata": {},
   "outputs": [
    {
     "data": {
      "text/plain": [
       "5.0"
      ]
     },
     "execution_count": 148,
     "metadata": {},
     "output_type": "execute_result"
    }
   ],
   "source": [
    "# 중앙값\n",
    "np.median(a)"
   ]
  },
  {
   "cell_type": "code",
   "execution_count": 149,
   "id": "96301ffd",
   "metadata": {},
   "outputs": [
    {
     "data": {
      "text/plain": [
       "array([4., 5., 6.])"
      ]
     },
     "execution_count": 149,
     "metadata": {},
     "output_type": "execute_result"
    }
   ],
   "source": [
    "np.mean(a, axis=0)"
   ]
  },
  {
   "cell_type": "code",
   "execution_count": 151,
   "id": "073a71d0",
   "metadata": {},
   "outputs": [
    {
     "data": {
      "text/plain": [
       "array([2., 5., 8.])"
      ]
     },
     "execution_count": 151,
     "metadata": {},
     "output_type": "execute_result"
    }
   ],
   "source": [
    "np.mean(a, axis=1)"
   ]
  },
  {
   "cell_type": "code",
   "execution_count": 152,
   "id": "83080afa",
   "metadata": {},
   "outputs": [
    {
     "data": {
      "text/plain": [
       "array([[1., 1., 1.],\n",
       "       [1., 1., 1.],\n",
       "       [1., 1., 1.]])"
      ]
     },
     "execution_count": 152,
     "metadata": {},
     "output_type": "execute_result"
    }
   ],
   "source": [
    "#상관계수\n",
    "\n",
    "np.corrcoef(a)"
   ]
  },
  {
   "cell_type": "code",
   "execution_count": 154,
   "id": "44a59a53",
   "metadata": {},
   "outputs": [
    {
     "data": {
      "text/plain": [
       "(2.581988897471611, 2.581988897471611)"
      ]
     },
     "execution_count": 154,
     "metadata": {},
     "output_type": "execute_result"
    }
   ],
   "source": [
    "#표준편차\n",
    "a.std(), np.std(a)"
   ]
  },
  {
   "cell_type": "code",
   "execution_count": 155,
   "id": "0a59ee68",
   "metadata": {},
   "outputs": [
    {
     "data": {
      "text/plain": [
       "(array([0.81649658, 0.81649658, 0.81649658]),\n",
       " array([0.81649658, 0.81649658, 0.81649658]))"
      ]
     },
     "execution_count": 155,
     "metadata": {},
     "output_type": "execute_result"
    }
   ],
   "source": [
    "a.std(axis=1), np.std(a, axis=1)"
   ]
  },
  {
   "cell_type": "code",
   "execution_count": 156,
   "id": "778a3f02",
   "metadata": {},
   "outputs": [
    {
     "data": {
      "text/plain": [
       "(array([2.44948974, 2.44948974, 2.44948974]),\n",
       " array([2.44948974, 2.44948974, 2.44948974]))"
      ]
     },
     "execution_count": 156,
     "metadata": {},
     "output_type": "execute_result"
    }
   ],
   "source": [
    "a.std(axis=0), np.std(a, axis=0)"
   ]
  },
  {
   "cell_type": "markdown",
   "id": "552b9b30",
   "metadata": {},
   "source": [
    "## shape이 같은 배열의 연산"
   ]
  },
  {
   "cell_type": "code",
   "execution_count": 160,
   "id": "82437e88",
   "metadata": {},
   "outputs": [
    {
     "name": "stdout",
     "output_type": "stream",
     "text": [
      "type: <class 'numpy.ndarray'>\n",
      "shape: (4, 6)\n",
      "Array's Data:\n",
      "[[ 1  2  3  4  5  6]\n",
      " [ 7  8  9 10 11 12]\n",
      " [13 14 15 16 17 18]\n",
      " [19 20 21 22 23 24]]\n"
     ]
    }
   ],
   "source": [
    "a =  np.arange(1, 25).reshape(4,6)\n",
    "pprint(a)"
   ]
  },
  {
   "cell_type": "code",
   "execution_count": 161,
   "id": "168cc05f",
   "metadata": {},
   "outputs": [
    {
     "name": "stdout",
     "output_type": "stream",
     "text": [
      "type: <class 'numpy.ndarray'>\n",
      "shape: (4, 6)\n",
      "Array's Data:\n",
      "[[25 26 27 28 29 30]\n",
      " [31 32 33 34 35 36]\n",
      " [37 38 39 40 41 42]\n",
      " [43 44 45 46 47 48]]\n"
     ]
    }
   ],
   "source": [
    "b =  np.arange(25, 49).reshape(4,6)\n",
    "pprint(b)"
   ]
  },
  {
   "cell_type": "code",
   "execution_count": 162,
   "id": "1f4e68ce",
   "metadata": {},
   "outputs": [
    {
     "data": {
      "text/plain": [
       "array([[26, 28, 30, 32, 34, 36],\n",
       "       [38, 40, 42, 44, 46, 48],\n",
       "       [50, 52, 54, 56, 58, 60],\n",
       "       [62, 64, 66, 68, 70, 72]])"
      ]
     },
     "execution_count": 162,
     "metadata": {},
     "output_type": "execute_result"
    }
   ],
   "source": [
    "a+b"
   ]
  },
  {
   "cell_type": "code",
   "execution_count": 163,
   "id": "99a5c10f",
   "metadata": {},
   "outputs": [
    {
     "name": "stdout",
     "output_type": "stream",
     "text": [
      "type: <class 'numpy.ndarray'>\n",
      "shape: (4, 6)\n",
      "Array's Data:\n",
      "[[ 1  2  3  4  5  6]\n",
      " [ 7  8  9 10 11 12]\n",
      " [13 14 15 16 17 18]\n",
      " [19 20 21 22 23 24]]\n"
     ]
    }
   ],
   "source": [
    "#데모 생성 배열\n",
    "a = np.arange(1,25).reshape(4,6)\n",
    "pprint(a)"
   ]
  },
  {
   "cell_type": "code",
   "execution_count": 164,
   "id": "63903c8e",
   "metadata": {},
   "outputs": [
    {
     "data": {
      "text/plain": [
       "array([[101, 102, 103, 104, 105, 106],\n",
       "       [107, 108, 109, 110, 111, 112],\n",
       "       [113, 114, 115, 116, 117, 118],\n",
       "       [119, 120, 121, 122, 123, 124]])"
      ]
     },
     "execution_count": 164,
     "metadata": {},
     "output_type": "execute_result"
    }
   ],
   "source": [
    "a+100"
   ]
  },
  {
   "cell_type": "code",
   "execution_count": 166,
   "id": "4fac3505",
   "metadata": {},
   "outputs": [
    {
     "name": "stdout",
     "output_type": "stream",
     "text": [
      "type: <class 'numpy.ndarray'>\n",
      "shape: (4, 6)\n",
      "Array's Data:\n",
      "[[100 100 100 100 100 100]\n",
      " [100 100 100 100 100 100]\n",
      " [100 100 100 100 100 100]\n",
      " [100 100 100 100 100 100]]\n"
     ]
    }
   ],
   "source": [
    "#step01: 스칼라 배열 변경\n",
    "new_arr = np.full_like(a, 100)\n",
    "pprint(new_arr)"
   ]
  },
  {
   "cell_type": "code",
   "execution_count": 169,
   "id": "c130deb6",
   "metadata": {},
   "outputs": [
    {
     "data": {
      "text/plain": [
       "array([[101, 102, 103, 104, 105, 106],\n",
       "       [107, 108, 109, 110, 111, 112],\n",
       "       [113, 114, 115, 116, 117, 118],\n",
       "       [119, 120, 121, 122, 123, 124]])"
      ]
     },
     "execution_count": 169,
     "metadata": {},
     "output_type": "execute_result"
    }
   ],
   "source": [
    "#step02: 배열 이항 연산\n",
    "a+new_arr"
   ]
  },
  {
   "cell_type": "code",
   "execution_count": 174,
   "id": "47c4832f",
   "metadata": {},
   "outputs": [
    {
     "data": {
      "text/plain": [
       "array([[101, 102, 103, 104, 105, 106],\n",
       "       [107, 108, 109, 110, 111, 112],\n",
       "       [113, 114, 115, 116, 117, 118],\n",
       "       [119, 120, 121, 122, 123, 124]])"
      ]
     },
     "execution_count": 174,
     "metadata": {},
     "output_type": "execute_result"
    }
   ],
   "source": [
    "np.add(a,new_arr)"
   ]
  },
  {
   "cell_type": "markdown",
   "id": "27794897",
   "metadata": {},
   "source": [
    "## shape이 다른 두 배열의 연산"
   ]
  },
  {
   "cell_type": "code",
   "execution_count": 176,
   "id": "bf564a84",
   "metadata": {},
   "outputs": [
    {
     "name": "stdout",
     "output_type": "stream",
     "text": [
      "type: <class 'numpy.ndarray'>\n",
      "shape: (1, 5)\n",
      "Array's Data:\n",
      "[[0 1 2 3 4]]\n"
     ]
    }
   ],
   "source": [
    "a = np.arange(5).reshape(1,5)\n",
    "pprint(a)"
   ]
  },
  {
   "cell_type": "code",
   "execution_count": 178,
   "id": "12eece0a",
   "metadata": {},
   "outputs": [
    {
     "name": "stdout",
     "output_type": "stream",
     "text": [
      "type: <class 'numpy.ndarray'>\n",
      "shape: (5, 1)\n",
      "Array's Data:\n",
      "[[0]\n",
      " [1]\n",
      " [2]\n",
      " [3]\n",
      " [4]]\n"
     ]
    }
   ],
   "source": [
    "b = np.arange(5).reshape(5,1)\n",
    "pprint(b)"
   ]
  },
  {
   "cell_type": "code",
   "execution_count": 180,
   "id": "1f0aa5ab",
   "metadata": {},
   "outputs": [
    {
     "data": {
      "text/plain": [
       "array([[0, 1, 2, 3, 4],\n",
       "       [1, 2, 3, 4, 5],\n",
       "       [2, 3, 4, 5, 6],\n",
       "       [3, 4, 5, 6, 7],\n",
       "       [4, 5, 6, 7, 8]])"
      ]
     },
     "execution_count": 180,
     "metadata": {},
     "output_type": "execute_result"
    }
   ],
   "source": [
    "# Broadcasting 과정을 거쳐서 벡터연산 시행\n",
    "a+b"
   ]
  },
  {
   "cell_type": "markdown",
   "id": "892ea72c",
   "metadata": {},
   "source": [
    "## 벡터연산"
   ]
  },
  {
   "cell_type": "code",
   "execution_count": 187,
   "id": "85b1ab6f",
   "metadata": {},
   "outputs": [],
   "source": [
    "import numpy as np\n",
    "# sample array\n",
    "a = np.arange(10000)"
   ]
  },
  {
   "cell_type": "code",
   "execution_count": 188,
   "id": "13403940",
   "metadata": {},
   "outputs": [],
   "source": [
    "result = 0"
   ]
  },
  {
   "cell_type": "code",
   "execution_count": 189,
   "id": "c99217ad",
   "metadata": {},
   "outputs": [
    {
     "name": "stdout",
     "output_type": "stream",
     "text": [
      "Wall time: 4.99 ms\n"
     ]
    }
   ],
   "source": [
    "%%time\n",
    "for v in a:\n",
    "  result += v"
   ]
  },
  {
   "cell_type": "code",
   "execution_count": 190,
   "id": "7436f1ad",
   "metadata": {},
   "outputs": [
    {
     "data": {
      "text/plain": [
       "49995000"
      ]
     },
     "execution_count": 190,
     "metadata": {},
     "output_type": "execute_result"
    }
   ],
   "source": [
    "result"
   ]
  },
  {
   "cell_type": "code",
   "execution_count": 191,
   "id": "fda10a93",
   "metadata": {},
   "outputs": [
    {
     "name": "stdout",
     "output_type": "stream",
     "text": [
      "Wall time: 0 ns\n"
     ]
    }
   ],
   "source": [
    "%%time\n",
    "result = np.sum(a)"
   ]
  },
  {
   "cell_type": "code",
   "execution_count": 192,
   "id": "73198910",
   "metadata": {},
   "outputs": [
    {
     "data": {
      "text/plain": [
       "49995000"
      ]
     },
     "execution_count": 192,
     "metadata": {},
     "output_type": "execute_result"
    }
   ],
   "source": [
    "result"
   ]
  },
  {
   "cell_type": "markdown",
   "id": "30d538b6",
   "metadata": {},
   "source": [
    "## 배열 복사"
   ]
  },
  {
   "cell_type": "code",
   "execution_count": 194,
   "id": "2a0c3008",
   "metadata": {},
   "outputs": [
    {
     "name": "stdout",
     "output_type": "stream",
     "text": [
      "type: <class 'numpy.ndarray'>\n",
      "shape: (3, 3)\n",
      "Array's Data:\n",
      "[[3 2 3]\n",
      " [8 7 1]\n",
      " [5 3 0]]\n"
     ]
    }
   ],
   "source": [
    "a = np.random.randint(0,9,(3,3))\n",
    "pprint(a)"
   ]
  },
  {
   "cell_type": "code",
   "execution_count": 195,
   "id": "6815ac91",
   "metadata": {},
   "outputs": [],
   "source": [
    "copied_a=np.copy(a)"
   ]
  },
  {
   "cell_type": "code",
   "execution_count": 205,
   "id": "2f6cdd35",
   "metadata": {},
   "outputs": [
    {
     "name": "stdout",
     "output_type": "stream",
     "text": [
      "type: <class 'numpy.ndarray'>\n",
      "shape: (3, 3)\n",
      "Array's Data:\n",
      "[[3 2 3]\n",
      " [8 7 1]\n",
      " [5 3 0]]\n"
     ]
    }
   ],
   "source": [
    "copied_a[:0]=0\n",
    "pprint(copied_a) #복사본은 영향을 주지않음..."
   ]
  },
  {
   "cell_type": "code",
   "execution_count": 213,
   "id": "e2dba5ac",
   "metadata": {},
   "outputs": [
    {
     "name": "stdout",
     "output_type": "stream",
     "text": [
      "type: <class 'numpy.ndarray'>\n",
      "shape: (3, 3)\n",
      "Array's Data:\n",
      "[[0 2 3]\n",
      " [0 7 1]\n",
      " [0 3 0]]\n"
     ]
    }
   ],
   "source": [
    "import copy\n",
    "copied_b=a.copy()\n",
    "copied_b[:,0]=0\n",
    "pprint(copied_b)"
   ]
  },
  {
   "cell_type": "markdown",
   "id": "5caed646",
   "metadata": {},
   "source": [
    "## 배열 정렬"
   ]
  },
  {
   "cell_type": "code",
   "execution_count": 203,
   "id": "e722ed41",
   "metadata": {},
   "outputs": [
    {
     "name": "stdout",
     "output_type": "stream",
     "text": [
      "type: <class 'numpy.ndarray'>\n",
      "shape: (3, 3)\n",
      "Array's Data:\n",
      "[[0.17192781 0.50305449 0.05585289]\n",
      " [0.29766707 0.92771357 0.38659638]\n",
      " [0.46212547 0.57862899 0.1139206 ]]\n"
     ]
    }
   ],
   "source": [
    "unsorted_arr=np.random.random((3,3))\n",
    "pprint(unsorted_arr)"
   ]
  },
  {
   "cell_type": "code",
   "execution_count": 204,
   "id": "70b9845b",
   "metadata": {},
   "outputs": [],
   "source": [
    "#데모를 위한 배열 복사\n",
    "unsorted_arr1 = unsorted_arr.copy()\n",
    "unsorted_arr2 = unsorted_arr.copy()\n",
    "unsorted_arr3 = unsorted_arr.copy()"
   ]
  },
  {
   "cell_type": "code",
   "execution_count": 210,
   "id": "8a09710d",
   "metadata": {},
   "outputs": [
    {
     "name": "stdout",
     "output_type": "stream",
     "text": [
      "type: <class 'numpy.ndarray'>\n",
      "shape: (3, 3)\n",
      "Array's Data:\n",
      "[[0.05585289 0.17192781 0.50305449]\n",
      " [0.29766707 0.38659638 0.92771357]\n",
      " [0.1139206  0.46212547 0.57862899]]\n"
     ]
    }
   ],
   "source": [
    "#배열 정렬\n",
    "unsorted_arr1.sort()\n",
    "pprint(unsorted_arr1)"
   ]
  },
  {
   "cell_type": "code",
   "execution_count": 211,
   "id": "09b57494",
   "metadata": {},
   "outputs": [
    {
     "name": "stdout",
     "output_type": "stream",
     "text": [
      "type: <class 'numpy.ndarray'>\n",
      "shape: (3, 3)\n",
      "Array's Data:\n",
      "[[0.17192781 0.50305449 0.05585289]\n",
      " [0.29766707 0.57862899 0.1139206 ]\n",
      " [0.46212547 0.92771357 0.38659638]]\n"
     ]
    }
   ],
   "source": [
    "#배열 정렬, axis=0\n",
    "unsorted_arr2.sort(axis=0)\n",
    "pprint(unsorted_arr2)"
   ]
  },
  {
   "cell_type": "code",
   "execution_count": 212,
   "id": "c112fcf9",
   "metadata": {},
   "outputs": [
    {
     "name": "stdout",
     "output_type": "stream",
     "text": [
      "type: <class 'numpy.ndarray'>\n",
      "shape: (3, 3)\n",
      "Array's Data:\n",
      "[[0.05585289 0.17192781 0.50305449]\n",
      " [0.29766707 0.38659638 0.92771357]\n",
      " [0.1139206  0.46212547 0.57862899]]\n"
     ]
    }
   ],
   "source": [
    "#배열 정렬, axis=1\n",
    "unsorted_arr3.sort(axis=1)\n",
    "pprint(unsorted_arr3)"
   ]
  },
  {
   "cell_type": "markdown",
   "id": "99fedd15",
   "metadata": {},
   "source": [
    "## 인덱싱"
   ]
  },
  {
   "cell_type": "code",
   "execution_count": 217,
   "id": "ceb4b4e8",
   "metadata": {},
   "outputs": [
    {
     "name": "stdout",
     "output_type": "stream",
     "text": [
      "type: <class 'numpy.ndarray'>\n",
      "shape: (24,)\n",
      "Array's Data:\n",
      "[ 0  1  2  3  4  5  6  7  8  9 10 11 12 13 14 15 16 17 18 19 20 21 22 23]\n",
      "type: <class 'numpy.ndarray'>\n",
      "shape: (4, 6)\n",
      "Array's Data:\n",
      "[[ 0  1  2  3  4  5]\n",
      " [ 6  7  8  9 10 11]\n",
      " [12 13 14 15 16 17]\n",
      " [18 19 20 21 22 23]]\n",
      "type: <class 'numpy.ndarray'>\n",
      "shape: (2, 4, 3)\n",
      "Array's Data:\n",
      "[[[ 0  1  2]\n",
      "  [ 3  4  5]\n",
      "  [ 6  7  8]\n",
      "  [ 9 10 11]]\n",
      "\n",
      " [[12 13 14]\n",
      "  [15 16 17]\n",
      "  [18 19 20]\n",
      "  [21 22 23]]]\n"
     ]
    }
   ],
   "source": [
    "a0 = np.arange(24)\n",
    "pprint(a0)\n",
    "a1 = np.arange(24).reshape((4,6))\n",
    "pprint(a1)\n",
    "a2 = np.arange(24).reshape((2,4,3))\n",
    "pprint(a2)                          "
   ]
  },
  {
   "cell_type": "code",
   "execution_count": 218,
   "id": "0b45c35f",
   "metadata": {},
   "outputs": [
    {
     "name": "stdout",
     "output_type": "stream",
     "text": [
      "type: <class 'numpy.ndarray'>\n",
      "shape: (4, 6)\n",
      "Array's Data:\n",
      "[[ 0  1  2  3  4  5]\n",
      " [ 6  7  8  9 10 11]\n",
      " [12 13 14 15 16 17]\n",
      " [18 19 20 21 22 23]]\n"
     ]
    }
   ],
   "source": [
    "pprint(a1)"
   ]
  },
  {
   "cell_type": "code",
   "execution_count": 219,
   "id": "6ba5700a",
   "metadata": {},
   "outputs": [
    {
     "data": {
      "text/plain": [
       "array([[     0, 100000,      2,      3,      4,      5],\n",
       "       [     6,      7,      8,      9,     10,     11],\n",
       "       [    12,     13,     14,     15,     16,     17],\n",
       "       [    18,     19,     20,     21,     22,     23]])"
      ]
     },
     "execution_count": 219,
     "metadata": {},
     "output_type": "execute_result"
    }
   ],
   "source": [
    "a1[0,1]=100000\n",
    "a1"
   ]
  },
  {
   "cell_type": "code",
   "execution_count": 220,
   "id": "6d834e9e",
   "metadata": {},
   "outputs": [
    {
     "data": {
      "text/plain": [
       "array([[[ 0,  1,  2],\n",
       "        [ 3,  4,  5],\n",
       "        [ 6,  7,  8],\n",
       "        [ 9, 10, 11]],\n",
       "\n",
       "       [[12, 13, 14],\n",
       "        [15, 16, 17],\n",
       "        [18, 19, 20],\n",
       "        [21, 22, 23]]])"
      ]
     },
     "execution_count": 220,
     "metadata": {},
     "output_type": "execute_result"
    }
   ],
   "source": [
    "#3차원 배열의 인덱스\n",
    "a2"
   ]
  },
  {
   "cell_type": "code",
   "execution_count": 221,
   "id": "236289e8",
   "metadata": {},
   "outputs": [
    {
     "data": {
      "text/plain": [
       "array([[[     0,      1,      2],\n",
       "        [     3,      4,      5],\n",
       "        [     6,      7,      8],\n",
       "        [     9,     10,     11]],\n",
       "\n",
       "       [[    12,     13,     14],\n",
       "        [    15, 161616,     17],\n",
       "        [    18,     19,     20],\n",
       "        [    21,     22,     23]]])"
      ]
     },
     "execution_count": 221,
     "metadata": {},
     "output_type": "execute_result"
    }
   ],
   "source": [
    "a2[1,1,1]=161616\n",
    "a2"
   ]
  },
  {
   "cell_type": "code",
   "execution_count": 222,
   "id": "5e316e5f",
   "metadata": {},
   "outputs": [
    {
     "data": {
      "text/plain": [
       "array([[[     0,      1,      2],\n",
       "        [     3,      4,      5],\n",
       "        [     6,      7,      8],\n",
       "        [     9,     10, 111111]],\n",
       "\n",
       "       [[    12,     13,     14],\n",
       "        [    15, 161616,     17],\n",
       "        [    18,     19,     20],\n",
       "        [    21,     22,     23]]])"
      ]
     },
     "execution_count": 222,
     "metadata": {},
     "output_type": "execute_result"
    }
   ],
   "source": [
    "a2[0,3,2]=111111\n",
    "a2"
   ]
  },
  {
   "cell_type": "code",
   "execution_count": 223,
   "id": "75fef8f0",
   "metadata": {},
   "outputs": [
    {
     "data": {
      "text/plain": [
       "array([[[     0,      1,      2],\n",
       "        [     3,      4,      5],\n",
       "        [     6,      7,      8],\n",
       "        [     9,     10, 111111]],\n",
       "\n",
       "       [[    12,     13,     14],\n",
       "        [    15, 161616,     17],\n",
       "        [    18,     19,     20],\n",
       "        [    21, 222222,     23]]])"
      ]
     },
     "execution_count": 223,
     "metadata": {},
     "output_type": "execute_result"
    }
   ],
   "source": [
    "a2[-1,-1,-2]=222222\n",
    "a2"
   ]
  },
  {
   "cell_type": "markdown",
   "id": "7e6bd8f9",
   "metadata": {},
   "source": [
    "## 슬라이싱"
   ]
  },
  {
   "cell_type": "code",
   "execution_count": 235,
   "id": "65685fb1",
   "metadata": {},
   "outputs": [
    {
     "name": "stdout",
     "output_type": "stream",
     "text": [
      "type: <class 'numpy.ndarray'>\n",
      "shape: (3, 8)\n",
      "Array's Data:\n",
      "[[ 0  1  2  3  4  5  6  7]\n",
      " [ 8  9 10 11 12 13 14 15]\n",
      " [16 17 18 19 20 21 22 23]]\n"
     ]
    }
   ],
   "source": [
    "a = np.arange(24).reshape(3,-1)\n",
    "pprint(a)"
   ]
  },
  {
   "cell_type": "code",
   "execution_count": 236,
   "id": "2e72e62a",
   "metadata": {},
   "outputs": [
    {
     "data": {
      "text/plain": [
       "array([[    0,     1,     2, 10000, 10000,     5,     6,     7],\n",
       "       [    8,     9,    10, 10000, 10000,    13,    14,    15],\n",
       "       [   16,    17,    18, 10000, 10000,    21,    22,    23]])"
      ]
     },
     "execution_count": 236,
     "metadata": {},
     "output_type": "execute_result"
    }
   ],
   "source": [
    "a[:,3:5]=10000\n",
    "a"
   ]
  },
  {
   "cell_type": "code",
   "execution_count": 237,
   "id": "38214fcb",
   "metadata": {},
   "outputs": [
    {
     "data": {
      "text/plain": [
       "array([[    0,     1,     2,     3,     4,     5,     6,     7],\n",
       "       [    8,     9,    10, 10000, 10000,    13,    14,    15],\n",
       "       [   16,    17,    18, 10000, 10000,    21,    22,    23]])"
      ]
     },
     "execution_count": 237,
     "metadata": {},
     "output_type": "execute_result"
    }
   ],
   "source": [
    "a[0:1,3:5]=3,4\n",
    "a"
   ]
  },
  {
   "cell_type": "code",
   "execution_count": 238,
   "id": "3aeb6dc2",
   "metadata": {},
   "outputs": [
    {
     "data": {
      "text/plain": [
       "array([[    0,     1,     2,     3,     4,     5,     6,     7],\n",
       "       [    8,     9,    10, 10000, 10000,    13,    14,    15],\n",
       "       [   16,    17,    18,    19,    20,    21,    22,    23]])"
      ]
     },
     "execution_count": 238,
     "metadata": {},
     "output_type": "execute_result"
    }
   ],
   "source": [
    "a[2:,3:5]=19,20\n",
    "a"
   ]
  },
  {
   "cell_type": "code",
   "execution_count": 242,
   "id": "c066a49f",
   "metadata": {},
   "outputs": [
    {
     "name": "stdout",
     "output_type": "stream",
     "text": [
      "type: <class 'numpy.ndarray'>\n",
      "shape: (3, 8)\n",
      "Array's Data:\n",
      "[[ 0  1  2  3  4  5  6  7]\n",
      " [ 8  9 10 11 12 13 14 15]\n",
      " [16 17 18 19 20 21 22 23]]\n"
     ]
    }
   ],
   "source": [
    "b = np.arange(24).reshape(3,-1)\n",
    "pprint(b)"
   ]
  },
  {
   "cell_type": "code",
   "execution_count": 244,
   "id": "5e898f0a",
   "metadata": {},
   "outputs": [
    {
     "data": {
      "text/plain": [
       "array([[   0,    1,    2,    3,    4,    5,    6,    7],\n",
       "       [   8,    9,   10,   11,   12, 1300, 1400,   15],\n",
       "       [  16,   17,   18,   19,   20,   21,   22,   23]])"
      ]
     },
     "execution_count": 244,
     "metadata": {},
     "output_type": "execute_result"
    }
   ],
   "source": [
    "b[1:2,-3:-1]=b[1:2,-3:-1]*100\n",
    "b"
   ]
  },
  {
   "cell_type": "code",
   "execution_count": null,
   "id": "4339fb31",
   "metadata": {},
   "outputs": [],
   "source": []
  }
 ],
 "metadata": {
  "kernelspec": {
   "display_name": "Python 3",
   "language": "python",
   "name": "python3"
  },
  "language_info": {
   "codemirror_mode": {
    "name": "ipython",
    "version": 3
   },
   "file_extension": ".py",
   "mimetype": "text/x-python",
   "name": "python",
   "nbconvert_exporter": "python",
   "pygments_lexer": "ipython3",
   "version": "3.7.10"
  }
 },
 "nbformat": 4,
 "nbformat_minor": 5
}
