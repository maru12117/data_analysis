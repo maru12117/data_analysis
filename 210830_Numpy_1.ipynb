{
 "cells": [
  {
   "cell_type": "code",
   "execution_count": 4,
   "id": "627f4994",
   "metadata": {},
   "outputs": [
    {
     "name": "stdout",
     "output_type": "stream",
     "text": [
      "================================\n",
      "1. 친구 리스트 출력\n",
      "2. 친구 추가\n",
      "3. 친구 삭제\n",
      "4. 이름 변경\n",
      "9. 종료\n",
      "메뉴를 입력하세요 : 9\n"
     ]
    }
   ],
   "source": [
    "friend_list=[]\n",
    "while True:\n",
    "    print(\"================================\")\n",
    "    print(\"1. 친구 리스트 출력\")\n",
    "    print(\"2. 친구 추가\")\n",
    "    print(\"3. 친구 삭제\")\n",
    "    print(\"4. 이름 변경\")\n",
    "    print(\"9. 종료\")\n",
    "    menu=int(input(\"메뉴를 입력하세요 : \"))\n",
    "    if menu==1:\n",
    "        print(friend_list)\n",
    "    elif menu ==2:\n",
    "        name=input(\"이름을 입력하세요 : \")\n",
    "        tel=input(\"전화번호를 입력하세요 : \")\n",
    "        friend_list.append([name, tel])\n",
    "    elif menu ==3:\n",
    "        name=input(\"이름을 입력하세요 : \")\n",
    "        for i in range(len(friend_list)):\n",
    "            if friend_list[i][0]==name:\n",
    "                del friend_list[i]\n",
    "    elif menu ==4:\n",
    "        name=input(\"이름을 입력하세요 : \")\n",
    "        for i in range(len(friend_list)):\n",
    "            if friend_list[i][0]==name:\n",
    "                name_change=input(\"변경할 이름을 입력하세요 : \")\n",
    "                friend_list[i][0]=name_change\n",
    "    elif menu == 9:\n",
    "        break\n",
    "    else:\n",
    "        print(\"다시 입력해주세요\")\n",
    "    print(\"================================\")"
   ]
  },
  {
   "cell_type": "code",
   "execution_count": 9,
   "id": "1791184d",
   "metadata": {},
   "outputs": [
    {
     "name": "stdout",
     "output_type": "stream",
     "text": [
      "단어를 입력하세요 :둘\n",
      "two\n"
     ]
    }
   ],
   "source": [
    "english_dict=dict()\n",
    "\n",
    "english_dict[\"one\"]=\"하나\"\n",
    "english_dict[\"two\"]=\"둘\"\n",
    "english_dict[\"three\"]=\"셋\"\n",
    "\n",
    "english_dict[\"하나\"]=\"one\"\n",
    "english_dict[\"둘\"]=\"two\"\n",
    "english_dict[\"셋\"]=\"three\"\n",
    "word = input(\"단어를 입력하세요 :\")\n",
    "print(english_dict.get(word, \"없음\"))"
   ]
  },
  {
   "cell_type": "code",
   "execution_count": 7,
   "id": "1ef4af8d",
   "metadata": {},
   "outputs": [
    {
     "name": "stdout",
     "output_type": "stream",
     "text": [
      "단어를 입력하세요 :안녕\n"
     ]
    },
    {
     "data": {
      "text/plain": [
       "False"
      ]
     },
     "execution_count": 7,
     "metadata": {},
     "output_type": "execute_result"
    }
   ],
   "source": [
    "english_dict=dict()\n",
    "\n",
    "english_dict[\"one\"]=\"하나\"\n",
    "english_dict[\"two\"]=\"둘\"\n",
    "english_dict[\"three\"]=\"셋\"\n",
    "\n",
    "word = input(\"단어를 입력하세요 :\")\n",
    "word.encode().isalpha() #한글인지 확인하기"
   ]
  },
  {
   "cell_type": "markdown",
   "id": "1b5b2947",
   "metadata": {},
   "source": [
    "## 파일 복사하기"
   ]
  },
  {
   "cell_type": "code",
   "execution_count": null,
   "id": "e95de635",
   "metadata": {},
   "outputs": [],
   "source": [
    "filename1=input(\"원본 파일 이름을 입력하시오 : \")\n",
    "filename2=input(\"복사 파일 이름을 입력하시오 : \")\n",
    "\n",
    "infile = open(filename1, \"rb\")\n",
    "outfile = open(filename2, \"wb\")\n",
    "\n",
    "#입력파일에서 1024바이트씩 읽어서 출력파일에 쓴다.\n",
    "while True:\n",
    "    copy_buffer = infile.read(1024) #1024비트씩 읽기\n",
    "    if not copy_buffer:\n",
    "        break\n",
    "    outfile.write(copy_buffer)\n",
    "\n",
    "infile.close()\n",
    "outfile.close()\n",
    "print(\"복사완료\")"
   ]
  },
  {
   "cell_type": "markdown",
   "id": "26c1100c",
   "metadata": {},
   "source": [
    "## json 파일 다루기"
   ]
  },
  {
   "cell_type": "code",
   "execution_count": 14,
   "id": "125c00ae",
   "metadata": {},
   "outputs": [
    {
     "name": "stdout",
     "output_type": "stream",
     "text": [
      "{\"K5\": {\"price\": \"5000\", \"year\": \"2015\"}, \"Avante\": {\"price\": \"3000\", \"year\": \"2014\"}}\n"
     ]
    }
   ],
   "source": [
    "import json\n",
    "with open(\"C:/Users/pc/Main/Data_Analysis/test.json\", \"rb\") as file:\n",
    "    #json모듈을 임포트한 후, load 함수를 통해 데이터를 가져올 수 있음\n",
    "    json_data=json.load(file)\n",
    "\n",
    "print(json.dumps(json_data))"
   ]
  },
  {
   "cell_type": "code",
   "execution_count": 16,
   "id": "f8dccb15",
   "metadata": {},
   "outputs": [
    {
     "name": "stdout",
     "output_type": "stream",
     "text": [
      "{\n",
      "\t\"K5\": {\n",
      "\t\t\"price\": \"5000\",\n",
      "\t\t\"year\": \"2015\"\n",
      "\t},\n",
      "\t\"Avante\": {\n",
      "\t\t\"price\": \"3000\",\n",
      "\t\t\"year\": \"2014\"\n",
      "\t}\n",
      "}\n"
     ]
    }
   ],
   "source": [
    "print(json.dumps(json_data, indent=\"\\t\"))"
   ]
  },
  {
   "cell_type": "code",
   "execution_count": 18,
   "id": "73669720",
   "metadata": {},
   "outputs": [
    {
     "data": {
      "text/plain": [
       "'5000'"
      ]
     },
     "execution_count": 18,
     "metadata": {},
     "output_type": "execute_result"
    }
   ],
   "source": [
    "json_data[\"K5\"][\"price\"]"
   ]
  },
  {
   "cell_type": "code",
   "execution_count": 19,
   "id": "aa8100e1",
   "metadata": {},
   "outputs": [],
   "source": [
    "#데이터 수정하기\n",
    "json_data[\"K5\"][\"price\"]=\"7000\""
   ]
  },
  {
   "cell_type": "code",
   "execution_count": 20,
   "id": "cf7df92f",
   "metadata": {},
   "outputs": [
    {
     "data": {
      "text/plain": [
       "'7000'"
      ]
     },
     "execution_count": 20,
     "metadata": {},
     "output_type": "execute_result"
    }
   ],
   "source": [
    "json_data[\"K5\"][\"price\"]"
   ]
  },
  {
   "cell_type": "code",
   "execution_count": 22,
   "id": "85c8909d",
   "metadata": {},
   "outputs": [],
   "source": [
    "## 다시 저장하기\n",
    "with open(\"C:/Users/pc/Main/Data_Analysis/test.json\", \"w\") as make_file:\n",
    "    json.dump(json_data, make_file, indent=\"\\t\")"
   ]
  },
  {
   "cell_type": "code",
   "execution_count": 26,
   "id": "6bb025b9",
   "metadata": {},
   "outputs": [
    {
     "name": "stdout",
     "output_type": "stream",
     "text": [
      "{\n",
      "\t\"K5\": {\n",
      "\t\t\"price\": \"7000\",\n",
      "\t\t\"year\": \"2015\"\n",
      "\t},\n",
      "\t\"Avante\": {\n",
      "\t\t\"price\": \"3000\",\n",
      "\t\t\"year\": \"2014\"\n",
      "\t}\n",
      "}\n"
     ]
    }
   ],
   "source": [
    "# 다시 읽기\n",
    "with open(\"C:/Users/pc/Main/Data_Analysis/test.json\", \"r\") as read_file:\n",
    "    read_json=json.load(read_file)\n",
    "print(json.dumps(read_json, indent=\"\\t\"))"
   ]
  },
  {
   "cell_type": "code",
   "execution_count": 32,
   "id": "a9a27762",
   "metadata": {},
   "outputs": [],
   "source": [
    "import json\n",
    "\n",
    "car_group = dict()\n",
    "\n",
    "k5 = dict()\n",
    "k5[\"price\"]=\"5000\"\n",
    "k5[\"year\"]=\"2015\"\n",
    "car_group[\"K5\"] = k5\n",
    "\n",
    "avante=dict()\n",
    "avante[\"price\"]=\"3000\"\n",
    "avante[\"year\"]=\"2014\"\n",
    "car_group[\"Avante\"]=avante\n",
    "\n",
    "#json파일로 저장\n",
    "with open(\"C:/Users/pc/Main/Data_Analysis/test.json\", 'w', encoding=\"utf-8\") as make_file:\n",
    "    json.dump(car_group, make_file, indent=\"\\t\")"
   ]
  },
  {
   "cell_type": "code",
   "execution_count": 33,
   "id": "96fb4065",
   "metadata": {},
   "outputs": [
    {
     "name": "stdout",
     "output_type": "stream",
     "text": [
      "{\n",
      "\t\"K5\": {\n",
      "\t\t\"price\": \"5000\",\n",
      "\t\t\"year\": \"2015\"\n",
      "\t},\n",
      "\t\"Avante\": {\n",
      "\t\t\"price\": \"3000\",\n",
      "\t\t\"year\": \"2014\"\n",
      "\t}\n",
      "}\n"
     ]
    }
   ],
   "source": [
    "#저장한 파일 출력\n",
    "with open(\"C:/Users/pc/Main/Data_Analysis/test.json\", 'r') as file:\n",
    "    json_data=json.load(file)\n",
    "print(json.dumps(json_data, indent=\"\\t\"))"
   ]
  },
  {
   "cell_type": "code",
   "execution_count": 8,
   "id": "7b9ae7c1",
   "metadata": {},
   "outputs": [
    {
     "name": "stdout",
     "output_type": "stream",
     "text": [
      "================================\n",
      "1. 친구 리스트 출력\n",
      "2. 친구 추가\n",
      "3. 친구 삭제\n",
      "4. 이름 변경\n",
      "5. 저장하기 \n",
      "9. 종료\n",
      "메뉴를 입력하세요 : 1\n",
      "{'tom': {'name': 'tom', 'tel': '011'}, 'Avante': {'name': 'avante', 'tel': '2014'}, 'james': {'name': 'james', 'tel': '235'}}\n",
      "================================\n",
      "1. 친구 리스트 출력\n",
      "2. 친구 추가\n",
      "3. 친구 삭제\n",
      "4. 이름 변경\n",
      "5. 저장하기 \n",
      "9. 종료\n",
      "메뉴를 입력하세요 : 9\n",
      "시스템 종료\n"
     ]
    }
   ],
   "source": [
    "import json\n",
    "with open(\"C:/Users/pc/Main/Data_Analysis/test1.json\", 'r') as file:\n",
    "    json_data=json.load(file)\n",
    "friend =dict()\n",
    "while True:\n",
    "    print(\"================================\")\n",
    "    print(\"1. 친구 리스트 출력\")\n",
    "    print(\"2. 친구 추가\")\n",
    "    print(\"3. 친구 삭제\")\n",
    "    print(\"4. 이름 변경\")\n",
    "    print(\"5. 저장하기 \")\n",
    "    print(\"9. 종료\")\n",
    "    menu=int(input(\"메뉴를 입력하세요 : \"))\n",
    "    if menu==1:\n",
    "        print(json_data)\n",
    "    elif menu ==2:\n",
    "        name=input(\"이름을 입력하세요 : \")\n",
    "        tel=input(\"전화번호를 입력하세요 : \")\n",
    "        friend[\"name\"]=name\n",
    "        friend[\"tel\"]=tel\n",
    "        json_data[name]=friend\n",
    "    elif menu ==3: #삭제\n",
    "        name=input(\"이름을 입력하세요 : \")\n",
    "        del json_data[name]\n",
    "        print(\"친구 삭제 완료\")\n",
    "    elif menu ==4: #수정\n",
    "        name=input(\"이름을 입력하세요 : \")\n",
    "        tel=input(\"전화번호를 입력하세요 : \")\n",
    "        json_data[name][\"name\"]=name\n",
    "        json_data[name][\"tel\"]=tel\n",
    "        print(\"친구 수정완료\")\n",
    "    elif menu ==5:\n",
    "        with open(\"C:/Users/pc/Main/Data_Analysis/test1.json\", \"w\") as make_file:\n",
    "            json.dump(json_data, make_file, indent=\"\\t\")\n",
    "    elif menu == 9:\n",
    "        break\n",
    "    else:\n",
    "        print(\"다시 입력해주세요\")\n",
    "print(\"시스템 종료\")\n"
   ]
  },
  {
   "cell_type": "markdown",
   "id": "35e13b90",
   "metadata": {},
   "source": [
    "## xml 활용하기"
   ]
  },
  {
   "cell_type": "code",
   "execution_count": 11,
   "id": "716209e9",
   "metadata": {},
   "outputs": [
    {
     "name": "stdout",
     "output_type": "stream",
     "text": [
      "['peter', 'elgar', 'hong']\n",
      "['24', '21', '36']\n",
      "[{'math': '80', 'english': '97'}, {'math': '67', 'english': '56'}, {'math': '76', 'english': '81'}]\n"
     ]
    }
   ],
   "source": [
    "from xml.etree.ElementTree import parse\n",
    "\n",
    "tree=parse(\"test.xml\") #xml파일 불러오기\n",
    "root = tree.getroot()\n",
    "\n",
    "student = root.findall(\"student\") #student를 찾아..\n",
    "\n",
    "name = [x.findtext(\"name\") for x in student]\n",
    "age =  [x.findtext(\"age\") for x in student]\n",
    "score =  [x.find(\"score\").attrib for x in student]\n",
    "\n",
    "print(name)\n",
    "print(age)\n",
    "print(score)"
   ]
  },
  {
   "cell_type": "markdown",
   "id": "ccf49bf6",
   "metadata": {},
   "source": [
    "## yml 활용하기"
   ]
  },
  {
   "cell_type": "code",
   "execution_count": 33,
   "id": "4a76a152",
   "metadata": {},
   "outputs": [
    {
     "name": "stdout",
     "output_type": "stream",
     "text": [
      "{'Vegetables': ['Pepper', 'Tomato', 'Garlic']}\n"
     ]
    }
   ],
   "source": [
    "import yaml\n",
    "\n",
    "with open(\"vegetables.yml\") as f:\n",
    "    vegetables=yaml.load(f, Loader=yaml.FullLoader)\n",
    "    print(vegetables)"
   ]
  },
  {
   "cell_type": "code",
   "execution_count": 41,
   "id": "3562d9f4",
   "metadata": {},
   "outputs": [
    {
     "name": "stdout",
     "output_type": "stream",
     "text": [
      "{'hyundai': 45000, 'tesla': 65000, 'chevrolet': 42000, 'audi': 51000, 'mercedesbenz': 80000}\n",
      "====================================\n",
      "audi: 51000\n",
      "chevrolet: 42000\n",
      "hyundai: 45000\n",
      "mercedesbenz: 80000\n",
      "tesla: 65000\n",
      "\n"
     ]
    }
   ],
   "source": [
    "import yaml\n",
    "\n",
    "with open(\"cars.yml\") as f:\n",
    "    cars_original=yaml.load(f, Loader=yaml.FullLoader)\n",
    "    print(cars_original)\n",
    "    \n",
    "    print(\"====================================\")\n",
    "    cars_sorted=yaml.dump(cars_original, sort_keys=True)\n",
    "    print(cars_sorted)"
   ]
  },
  {
   "cell_type": "code",
   "execution_count": 42,
   "id": "890e61d9",
   "metadata": {},
   "outputs": [
    {
     "name": "stdout",
     "output_type": "stream",
     "text": [
      "{'hyundai': 45000, 'tesla': 65000, 'chevrolet': 42000, 'audi': 51000, 'mercedesbenz': 80000}\n",
      "====================================\n",
      "chevrolet : 42000\n",
      "hyundai : 45000\n",
      "audi : 51000\n",
      "tesla : 65000\n",
      "mercedesbenz : 80000\n"
     ]
    }
   ],
   "source": [
    "with open(\"cars.yml\") as f:\n",
    "    cars_original=yaml.load(f, Loader=yaml.FullLoader)\n",
    "    print(cars_original)\n",
    "    \n",
    "    print(\"====================================\")\n",
    "    for key, value in sorted(cars_original.items(), key=lambda item : item[1]):\n",
    "        print(key, \":\", value)"
   ]
  },
  {
   "cell_type": "code",
   "execution_count": 44,
   "id": "5739d98d",
   "metadata": {},
   "outputs": [],
   "source": [
    "fruits={\"fruits\":[\"blubbery\", \"apple\",\"oragne\"]}\n",
    "\n",
    "with open(\"fruits.yml\", \"w\") as f:\n",
    "    yaml.dump(fruits, f)"
   ]
  },
  {
   "cell_type": "markdown",
   "id": "fdb84006",
   "metadata": {},
   "source": [
    "# Numpy"
   ]
  },
  {
   "cell_type": "code",
   "execution_count": 56,
   "id": "25937791",
   "metadata": {},
   "outputs": [
    {
     "name": "stdout",
     "output_type": "stream",
     "text": [
      "type: <class 'numpy.ndarray'>\n",
      "shape: (3,)\n",
      "Array's Data:\n",
      "[1 2 3]\n"
     ]
    }
   ],
   "source": [
    "import numpy as np\n",
    "\n",
    "\n",
    "def pprint(arr):\n",
    "    print(\"type: {}\".format(type(arr)))\n",
    "    print(\"shape: {}\".format(arr.shape))\n",
    "    print(\"Array's Data:\\n{}\".format(arr))\n",
    "    \n",
    "arr=[1,2,3]\n",
    "a=np.array(arr)\n",
    "pprint(a)"
   ]
  },
  {
   "cell_type": "code",
   "execution_count": 60,
   "id": "8c931b8d",
   "metadata": {},
   "outputs": [
    {
     "name": "stdout",
     "output_type": "stream",
     "text": [
      "type: <class 'numpy.ndarray'>\n",
      "shape: (2, 3)\n",
      "Array's Data:\n",
      "[[1. 2. 3.]\n",
      " [4. 5. 6.]]\n"
     ]
    }
   ],
   "source": [
    "arr=[(1,2,3),(4,5,6)]\n",
    "b=np.array(arr, dtype=float)\n",
    "pprint(b)"
   ]
  },
  {
   "cell_type": "code",
   "execution_count": 59,
   "id": "85c0a9ff",
   "metadata": {},
   "outputs": [
    {
     "name": "stdout",
     "output_type": "stream",
     "text": [
      "type: <class 'numpy.ndarray'>\n",
      "shape: (2, 2, 3)\n",
      "Array's Data:\n",
      "[[[ 1.  2.  3.]\n",
      "  [ 4.  5.  6.]]\n",
      "\n",
      " [[ 7.  8.  9.]\n",
      "  [10. 11. 12.]]]\n"
     ]
    }
   ],
   "source": [
    "arr=[[[1,2,3],[4,5,6]],[[7,8,9],[10,11,12]]]\n",
    "c=np.array(arr, dtype=float)\n",
    "pprint(c)"
   ]
  },
  {
   "cell_type": "code",
   "execution_count": 65,
   "id": "4eea4ebe",
   "metadata": {},
   "outputs": [
    {
     "name": "stdout",
     "output_type": "stream",
     "text": [
      "type: <class 'numpy.ndarray'>\n",
      "shape: (3, 2)\n",
      "Array's Data:\n",
      "[[0. 0.]\n",
      " [0. 0.]\n",
      " [0. 0.]]\n"
     ]
    }
   ],
   "source": [
    "a=np.zeros((3,2))\n",
    "pprint(a)"
   ]
  },
  {
   "cell_type": "code",
   "execution_count": 68,
   "id": "76e127d0",
   "metadata": {},
   "outputs": [
    {
     "name": "stdout",
     "output_type": "stream",
     "text": [
      "type: <class 'numpy.ndarray'>\n",
      "shape: (3, 3)\n",
      "Array's Data:\n",
      "[[0 0 0]\n",
      " [0 0 0]\n",
      " [0 0 0]]\n"
     ]
    }
   ],
   "source": [
    "b = [[1,2,3],[4,5,6],[7,8,9]]\n",
    "c=np.zeros_like(b) #b의 shape로 값은 0으로 넣음\n",
    "pprint(c)"
   ]
  },
  {
   "cell_type": "code",
   "execution_count": 71,
   "id": "a52dc0fe",
   "metadata": {},
   "outputs": [
    {
     "name": "stdout",
     "output_type": "stream",
     "text": [
      "type: <class 'numpy.ndarray'>\n",
      "shape: (3, 3)\n",
      "Array's Data:\n",
      "[[1. 1. 1.]\n",
      " [1. 1. 1.]\n",
      " [1. 1. 1.]]\n"
     ]
    }
   ],
   "source": [
    "b = [[1,2,3],[4,5,6],[7,8,9]]\n",
    "c=np.ones_like(b, dtype=float) #b의 shape로 값은 1으로 넣음\n",
    "pprint(c)"
   ]
  },
  {
   "cell_type": "code",
   "execution_count": 70,
   "id": "88d97d2f",
   "metadata": {},
   "outputs": [
    {
     "name": "stdout",
     "output_type": "stream",
     "text": [
      "type: <class 'numpy.ndarray'>\n",
      "shape: (3, 2)\n",
      "Array's Data:\n",
      "[[1. 1.]\n",
      " [1. 1.]\n",
      " [1. 1.]]\n"
     ]
    }
   ],
   "source": [
    "a=np.ones((3,2))\n",
    "pprint(a)"
   ]
  },
  {
   "cell_type": "code",
   "execution_count": 73,
   "id": "3e61a5ae",
   "metadata": {},
   "outputs": [
    {
     "name": "stdout",
     "output_type": "stream",
     "text": [
      "type: <class 'numpy.ndarray'>\n",
      "shape: (10,)\n",
      "Array's Data:\n",
      "[0 1 2 3 4 5 6 7 8 9]\n"
     ]
    }
   ],
   "source": [
    "a = np.array(range(10))\n",
    "pprint(a)"
   ]
  },
  {
   "cell_type": "code",
   "execution_count": 76,
   "id": "b7389562",
   "metadata": {},
   "outputs": [
    {
     "name": "stdout",
     "output_type": "stream",
     "text": [
      "type: <class 'numpy.ndarray'>\n",
      "shape: (2, 5)\n",
      "Array's Data:\n",
      "[[0 1 2 3 4]\n",
      " [5 6 7 8 9]]\n"
     ]
    }
   ],
   "source": [
    "b=a.reshape(-1,5)\n",
    "pprint(b)"
   ]
  },
  {
   "cell_type": "code",
   "execution_count": 77,
   "id": "4c2a0b99",
   "metadata": {},
   "outputs": [
    {
     "name": "stdout",
     "output_type": "stream",
     "text": [
      "type: <class 'numpy.ndarray'>\n",
      "shape: (2, 1, 5)\n",
      "Array's Data:\n",
      "[[[0 1 2 3 4]]\n",
      "\n",
      " [[5 6 7 8 9]]]\n"
     ]
    }
   ],
   "source": [
    "b=a.reshape(2,-1,5)\n",
    "pprint(b)"
   ]
  },
  {
   "cell_type": "code",
   "execution_count": null,
   "id": "9e16aabc",
   "metadata": {},
   "outputs": [],
   "source": []
  }
 ],
 "metadata": {
  "kernelspec": {
   "display_name": "Python 3",
   "language": "python",
   "name": "python3"
  },
  "language_info": {
   "codemirror_mode": {
    "name": "ipython",
    "version": 3
   },
   "file_extension": ".py",
   "mimetype": "text/x-python",
   "name": "python",
   "nbconvert_exporter": "python",
   "pygments_lexer": "ipython3",
   "version": "3.7.10"
  }
 },
 "nbformat": 4,
 "nbformat_minor": 5
}
