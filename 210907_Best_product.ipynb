{
 "cells": [
  {
   "cell_type": "markdown",
   "id": "5c7e9c9c",
   "metadata": {},
   "source": [
    "# 다나와에서 진공청소기를 크롤링하여 상품 비교하기"
   ]
  },
  {
   "cell_type": "code",
   "execution_count": 3,
   "id": "aa1e76ee",
   "metadata": {},
   "outputs": [],
   "source": [
    "from selenium import webdriver\n",
    "from bs4 import BeautifulSoup\n",
    "\n",
    "driver=webdriver.Chrome(\"C:/Users/pc/Main/Data_Analysis/chromedriver_win32/chromedriver.exe\")\n",
    "url=\"http://search.danawa.com/dsearch.php?query=무선청소기&tab=main\"\n",
    "driver.get(url)"
   ]
  },
  {
   "cell_type": "code",
   "execution_count": 4,
   "id": "54c29a63",
   "metadata": {},
   "outputs": [],
   "source": [
    "html=driver.page_source\n",
    "\n",
    "from bs4 import BeautifulSoup\n",
    "soup=BeautifulSoup(html, \"html.parser\")"
   ]
  },
  {
   "cell_type": "code",
   "execution_count": 46,
   "id": "8ccd5110",
   "metadata": {},
   "outputs": [
    {
     "data": {
      "text/plain": [
       "44"
      ]
     },
     "execution_count": 46,
     "metadata": {},
     "output_type": "execute_result"
    }
   ],
   "source": [
    "prod_items=soup.select(\"div.main_prodlist>ul.product_list>li.prod_item\")\n",
    "len(prod_items)"
   ]
  },
  {
   "cell_type": "code",
   "execution_count": 20,
   "id": "4109bc55",
   "metadata": {},
   "outputs": [
    {
     "data": {
      "text/plain": [
       "'샤오미 드리미 V10'"
      ]
     },
     "execution_count": 20,
     "metadata": {},
     "output_type": "execute_result"
    }
   ],
   "source": [
    "#제품 이름\n",
    "prod_items[0].select(\"p.prod_name>a\")[0].text.strip()"
   ]
  },
  {
   "cell_type": "code",
   "execution_count": 24,
   "id": "fbf12de1",
   "metadata": {},
   "outputs": [
    {
     "data": {
      "text/plain": [
       "'핸디/스틱청소기 / 핸디+스틱형 / 무선형 / 흡입전용 / [성능] 멀티싸이클론 / BLDC모터 / 흡입력: 140AW / 흡입력: 22000Pa / 소비전력: 450W / [배터리] 용량: 2500mAh / 충전시간: 3시간30분 / 사용시간: 1시간(개당) / [필터] 헤파필터 / H12급 / 5단계여과 / [구성] 바닥 / 침구 / 솔형 / 틈새 / 연장툴 / 거치대 / [부가] 먼지통용량: 0.5L / 색상: 화이트 / 무게: 1.5kg'"
      ]
     },
     "execution_count": 24,
     "metadata": {},
     "output_type": "execute_result"
    }
   ],
   "source": [
    "#제품 스펙\n",
    "prod_items[0].select(\"div.spec_list\")[0].text.strip()"
   ]
  },
  {
   "cell_type": "code",
   "execution_count": 45,
   "id": "5d5fe234",
   "metadata": {},
   "outputs": [
    {
     "data": {
      "text/plain": [
       "'150080'"
      ]
     },
     "execution_count": 45,
     "metadata": {},
     "output_type": "execute_result"
    }
   ],
   "source": [
    "#제품 가격\n",
    "price=prod_items[0].select(\"p.price_sect>a>strong\")[0].text.strip().replace(\",\",\"\")\n",
    "price"
   ]
  },
  {
   "cell_type": "code",
   "execution_count": 55,
   "id": "749c8766",
   "metadata": {},
   "outputs": [
    {
     "name": "stdout",
     "output_type": "stream",
     "text": [
      "40\n"
     ]
    }
   ],
   "source": [
    "prod_data=[]\n",
    "\n",
    "for prod_item in prod_items:\n",
    "    if 'product-pot' in prod_item[\"class\"]:\n",
    "        continue\n",
    "    try: \n",
    "        name=prod_item.select(\"p.prod_name>a\")[0].text.strip()\n",
    "        spec=prod_item.select(\"div.spec_list\")[0].text.strip()\n",
    "        price=prod_item.select(\"p.price_sect>a>strong\")[0].text.strip().replace(\",\",\"\")\n",
    "        prod_data.append([name, spec, price])\n",
    "    except:\n",
    "        pass\n",
    "\n",
    "print(len(prod_data))"
   ]
  },
  {
   "cell_type": "code",
   "execution_count": 56,
   "id": "1dad8832",
   "metadata": {},
   "outputs": [],
   "source": [
    "# 함수 만들기\n",
    "\n",
    "def get_prod_data(prod_items):\n",
    "    prod_data=[]\n",
    "\n",
    "    for prod_item in prod_items:\n",
    "        if 'product-pot' in prod_item[\"class\"]:\n",
    "            continue\n",
    "        try: \n",
    "            name=prod_item.select(\"p.prod_name>a\")[0].text.strip()\n",
    "            spec=prod_item.select(\"div.spec_list\")[0].text.strip()\n",
    "            price=prod_item.select(\"p.price_sect>a>strong\")[0].text.strip().replace(\",\",\"\")\n",
    "            prod_data.append([name, spec, price])\n",
    "        except:\n",
    "            pass\n",
    "    return prod_data"
   ]
  },
  {
   "cell_type": "code",
   "execution_count": 57,
   "id": "9c658356",
   "metadata": {},
   "outputs": [
    {
     "data": {
      "text/plain": [
       "40"
      ]
     },
     "execution_count": 57,
     "metadata": {},
     "output_type": "execute_result"
    }
   ],
   "source": [
    "prod_items=soup.select(\"div.main_prodlist>ul.product_list>li.prod_item\")\n",
    "prod_data=get_prod_data(prod_items)\n",
    "len(prod_data)"
   ]
  },
  {
   "cell_type": "markdown",
   "id": "4dfddf37",
   "metadata": {},
   "source": [
    "## 페이지 URL 분석"
   ]
  },
  {
   "cell_type": "code",
   "execution_count": 1,
   "id": "01c4ddc4",
   "metadata": {},
   "outputs": [
    {
     "data": {
      "text/plain": [
       "'http://search.danawa.com/dsearch.php?query=%EB%AC%B4%EC%84%A0%EC%B2%AD%EC%86%8C%EA%B8%B0&originalQuery=%EB%AC%B4%EC%84%A0%EC%B2%AD%EC%86%8C%EA%B8%B0&previousKeyword=%EB%AC%B4%EC%84%A0%EC%B2%AD%EC%86%8C%EA%B8%B0&volumeType=allvs&page=2&limit=40&sort=saveDESC&list=list&boost=true&addDelivery=N&recommendedSort=Y&defaultUICategoryCode=102207&defaultPhysicsCategoryCode=72%7C80%7C81%7C0&defaultVmTab=2557&defaultVaTab=181232&tab=goods'"
      ]
     },
     "execution_count": 1,
     "metadata": {},
     "output_type": "execute_result"
    }
   ],
   "source": [
    "#여러 페이지를 크롤링할 떄...URL을 변경하여 페이지별 정보를 수집하고 병합한다.\n",
    "def get_research_page_url(page):\n",
    "    return \"http://search.danawa.com/dsearch.php?query=%EB%AC%B4%EC%84%A0%EC%B2%AD%EC%86%8C%EA%B8%B0&originalQuery=%EB%AC%B4%EC%84%A0%EC%B2%AD%EC%86%8C%EA%B8%B0&previousKeyword=%EB%AC%B4%EC%84%A0%EC%B2%AD%EC%86%8C%EA%B8%B0&volumeType=allvs&page={}&limit=40&sort=saveDESC&list=list&boost=true&addDelivery=N&recommendedSort=Y&defaultUICategoryCode=102207&defaultPhysicsCategoryCode=72%7C80%7C81%7C0&defaultVmTab=2557&defaultVaTab=181232&tab=goods\".format(page)\n",
    "\n",
    "page=2\n",
    "url=get_research_page_url(page)\n",
    "url"
   ]
  },
  {
   "cell_type": "markdown",
   "id": "55f2f52b",
   "metadata": {},
   "source": [
    "## 쥬피터 노트북의 진행표시줄 처리"
   ]
  },
  {
   "cell_type": "code",
   "execution_count": 6,
   "id": "fe679bdd",
   "metadata": {},
   "outputs": [
    {
     "data": {
      "application/vnd.jupyter.widget-view+json": {
       "model_id": "42670d4eaf1b4b5889ed780a9acfe181",
       "version_major": 2,
       "version_minor": 0
      },
      "text/plain": [
       "  0%|          | 0/10 [00:00<?, ?it/s]"
      ]
     },
     "metadata": {},
     "output_type": "display_data"
    },
    {
     "ename": "KeyboardInterrupt",
     "evalue": "",
     "output_type": "error",
     "traceback": [
      "\u001b[1;31m---------------------------------------------------------------------------\u001b[0m",
      "\u001b[1;31mKeyboardInterrupt\u001b[0m                         Traceback (most recent call last)",
      "\u001b[1;32m<ipython-input-6-d343746f3fd6>\u001b[0m in \u001b[0;36m<module>\u001b[1;34m\u001b[0m\n\u001b[0;32m      5\u001b[0m \u001b[1;32mfor\u001b[0m \u001b[0mpage\u001b[0m \u001b[1;32min\u001b[0m \u001b[0mtqdm\u001b[0m\u001b[1;33m(\u001b[0m\u001b[0mrange\u001b[0m\u001b[1;33m(\u001b[0m\u001b[1;36m1\u001b[0m\u001b[1;33m,\u001b[0m \u001b[0mtotal_page\u001b[0m\u001b[1;33m+\u001b[0m\u001b[1;36m1\u001b[0m\u001b[1;33m)\u001b[0m\u001b[1;33m)\u001b[0m\u001b[1;33m:\u001b[0m\u001b[1;33m\u001b[0m\u001b[1;33m\u001b[0m\u001b[0m\n\u001b[0;32m      6\u001b[0m     \u001b[1;31m#페이지가 로딩 완료되기 위한 시간을 5초를 준다..\u001b[0m\u001b[1;33m\u001b[0m\u001b[1;33m\u001b[0m\u001b[1;33m\u001b[0m\u001b[0m\n\u001b[1;32m----> 7\u001b[1;33m     \u001b[0mtime\u001b[0m\u001b[1;33m.\u001b[0m\u001b[0msleep\u001b[0m\u001b[1;33m(\u001b[0m\u001b[1;36m5\u001b[0m\u001b[1;33m)\u001b[0m\u001b[1;33m\u001b[0m\u001b[1;33m\u001b[0m\u001b[0m\n\u001b[0m",
      "\u001b[1;31mKeyboardInterrupt\u001b[0m: "
     ]
    }
   ],
   "source": [
    "import time\n",
    "from tqdm.notebook import tqdm\n",
    "\n",
    "total_page=10\n",
    "for page in tqdm(range(1, total_page+1)):\n",
    "    #페이지가 로딩 완료되기 위한 시간을 5초를 준다..\n",
    "    time.sleep(5)"
   ]
  },
  {
   "cell_type": "markdown",
   "id": "06b89d40",
   "metadata": {},
   "source": [
    "## 여러 페이지에 걸친 상품정보 수집"
   ]
  },
  {
   "cell_type": "code",
   "execution_count": 2,
   "id": "ab4cdb06",
   "metadata": {},
   "outputs": [
    {
     "data": {
      "application/vnd.jupyter.widget-view+json": {
       "model_id": "ae30c5eb3a544ae5b4407a21f2d3b640",
       "version_major": 2,
       "version_minor": 0
      },
      "text/plain": [
       "  0%|          | 0/10 [00:00<?, ?it/s]"
      ]
     },
     "metadata": {},
     "output_type": "display_data"
    }
   ],
   "source": [
    "from selenium import webdriver\n",
    "from bs4 import BeautifulSoup\n",
    "import time\n",
    "from tqdm.notebook import tqdm\n",
    "\n",
    "#상품 정보 함수\n",
    "def get_prod_data(prod_items):\n",
    "    prod_data=[]\n",
    "\n",
    "    for prod_item in prod_items:\n",
    "        if 'product-pot' in prod_item[\"class\"]:\n",
    "            continue\n",
    "        try: \n",
    "            name=prod_item.select(\"p.prod_name>a\")[0].text.strip()\n",
    "            spec=prod_item.select(\"div.spec_list\")[0].text.strip()\n",
    "            price=prod_item.select(\"p.price_sect>a>strong\")[0].text.strip().replace(\",\",\"\")\n",
    "            prod_data.append([name, spec, price])\n",
    "        except:\n",
    "            pass\n",
    "    return prod_data\n",
    "\n",
    "driver = webdriver.Chrome(\"C:/Users/pc/Main/Data_Analysis/chromedriver_win32/chromedriver.exe\")\n",
    "driver.implicitly_wait(3)\n",
    "    \n",
    "total_page=10\n",
    "prod_data_total=[]\n",
    "for page in tqdm(range(1, total_page+1)):\n",
    "    url=get_research_page_url(page)\n",
    "    driver.get(url)\n",
    "    time.sleep(5)\n",
    "    \n",
    "    #현재 페이지의html\n",
    "    html=driver.page_source\n",
    "    soup = BeautifulSoup(html,\"html.parser\")\n",
    "    \n",
    "    #상품 정보가져오기\n",
    "    prod_items=soup.select(\"div.main_prodlist>ul.product_list>li.prod_item\")\n",
    "    prod_data=get_prod_data(prod_items)\n",
    "    \n",
    "    #추출 데이터 저장\n",
    "    prod_data_total = prod_data_total +prod_data"
   ]
  },
  {
   "cell_type": "code",
   "execution_count": 4,
   "id": "e346289d",
   "metadata": {},
   "outputs": [
    {
     "data": {
      "text/plain": [
       "400"
      ]
     },
     "execution_count": 4,
     "metadata": {},
     "output_type": "execute_result"
    }
   ],
   "source": [
    "len(prod_data_total)"
   ]
  },
  {
   "cell_type": "code",
   "execution_count": 8,
   "id": "643bd8f2",
   "metadata": {},
   "outputs": [
    {
     "data": {
      "text/html": [
       "<div>\n",
       "<style scoped>\n",
       "    .dataframe tbody tr th:only-of-type {\n",
       "        vertical-align: middle;\n",
       "    }\n",
       "\n",
       "    .dataframe tbody tr th {\n",
       "        vertical-align: top;\n",
       "    }\n",
       "\n",
       "    .dataframe thead th {\n",
       "        text-align: right;\n",
       "    }\n",
       "</style>\n",
       "<table border=\"1\" class=\"dataframe\">\n",
       "  <thead>\n",
       "    <tr style=\"text-align: right;\">\n",
       "      <th></th>\n",
       "      <th>제품명</th>\n",
       "      <th>스펙목록</th>\n",
       "      <th>가격</th>\n",
       "    </tr>\n",
       "  </thead>\n",
       "  <tbody>\n",
       "    <tr>\n",
       "      <th>0</th>\n",
       "      <td>샤오미 드리미 V10</td>\n",
       "      <td>핸디/스틱청소기 / 핸디+스틱형 / 무선형 / 흡입전용 / [성능] 멀티싸이클론 /...</td>\n",
       "      <td>150080</td>\n",
       "    </tr>\n",
       "    <tr>\n",
       "      <th>1</th>\n",
       "      <td>LG전자 오브제컬렉션 코드제로 ThinQ A9S AO9571</td>\n",
       "      <td>핸디/스틱청소기 / 핸디+스틱형 / 무선형 / 흡입+걸레겸용 / [성능] 2중터보싸...</td>\n",
       "      <td>1190940</td>\n",
       "    </tr>\n",
       "    <tr>\n",
       "      <th>2</th>\n",
       "      <td>삼성전자 제트 VS20T9218QDCC</td>\n",
       "      <td>핸디/스틱청소기 / 핸디+스틱형 / 무선형 / 흡입+걸레겸용 / [성능] 싸이클론 ...</td>\n",
       "      <td>568700</td>\n",
       "    </tr>\n",
       "    <tr>\n",
       "      <th>3</th>\n",
       "      <td>삼성전자 비스포크 제트 VS20A957D3</td>\n",
       "      <td>핸디/스틱청소기 / 핸디+스틱형 / 무선형 / 흡입+걸레겸용 / [성능] 제트싸이클...</td>\n",
       "      <td>919630</td>\n",
       "    </tr>\n",
       "    <tr>\n",
       "      <th>4</th>\n",
       "      <td>샤오미 CLEANFLY 차량용 무선 청소기 4세대 H2 (해외구매)</td>\n",
       "      <td>차량용청소기 / 무선 / 흡입력: 16,800Pa / 최대출력: 120W / 헤파필...</td>\n",
       "      <td>63140</td>\n",
       "    </tr>\n",
       "  </tbody>\n",
       "</table>\n",
       "</div>"
      ],
      "text/plain": [
       "                                     제품명  \\\n",
       "0                            샤오미 드리미 V10   \n",
       "1      LG전자 오브제컬렉션 코드제로 ThinQ A9S AO9571   \n",
       "2                  삼성전자 제트 VS20T9218QDCC   \n",
       "3                삼성전자 비스포크 제트 VS20A957D3   \n",
       "4  샤오미 CLEANFLY 차량용 무선 청소기 4세대 H2 (해외구매)   \n",
       "\n",
       "                                                스펙목록       가격  \n",
       "0  핸디/스틱청소기 / 핸디+스틱형 / 무선형 / 흡입전용 / [성능] 멀티싸이클론 /...   150080  \n",
       "1  핸디/스틱청소기 / 핸디+스틱형 / 무선형 / 흡입+걸레겸용 / [성능] 2중터보싸...  1190940  \n",
       "2  핸디/스틱청소기 / 핸디+스틱형 / 무선형 / 흡입+걸레겸용 / [성능] 싸이클론 ...   568700  \n",
       "3  핸디/스틱청소기 / 핸디+스틱형 / 무선형 / 흡입+걸레겸용 / [성능] 제트싸이클...   919630  \n",
       "4  차량용청소기 / 무선 / 흡입력: 16,800Pa / 최대출력: 120W / 헤파필...    63140  "
      ]
     },
     "execution_count": 8,
     "metadata": {},
     "output_type": "execute_result"
    }
   ],
   "source": [
    "import pandas as pd\n",
    "prod_data_total_df=pd.DataFrame(prod_data_total)\n",
    "prod_data_total_df.columns=[\"제품명\",\"스펙목록\",\"가격\"]\n",
    "prod_data_total_df.head()"
   ]
  },
  {
   "cell_type": "code",
   "execution_count": 9,
   "id": "a48cd161",
   "metadata": {},
   "outputs": [],
   "source": [
    "prod_data_total_df.to_excel(\"C:/Users/pc/Main/Data_Analysis/prod_data_total.xlsx\",index=False)"
   ]
  },
  {
   "cell_type": "markdown",
   "id": "a6648e48",
   "metadata": {},
   "source": [
    "## 다나와 클롤링 전처리\n",
    "\n",
    "1. 상품명 데이터에서 회사명과 제품명 분리\n",
    "2. 일반 문자열로 저장된 스펙목록을 필요한 스펙으로 분류 및 단위 통합"
   ]
  },
  {
   "cell_type": "code",
   "execution_count": 5,
   "id": "37021ef6",
   "metadata": {},
   "outputs": [
    {
     "name": "stdout",
     "output_type": "stream",
     "text": [
      "<class 'pandas.core.frame.DataFrame'>\n",
      "RangeIndex: 400 entries, 0 to 399\n",
      "Data columns (total 3 columns):\n",
      " #   Column  Non-Null Count  Dtype \n",
      "---  ------  --------------  ----- \n",
      " 0   제품명     400 non-null    object\n",
      " 1   스펙목록    400 non-null    object\n",
      " 2   가격      400 non-null    int64 \n",
      "dtypes: int64(1), object(2)\n",
      "memory usage: 9.5+ KB\n"
     ]
    },
    {
     "data": {
      "text/html": [
       "<div>\n",
       "<style scoped>\n",
       "    .dataframe tbody tr th:only-of-type {\n",
       "        vertical-align: middle;\n",
       "    }\n",
       "\n",
       "    .dataframe tbody tr th {\n",
       "        vertical-align: top;\n",
       "    }\n",
       "\n",
       "    .dataframe thead th {\n",
       "        text-align: right;\n",
       "    }\n",
       "</style>\n",
       "<table border=\"1\" class=\"dataframe\">\n",
       "  <thead>\n",
       "    <tr style=\"text-align: right;\">\n",
       "      <th></th>\n",
       "      <th>제품명</th>\n",
       "      <th>스펙목록</th>\n",
       "      <th>가격</th>\n",
       "    </tr>\n",
       "  </thead>\n",
       "  <tbody>\n",
       "    <tr>\n",
       "      <th>0</th>\n",
       "      <td>샤오미 드리미 V10</td>\n",
       "      <td>핸디/스틱청소기 / 핸디+스틱형 / 무선형 / 흡입전용 / [성능] 멀티싸이클론 /...</td>\n",
       "      <td>150080</td>\n",
       "    </tr>\n",
       "    <tr>\n",
       "      <th>1</th>\n",
       "      <td>LG전자 오브제컬렉션 코드제로 ThinQ A9S AO9571</td>\n",
       "      <td>핸디/스틱청소기 / 핸디+스틱형 / 무선형 / 흡입+걸레겸용 / [성능] 2중터보싸...</td>\n",
       "      <td>1190940</td>\n",
       "    </tr>\n",
       "    <tr>\n",
       "      <th>2</th>\n",
       "      <td>삼성전자 제트 VS20T9218QDCC</td>\n",
       "      <td>핸디/스틱청소기 / 핸디+스틱형 / 무선형 / 흡입+걸레겸용 / [성능] 싸이클론 ...</td>\n",
       "      <td>568700</td>\n",
       "    </tr>\n",
       "    <tr>\n",
       "      <th>3</th>\n",
       "      <td>삼성전자 비스포크 제트 VS20A957D3</td>\n",
       "      <td>핸디/스틱청소기 / 핸디+스틱형 / 무선형 / 흡입+걸레겸용 / [성능] 제트싸이클...</td>\n",
       "      <td>919630</td>\n",
       "    </tr>\n",
       "    <tr>\n",
       "      <th>4</th>\n",
       "      <td>샤오미 CLEANFLY 차량용 무선 청소기 4세대 H2 (해외구매)</td>\n",
       "      <td>차량용청소기 / 무선 / 흡입력: 16,800Pa / 최대출력: 120W / 헤파필...</td>\n",
       "      <td>63140</td>\n",
       "    </tr>\n",
       "  </tbody>\n",
       "</table>\n",
       "</div>"
      ],
      "text/plain": [
       "                                     제품명  \\\n",
       "0                            샤오미 드리미 V10   \n",
       "1      LG전자 오브제컬렉션 코드제로 ThinQ A9S AO9571   \n",
       "2                  삼성전자 제트 VS20T9218QDCC   \n",
       "3                삼성전자 비스포크 제트 VS20A957D3   \n",
       "4  샤오미 CLEANFLY 차량용 무선 청소기 4세대 H2 (해외구매)   \n",
       "\n",
       "                                                스펙목록       가격  \n",
       "0  핸디/스틱청소기 / 핸디+스틱형 / 무선형 / 흡입전용 / [성능] 멀티싸이클론 /...   150080  \n",
       "1  핸디/스틱청소기 / 핸디+스틱형 / 무선형 / 흡입+걸레겸용 / [성능] 2중터보싸...  1190940  \n",
       "2  핸디/스틱청소기 / 핸디+스틱형 / 무선형 / 흡입+걸레겸용 / [성능] 싸이클론 ...   568700  \n",
       "3  핸디/스틱청소기 / 핸디+스틱형 / 무선형 / 흡입+걸레겸용 / [성능] 제트싸이클...   919630  \n",
       "4  차량용청소기 / 무선 / 흡입력: 16,800Pa / 최대출력: 120W / 헤파필...    63140  "
      ]
     },
     "execution_count": 5,
     "metadata": {},
     "output_type": "execute_result"
    }
   ],
   "source": [
    "import pandas as pd\n",
    "\n",
    "datas=pd.read_excel(\"C:/Users/pc/Main/Data_Analysis/file/prod_data_total.xlsx\")\n",
    "datas.info()\n",
    "datas.head()"
   ]
  },
  {
   "cell_type": "code",
   "execution_count": 9,
   "id": "238f8ace",
   "metadata": {},
   "outputs": [
    {
     "name": "stdout",
     "output_type": "stream",
     "text": [
      "400\n",
      "400\n",
      "['샤오미', 'LG전자', '삼성전자', '삼성전자', '샤오미']\n",
      "['드리미 V10', '오브제컬렉션 코드제로 ThinQ A9S AO9571', '제트 VS20T9218QDCC', '비스포크 제트 VS20A957D3', 'CLEANFLY 차량용 무선 청소기 4세대 H2 (해외구매)']\n"
     ]
    }
   ],
   "source": [
    "# 회사명과 모델명 정리하기\n",
    "\n",
    "company_list=[]\n",
    "product_list=[]\n",
    "\n",
    "for titles in datas[\"제품명\"]:\n",
    "    title=titles.split(\" \",1)\n",
    "    company_name=title[0]\n",
    "    product_name=title[1]\n",
    "    company_list.append(company_name)\n",
    "    product_list.append(product_name)\n",
    "\n",
    "print(len(company_list))\n",
    "print(len(product_list))\n",
    "print(company_list[:5])\n",
    "print(product_list[:5])"
   ]
  },
  {
   "cell_type": "code",
   "execution_count": 12,
   "id": "4eac1dcd",
   "metadata": {},
   "outputs": [
    {
     "data": {
      "text/plain": [
       "['핸디/스틱청소기',\n",
       " '핸디+스틱형',\n",
       " '무선형',\n",
       " '흡입전용',\n",
       " '[성능] 멀티싸이클론',\n",
       " 'BLDC모터',\n",
       " '흡입력: 140AW',\n",
       " '흡입력: 22000Pa',\n",
       " '소비전력: 450W',\n",
       " '[배터리] 용량: 2500mAh',\n",
       " '충전시간: 3시간30분',\n",
       " '사용시간: 1시간(개당)',\n",
       " '[필터] 헤파필터',\n",
       " 'H12급',\n",
       " '5단계여과',\n",
       " '[구성] 바닥',\n",
       " '침구',\n",
       " '솔형',\n",
       " '틈새',\n",
       " '연장툴',\n",
       " '거치대',\n",
       " '[부가] 먼지통용량: 0.5L',\n",
       " '색상: 화이트',\n",
       " '무게: 1.5kg']"
      ]
     },
     "execution_count": 12,
     "metadata": {},
     "output_type": "execute_result"
    }
   ],
   "source": [
    "# 스펙목록 데이터 살펴보기..\n",
    "\n",
    "datas[\"스펙목록\"][0].split(' / ')"
   ]
  },
  {
   "cell_type": "markdown",
   "id": "88925a46",
   "metadata": {},
   "source": [
    "## 스펙목록(카테고리, 사용시간, 흡입력)을 추출해서 정리"
   ]
  },
  {
   "cell_type": "code",
   "execution_count": 13,
   "id": "fa33dcbf",
   "metadata": {},
   "outputs": [
    {
     "data": {
      "text/plain": [
       "['핸디/스틱청소기',\n",
       " '핸디+스틱형',\n",
       " '무선형',\n",
       " '흡입전용',\n",
       " '[성능] 멀티싸이클론',\n",
       " 'BLDC모터',\n",
       " '흡입력: 140AW',\n",
       " '흡입력: 22000Pa',\n",
       " '소비전력: 450W',\n",
       " '[배터리] 용량: 2500mAh',\n",
       " '충전시간: 3시간30분',\n",
       " '사용시간: 1시간(개당)',\n",
       " '[필터] 헤파필터',\n",
       " 'H12급',\n",
       " '5단계여과',\n",
       " '[구성] 바닥',\n",
       " '침구',\n",
       " '솔형',\n",
       " '틈새',\n",
       " '연장툴',\n",
       " '거치대',\n",
       " '[부가] 먼지통용량: 0.5L',\n",
       " '색상: 화이트',\n",
       " '무게: 1.5kg']"
      ]
     },
     "execution_count": 13,
     "metadata": {},
     "output_type": "execute_result"
    }
   ],
   "source": [
    "#카테고리(리스트에서 0번째 값.)\n",
    "\n",
    "spec_list = datas[\"스펙목록\"][0].split(' / ')\n",
    "spec_list"
   ]
  },
  {
   "cell_type": "code",
   "execution_count": 15,
   "id": "47d65723",
   "metadata": {},
   "outputs": [
    {
     "data": {
      "text/plain": [
       "'핸디/스틱청소기'"
      ]
     },
     "execution_count": 15,
     "metadata": {},
     "output_type": "execute_result"
    }
   ],
   "source": [
    "#항상 첫번째 위치에 있음\n",
    "category=spec_list[0]\n",
    "category"
   ]
  },
  {
   "cell_type": "code",
   "execution_count": 53,
   "id": "5d436b7d",
   "metadata": {},
   "outputs": [
    {
     "name": "stdout",
     "output_type": "stream",
     "text": [
      "사용시간: 1시간10분(개당)\n",
      "흡입력: 25000Pa\n"
     ]
    }
   ],
   "source": [
    "#사용시간과 흡입력 정보 추출\n",
    "for spec in spec_list:\n",
    "    if \"사용시간\" in spec:\n",
    "        use_time_spec=spec\n",
    "    elif \"흡입력\" in spec: #흡입력 단위\n",
    "        suction_spec =spec\n",
    "        \n",
    "print(use_time_spec)\n",
    "print(suction_spec)"
   ]
  },
  {
   "cell_type": "code",
   "execution_count": 29,
   "id": "e36ac756",
   "metadata": {},
   "outputs": [
    {
     "data": {
      "text/plain": [
       "'140AW'"
      ]
     },
     "execution_count": 29,
     "metadata": {},
     "output_type": "execute_result"
    }
   ],
   "source": [
    "#정량적인 수치 추출\n",
    "use_time_value=use_time_spec.split(\" \")[1].strip()\n",
    "suction_value=suction_spec.split(\" \")[1].strip()"
   ]
  },
  {
   "cell_type": "code",
   "execution_count": 103,
   "id": "3d9143e4",
   "metadata": {},
   "outputs": [
    {
     "name": "stdout",
     "output_type": "stream",
     "text": [
      "400 ['핸디/스틱청소기', '핸디/스틱청소기', '핸디/스틱청소기', '핸디/스틱청소기', '차량용청소기']\n",
      "400 ['1시간(개당)', '1시간(개당)', '1시간(개당)', '1시간(개당)', '30분']\n",
      "400 ['22000Pa', '210W', '200W', '210W', '16,800Pa']\n"
     ]
    }
   ],
   "source": [
    "category_list=[]\n",
    "use_time_list=[]\n",
    "suction_list=[]\n",
    "\n",
    "for spec_data in datas[\"스펙목록\"]:\n",
    "    spec_list=spec_data.split(' / ')\n",
    "    \n",
    "    #카테고리\n",
    "    category=spec_list[0]\n",
    "    category_list.append(category)\n",
    "    \n",
    "    #사용시간과 흡입력 정보\n",
    "    #사용시간과 흡입력 정보가 없는 제품을 위해 변수를 생성함\n",
    "    use_time_value = None\n",
    "    suction_value = None\n",
    "    \n",
    "    for spec in spec_list:\n",
    "        if \"사용시간\" in spec:\n",
    "            use_time_value=spec.split(\" \")[1].strip()\n",
    "        elif \"흡입력\" in spec: #흡입력 단위\n",
    "            suction_value =spec.split(\" \")[1].strip()\n",
    "    use_time_list.append(use_time_value)\n",
    "    suction_list.append(suction_value)\n",
    "\n",
    "print(len(category_list), category_list[:5])\n",
    "print(len(use_time_list), use_time_list[:5])\n",
    "print(len(suction_list), suction_list[:5])"
   ]
  },
  {
   "cell_type": "markdown",
   "id": "2f3fd395",
   "metadata": {},
   "source": [
    "## 사용시간 단위 통일시키기"
   ]
  },
  {
   "cell_type": "code",
   "execution_count": 104,
   "id": "e078cb66",
   "metadata": {},
   "outputs": [
    {
     "data": {
      "text/plain": [
       "['1시간(개당)',\n",
       " '1시간(개당)',\n",
       " '1시간(개당)',\n",
       " '1시간(개당)',\n",
       " '30분',\n",
       " '9~30분',\n",
       " '1시간(개당)',\n",
       " '1시간10분(개당)',\n",
       " '1시간(개당)',\n",
       " '1시간(개당)']"
      ]
     },
     "execution_count": 104,
     "metadata": {},
     "output_type": "execute_result"
    }
   ],
   "source": [
    "use_time_list[:10] #시간 단위와 분 단위의 혼재"
   ]
  },
  {
   "cell_type": "code",
   "execution_count": 105,
   "id": "c6061e8d",
   "metadata": {},
   "outputs": [
    {
     "name": "stdout",
     "output_type": "stream",
     "text": [
      "40\n",
      "80\n",
      "210\n",
      "240\n",
      "10\n"
     ]
    }
   ],
   "source": [
    "# 시용시간을 분 단위로 조정하는 함수\n",
    "\n",
    "def convert_time_minute(time):\n",
    "    try:\n",
    "        if \"시간\" in time:\n",
    "            hour=time.split(\"시간\")[0]\n",
    "            if \"분\" in time:\n",
    "                minute = time.split(\"시간\")[-1].split(\"분\")[0]\n",
    "            else:\n",
    "                minute=0 #분 없으면..그냥 0분\n",
    "        else:\n",
    "            hour=0\n",
    "            minute = time.split(\"분\")[0]\n",
    "        return int(hour)*60+int(minute)\n",
    "    except:\n",
    "        return None\n",
    "\n",
    "times = [\"40분\",\"1시간20분(개당)\",\"3시간30분\",\"4시간\", \"10분\"]\n",
    "for i in times:\n",
    "    convert_time=convert_time_minute(i)\n",
    "    print(convert_time)"
   ]
  },
  {
   "cell_type": "code",
   "execution_count": 106,
   "id": "a51f70ef",
   "metadata": {
    "scrolled": true
   },
   "outputs": [
    {
     "data": {
      "text/plain": [
       "'1'"
      ]
     },
     "execution_count": 106,
     "metadata": {},
     "output_type": "execute_result"
    }
   ],
   "source": [
    "use_time_list[3].split(\"시간\")[0] #1시간"
   ]
  },
  {
   "cell_type": "code",
   "execution_count": 107,
   "id": "f27f9622",
   "metadata": {},
   "outputs": [
    {
     "data": {
      "text/plain": [
       "'20'"
      ]
     },
     "execution_count": 107,
     "metadata": {},
     "output_type": "execute_result"
    }
   ],
   "source": [
    "time=\"1시간20분\"\n",
    "time.split(\"시간\")[-1].split(\"분\")[0]"
   ]
  },
  {
   "cell_type": "code",
   "execution_count": 108,
   "id": "7867cb05",
   "metadata": {},
   "outputs": [
    {
     "data": {
      "text/plain": [
       "[60, 60, 60, 60, 30, None, 60, 70, 60, 60]"
      ]
     },
     "execution_count": 108,
     "metadata": {},
     "output_type": "execute_result"
    }
   ],
   "source": [
    "new_use_list=[]\n",
    "for time in use_time_list:\n",
    "    convert_time=convert_time_minute(time)\n",
    "    new_use_list.append(convert_time)\n",
    "new_use_list[:10]"
   ]
  },
  {
   "cell_type": "code",
   "execution_count": 109,
   "id": "764be61c",
   "metadata": {
    "scrolled": true
   },
   "outputs": [
    {
     "data": {
      "text/plain": [
       "['1시간(개당)',\n",
       " '1시간(개당)',\n",
       " '1시간(개당)',\n",
       " '1시간(개당)',\n",
       " '30분',\n",
       " '9~30분',\n",
       " '1시간(개당)',\n",
       " '1시간10분(개당)',\n",
       " '1시간(개당)',\n",
       " '1시간(개당)']"
      ]
     },
     "execution_count": 109,
     "metadata": {},
     "output_type": "execute_result"
    }
   ],
   "source": [
    "use_time_list[:10]"
   ]
  },
  {
   "cell_type": "markdown",
   "id": "b0597f09",
   "metadata": {},
   "source": [
    "## 흡입력 단위 통일 시키기"
   ]
  },
  {
   "cell_type": "code",
   "execution_count": 110,
   "id": "832a2ac1",
   "metadata": {},
   "outputs": [],
   "source": [
    "# 흡입력 단위를 통일시키는 함수\n",
    "\n",
    "def get_suction(value):\n",
    "    try:\n",
    "        value = value.upper() #모두 대문자로 변환\n",
    "        if \"AW\" in value or \"W\" in value:\n",
    "            result=value.replace(\"A\",\"\").replace(\"W\",\"\") #AW이든 W이든 모두 통일\n",
    "            result = int(result.replace(\",\",\"\")) #천 단위 모두 없애기...\n",
    "        elif \"PA\" in value:\n",
    "            result=value.replace(\"PA\",\"\")\n",
    "            result = int(result.replace(\",\",\"\"))/100 #1W=1AW=100PA\n",
    "        else:\n",
    "            result = None\n",
    "        return result\n",
    "    except:\n",
    "        return None"
   ]
  },
  {
   "cell_type": "code",
   "execution_count": 111,
   "id": "2930b1e8",
   "metadata": {},
   "outputs": [],
   "source": [
    "new_suction_list=[]\n",
    "for i in suction_list:\n",
    "    value=get_suction(i)\n",
    "    new_suction_list.append(value)"
   ]
  },
  {
   "cell_type": "code",
   "execution_count": 112,
   "id": "db36ecd0",
   "metadata": {},
   "outputs": [
    {
     "data": {
      "text/plain": [
       "400"
      ]
     },
     "execution_count": 112,
     "metadata": {},
     "output_type": "execute_result"
    }
   ],
   "source": [
    "len(new_suction_list)"
   ]
  },
  {
   "cell_type": "code",
   "execution_count": 114,
   "id": "b5891e31",
   "metadata": {},
   "outputs": [
    {
     "data": {
      "text/html": [
       "<div>\n",
       "<style scoped>\n",
       "    .dataframe tbody tr th:only-of-type {\n",
       "        vertical-align: middle;\n",
       "    }\n",
       "\n",
       "    .dataframe tbody tr th {\n",
       "        vertical-align: top;\n",
       "    }\n",
       "\n",
       "    .dataframe thead th {\n",
       "        text-align: right;\n",
       "    }\n",
       "</style>\n",
       "<table border=\"1\" class=\"dataframe\">\n",
       "  <thead>\n",
       "    <tr style=\"text-align: right;\">\n",
       "      <th></th>\n",
       "      <th>카테고리</th>\n",
       "      <th>회사명</th>\n",
       "      <th>제품명</th>\n",
       "      <th>가격</th>\n",
       "      <th>사용시간</th>\n",
       "      <th>흡입력</th>\n",
       "    </tr>\n",
       "  </thead>\n",
       "  <tbody>\n",
       "    <tr>\n",
       "      <th>0</th>\n",
       "      <td>핸디/스틱청소기</td>\n",
       "      <td>샤오미</td>\n",
       "      <td>드리미 V10</td>\n",
       "      <td>150080</td>\n",
       "      <td>60.0</td>\n",
       "      <td>220.0</td>\n",
       "    </tr>\n",
       "    <tr>\n",
       "      <th>1</th>\n",
       "      <td>핸디/스틱청소기</td>\n",
       "      <td>LG전자</td>\n",
       "      <td>오브제컬렉션 코드제로 ThinQ A9S AO9571</td>\n",
       "      <td>1190940</td>\n",
       "      <td>60.0</td>\n",
       "      <td>210.0</td>\n",
       "    </tr>\n",
       "    <tr>\n",
       "      <th>2</th>\n",
       "      <td>핸디/스틱청소기</td>\n",
       "      <td>삼성전자</td>\n",
       "      <td>제트 VS20T9218QDCC</td>\n",
       "      <td>568700</td>\n",
       "      <td>60.0</td>\n",
       "      <td>200.0</td>\n",
       "    </tr>\n",
       "    <tr>\n",
       "      <th>3</th>\n",
       "      <td>핸디/스틱청소기</td>\n",
       "      <td>삼성전자</td>\n",
       "      <td>비스포크 제트 VS20A957D3</td>\n",
       "      <td>919630</td>\n",
       "      <td>60.0</td>\n",
       "      <td>210.0</td>\n",
       "    </tr>\n",
       "    <tr>\n",
       "      <th>4</th>\n",
       "      <td>차량용청소기</td>\n",
       "      <td>샤오미</td>\n",
       "      <td>CLEANFLY 차량용 무선 청소기 4세대 H2 (해외구매)</td>\n",
       "      <td>63140</td>\n",
       "      <td>30.0</td>\n",
       "      <td>168.0</td>\n",
       "    </tr>\n",
       "  </tbody>\n",
       "</table>\n",
       "</div>"
      ],
      "text/plain": [
       "       카테고리   회사명                                제품명       가격  사용시간    흡입력\n",
       "0  핸디/스틱청소기   샤오미                            드리미 V10   150080  60.0  220.0\n",
       "1  핸디/스틱청소기  LG전자       오브제컬렉션 코드제로 ThinQ A9S AO9571  1190940  60.0  210.0\n",
       "2  핸디/스틱청소기  삼성전자                   제트 VS20T9218QDCC   568700  60.0  200.0\n",
       "3  핸디/스틱청소기  삼성전자                 비스포크 제트 VS20A957D3   919630  60.0  210.0\n",
       "4    차량용청소기   샤오미  CLEANFLY 차량용 무선 청소기 4세대 H2 (해외구매)    63140  30.0  168.0"
      ]
     },
     "execution_count": 114,
     "metadata": {},
     "output_type": "execute_result"
    }
   ],
   "source": [
    "import pandas as pd\n",
    "pd_data=pd.DataFrame()\n",
    "pd_data[\"카테고리\"]=category_list\n",
    "pd_data[\"회사명\"]=company_list\n",
    "pd_data[\"제품명\"]=product_list\n",
    "pd_data[\"가격\"]=datas[\"가격\"]\n",
    "pd_data[\"사용시간\"]=new_use_list\n",
    "pd_data[\"흡입력\"]=new_suction_list\n",
    "\n",
    "pd_data.head()"
   ]
  },
  {
   "cell_type": "code",
   "execution_count": 115,
   "id": "d48308b0",
   "metadata": {},
   "outputs": [
    {
     "data": {
      "text/plain": [
       "핸디/스틱청소기        302\n",
       "물걸레청소기           40\n",
       "차량용청소기           32\n",
       "욕실청소기            15\n",
       "침구청소기             6\n",
       "업소용청소기            2\n",
       "진공청소기             1\n",
       "로봇청소기             1\n",
       "물걸레청소기+스팀청소기      1\n",
       "Name: 카테고리, dtype: int64"
      ]
     },
     "execution_count": 115,
     "metadata": {},
     "output_type": "execute_result"
    }
   ],
   "source": [
    "pd_data[\"카테고리\"].value_counts()"
   ]
  },
  {
   "cell_type": "code",
   "execution_count": 116,
   "id": "6eaf4fc7",
   "metadata": {},
   "outputs": [
    {
     "data": {
      "text/plain": [
       "302"
      ]
     },
     "execution_count": 116,
     "metadata": {},
     "output_type": "execute_result"
    }
   ],
   "source": [
    "pd_data_final = pd_data[pd_data[\"카테고리\"]==\"핸디/스틱청소기\"]\n",
    "len(pd_data_final)"
   ]
  },
  {
   "cell_type": "code",
   "execution_count": 117,
   "id": "f32aaa14",
   "metadata": {},
   "outputs": [],
   "source": [
    "pd_data_final.to_excel(\"C:/Users/pc/Main/Data_Analysis/file/best_product_final.xlsx\", index=False)"
   ]
  },
  {
   "cell_type": "code",
   "execution_count": 118,
   "id": "48160b30",
   "metadata": {},
   "outputs": [
    {
     "data": {
      "text/html": [
       "<div>\n",
       "<style scoped>\n",
       "    .dataframe tbody tr th:only-of-type {\n",
       "        vertical-align: middle;\n",
       "    }\n",
       "\n",
       "    .dataframe tbody tr th {\n",
       "        vertical-align: top;\n",
       "    }\n",
       "\n",
       "    .dataframe thead th {\n",
       "        text-align: right;\n",
       "    }\n",
       "</style>\n",
       "<table border=\"1\" class=\"dataframe\">\n",
       "  <thead>\n",
       "    <tr style=\"text-align: right;\">\n",
       "      <th></th>\n",
       "      <th>카테고리</th>\n",
       "      <th>회사명</th>\n",
       "      <th>제품명</th>\n",
       "      <th>가격</th>\n",
       "      <th>사용시간</th>\n",
       "      <th>흡입력</th>\n",
       "    </tr>\n",
       "  </thead>\n",
       "  <tbody>\n",
       "    <tr>\n",
       "      <th>0</th>\n",
       "      <td>핸디/스틱청소기</td>\n",
       "      <td>샤오미</td>\n",
       "      <td>드리미 V10</td>\n",
       "      <td>150080</td>\n",
       "      <td>60.0</td>\n",
       "      <td>220.0</td>\n",
       "    </tr>\n",
       "    <tr>\n",
       "      <th>1</th>\n",
       "      <td>핸디/스틱청소기</td>\n",
       "      <td>LG전자</td>\n",
       "      <td>오브제컬렉션 코드제로 ThinQ A9S AO9571</td>\n",
       "      <td>1190940</td>\n",
       "      <td>60.0</td>\n",
       "      <td>210.0</td>\n",
       "    </tr>\n",
       "    <tr>\n",
       "      <th>2</th>\n",
       "      <td>핸디/스틱청소기</td>\n",
       "      <td>삼성전자</td>\n",
       "      <td>제트 VS20T9218QDCC</td>\n",
       "      <td>568700</td>\n",
       "      <td>60.0</td>\n",
       "      <td>200.0</td>\n",
       "    </tr>\n",
       "    <tr>\n",
       "      <th>3</th>\n",
       "      <td>핸디/스틱청소기</td>\n",
       "      <td>삼성전자</td>\n",
       "      <td>비스포크 제트 VS20A957D3</td>\n",
       "      <td>919630</td>\n",
       "      <td>60.0</td>\n",
       "      <td>210.0</td>\n",
       "    </tr>\n",
       "    <tr>\n",
       "      <th>4</th>\n",
       "      <td>핸디/스틱청소기</td>\n",
       "      <td>LG전자</td>\n",
       "      <td>코드제로 ThinQ A9S A9370</td>\n",
       "      <td>697900</td>\n",
       "      <td>60.0</td>\n",
       "      <td>NaN</td>\n",
       "    </tr>\n",
       "  </tbody>\n",
       "</table>\n",
       "</div>"
      ],
      "text/plain": [
       "       카테고리   회사명                           제품명       가격  사용시간    흡입력\n",
       "0  핸디/스틱청소기   샤오미                       드리미 V10   150080  60.0  220.0\n",
       "1  핸디/스틱청소기  LG전자  오브제컬렉션 코드제로 ThinQ A9S AO9571  1190940  60.0  210.0\n",
       "2  핸디/스틱청소기  삼성전자              제트 VS20T9218QDCC   568700  60.0  200.0\n",
       "3  핸디/스틱청소기  삼성전자            비스포크 제트 VS20A957D3   919630  60.0  210.0\n",
       "4  핸디/스틱청소기  LG전자          코드제로 ThinQ A9S A9370   697900  60.0    NaN"
      ]
     },
     "execution_count": 118,
     "metadata": {},
     "output_type": "execute_result"
    }
   ],
   "source": [
    "danawa_data=pd.read_excel(\"C:/Users/pc/Main/Data_Analysis/file/best_product_final.xlsx\")\n",
    "danawa_data.head()"
   ]
  },
  {
   "cell_type": "code",
   "execution_count": 119,
   "id": "ac177345",
   "metadata": {},
   "outputs": [
    {
     "data": {
      "text/html": [
       "<div>\n",
       "<style scoped>\n",
       "    .dataframe tbody tr th:only-of-type {\n",
       "        vertical-align: middle;\n",
       "    }\n",
       "\n",
       "    .dataframe tbody tr th {\n",
       "        vertical-align: top;\n",
       "    }\n",
       "\n",
       "    .dataframe thead th {\n",
       "        text-align: right;\n",
       "    }\n",
       "</style>\n",
       "<table border=\"1\" class=\"dataframe\">\n",
       "  <thead>\n",
       "    <tr style=\"text-align: right;\">\n",
       "      <th></th>\n",
       "      <th>카테고리</th>\n",
       "      <th>회사명</th>\n",
       "      <th>제품명</th>\n",
       "      <th>가격</th>\n",
       "      <th>사용시간</th>\n",
       "      <th>흡입력</th>\n",
       "    </tr>\n",
       "  </thead>\n",
       "  <tbody>\n",
       "    <tr>\n",
       "      <th>132</th>\n",
       "      <td>핸디/스틱청소기</td>\n",
       "      <td>아이닉</td>\n",
       "      <td>i20</td>\n",
       "      <td>188000</td>\n",
       "      <td>50.0</td>\n",
       "      <td>300.0</td>\n",
       "    </tr>\n",
       "    <tr>\n",
       "      <th>14</th>\n",
       "      <td>핸디/스틱청소기</td>\n",
       "      <td>DIBEA</td>\n",
       "      <td>차이슨 ALLNEW29000</td>\n",
       "      <td>248000</td>\n",
       "      <td>48.0</td>\n",
       "      <td>290.0</td>\n",
       "    </tr>\n",
       "    <tr>\n",
       "      <th>300</th>\n",
       "      <td>핸디/스틱청소기</td>\n",
       "      <td>캐치웰</td>\n",
       "      <td>NEW F8</td>\n",
       "      <td>199000</td>\n",
       "      <td>25.0</td>\n",
       "      <td>290.0</td>\n",
       "    </tr>\n",
       "    <tr>\n",
       "      <th>116</th>\n",
       "      <td>핸디/스틱청소기</td>\n",
       "      <td>샤오미</td>\n",
       "      <td>드리미 T30</td>\n",
       "      <td>403340</td>\n",
       "      <td>90.0</td>\n",
       "      <td>270.0</td>\n",
       "    </tr>\n",
       "    <tr>\n",
       "      <th>38</th>\n",
       "      <td>핸디/스틱청소기</td>\n",
       "      <td>샤오미</td>\n",
       "      <td>드리미 V12</td>\n",
       "      <td>291100</td>\n",
       "      <td>90.0</td>\n",
       "      <td>270.0</td>\n",
       "    </tr>\n",
       "  </tbody>\n",
       "</table>\n",
       "</div>"
      ],
      "text/plain": [
       "         카테고리    회사명              제품명      가격  사용시간    흡입력\n",
       "132  핸디/스틱청소기    아이닉              i20  188000  50.0  300.0\n",
       "14   핸디/스틱청소기  DIBEA  차이슨 ALLNEW29000  248000  48.0  290.0\n",
       "300  핸디/스틱청소기    캐치웰           NEW F8  199000  25.0  290.0\n",
       "116  핸디/스틱청소기    샤오미          드리미 T30  403340  90.0  270.0\n",
       "38   핸디/스틱청소기    샤오미          드리미 V12  291100  90.0  270.0"
      ]
     },
     "execution_count": 119,
     "metadata": {},
     "output_type": "execute_result"
    }
   ],
   "source": [
    "#흡입력 기준 정렬하기\n",
    "top_list=danawa_data.sort_values([\"흡입력\"], ascending=False)\n",
    "top_list.head()"
   ]
  },
  {
   "cell_type": "code",
   "execution_count": 120,
   "id": "ae7cfeea",
   "metadata": {},
   "outputs": [
    {
     "data": {
      "text/html": [
       "<div>\n",
       "<style scoped>\n",
       "    .dataframe tbody tr th:only-of-type {\n",
       "        vertical-align: middle;\n",
       "    }\n",
       "\n",
       "    .dataframe tbody tr th {\n",
       "        vertical-align: top;\n",
       "    }\n",
       "\n",
       "    .dataframe thead th {\n",
       "        text-align: right;\n",
       "    }\n",
       "</style>\n",
       "<table border=\"1\" class=\"dataframe\">\n",
       "  <thead>\n",
       "    <tr style=\"text-align: right;\">\n",
       "      <th></th>\n",
       "      <th>카테고리</th>\n",
       "      <th>회사명</th>\n",
       "      <th>제품명</th>\n",
       "      <th>가격</th>\n",
       "      <th>사용시간</th>\n",
       "      <th>흡입력</th>\n",
       "    </tr>\n",
       "  </thead>\n",
       "  <tbody>\n",
       "    <tr>\n",
       "      <th>224</th>\n",
       "      <td>핸디/스틱청소기</td>\n",
       "      <td>샤오미</td>\n",
       "      <td>이지에 YE-01</td>\n",
       "      <td>28500</td>\n",
       "      <td>120.0</td>\n",
       "      <td>NaN</td>\n",
       "    </tr>\n",
       "    <tr>\n",
       "      <th>38</th>\n",
       "      <td>핸디/스틱청소기</td>\n",
       "      <td>샤오미</td>\n",
       "      <td>드리미 V12</td>\n",
       "      <td>291100</td>\n",
       "      <td>90.0</td>\n",
       "      <td>270.0</td>\n",
       "    </tr>\n",
       "    <tr>\n",
       "      <th>39</th>\n",
       "      <td>핸디/스틱청소기</td>\n",
       "      <td>샤오미</td>\n",
       "      <td>드리미 V11</td>\n",
       "      <td>240870</td>\n",
       "      <td>90.0</td>\n",
       "      <td>250.0</td>\n",
       "    </tr>\n",
       "    <tr>\n",
       "      <th>116</th>\n",
       "      <td>핸디/스틱청소기</td>\n",
       "      <td>샤오미</td>\n",
       "      <td>드리미 T30</td>\n",
       "      <td>403340</td>\n",
       "      <td>90.0</td>\n",
       "      <td>270.0</td>\n",
       "    </tr>\n",
       "    <tr>\n",
       "      <th>164</th>\n",
       "      <td>핸디/스틱청소기</td>\n",
       "      <td>로보락</td>\n",
       "      <td>H7</td>\n",
       "      <td>449000</td>\n",
       "      <td>90.0</td>\n",
       "      <td>160.0</td>\n",
       "    </tr>\n",
       "  </tbody>\n",
       "</table>\n",
       "</div>"
      ],
      "text/plain": [
       "         카테고리  회사명        제품명      가격   사용시간    흡입력\n",
       "224  핸디/스틱청소기  샤오미  이지에 YE-01   28500  120.0    NaN\n",
       "38   핸디/스틱청소기  샤오미    드리미 V12  291100   90.0  270.0\n",
       "39   핸디/스틱청소기  샤오미    드리미 V11  240870   90.0  250.0\n",
       "116  핸디/스틱청소기  샤오미    드리미 T30  403340   90.0  270.0\n",
       "164  핸디/스틱청소기  로보락         H7  449000   90.0  160.0"
      ]
     },
     "execution_count": 120,
     "metadata": {},
     "output_type": "execute_result"
    }
   ],
   "source": [
    "#사용시간 기준 정렬\n",
    "top_list=danawa_data.sort_values([\"사용시간\"], ascending=False)\n",
    "top_list.head()"
   ]
  },
  {
   "cell_type": "code",
   "execution_count": 121,
   "id": "6e4c9eb2",
   "metadata": {},
   "outputs": [
    {
     "data": {
      "text/html": [
       "<div>\n",
       "<style scoped>\n",
       "    .dataframe tbody tr th:only-of-type {\n",
       "        vertical-align: middle;\n",
       "    }\n",
       "\n",
       "    .dataframe tbody tr th {\n",
       "        vertical-align: top;\n",
       "    }\n",
       "\n",
       "    .dataframe thead th {\n",
       "        text-align: right;\n",
       "    }\n",
       "</style>\n",
       "<table border=\"1\" class=\"dataframe\">\n",
       "  <thead>\n",
       "    <tr style=\"text-align: right;\">\n",
       "      <th></th>\n",
       "      <th>카테고리</th>\n",
       "      <th>회사명</th>\n",
       "      <th>제품명</th>\n",
       "      <th>가격</th>\n",
       "      <th>사용시간</th>\n",
       "      <th>흡입력</th>\n",
       "    </tr>\n",
       "  </thead>\n",
       "  <tbody>\n",
       "    <tr>\n",
       "      <th>224</th>\n",
       "      <td>핸디/스틱청소기</td>\n",
       "      <td>샤오미</td>\n",
       "      <td>이지에 YE-01</td>\n",
       "      <td>28500</td>\n",
       "      <td>120.0</td>\n",
       "      <td>NaN</td>\n",
       "    </tr>\n",
       "    <tr>\n",
       "      <th>38</th>\n",
       "      <td>핸디/스틱청소기</td>\n",
       "      <td>샤오미</td>\n",
       "      <td>드리미 V12</td>\n",
       "      <td>291100</td>\n",
       "      <td>90.0</td>\n",
       "      <td>270.0</td>\n",
       "    </tr>\n",
       "    <tr>\n",
       "      <th>116</th>\n",
       "      <td>핸디/스틱청소기</td>\n",
       "      <td>샤오미</td>\n",
       "      <td>드리미 T30</td>\n",
       "      <td>403340</td>\n",
       "      <td>90.0</td>\n",
       "      <td>270.0</td>\n",
       "    </tr>\n",
       "    <tr>\n",
       "      <th>39</th>\n",
       "      <td>핸디/스틱청소기</td>\n",
       "      <td>샤오미</td>\n",
       "      <td>드리미 V11</td>\n",
       "      <td>240870</td>\n",
       "      <td>90.0</td>\n",
       "      <td>250.0</td>\n",
       "    </tr>\n",
       "    <tr>\n",
       "      <th>164</th>\n",
       "      <td>핸디/스틱청소기</td>\n",
       "      <td>로보락</td>\n",
       "      <td>H7</td>\n",
       "      <td>449000</td>\n",
       "      <td>90.0</td>\n",
       "      <td>160.0</td>\n",
       "    </tr>\n",
       "  </tbody>\n",
       "</table>\n",
       "</div>"
      ],
      "text/plain": [
       "         카테고리  회사명        제품명      가격   사용시간    흡입력\n",
       "224  핸디/스틱청소기  샤오미  이지에 YE-01   28500  120.0    NaN\n",
       "38   핸디/스틱청소기  샤오미    드리미 V12  291100   90.0  270.0\n",
       "116  핸디/스틱청소기  샤오미    드리미 T30  403340   90.0  270.0\n",
       "39   핸디/스틱청소기  샤오미    드리미 V11  240870   90.0  250.0\n",
       "164  핸디/스틱청소기  로보락         H7  449000   90.0  160.0"
      ]
     },
     "execution_count": 121,
     "metadata": {},
     "output_type": "execute_result"
    }
   ],
   "source": [
    "#여러 기준(사용시간, 흡입력) 정렬\n",
    "top_list=danawa_data.sort_values([\"사용시간\",\"흡입력\"], ascending=False)\n",
    "top_list.head()"
   ]
  },
  {
   "cell_type": "code",
   "execution_count": 127,
   "id": "0df194c1",
   "metadata": {},
   "outputs": [
    {
     "data": {
      "text/plain": [
       "(368723.2450331126, 44.45804195804196, 182.9371727748691)"
      ]
     },
     "execution_count": 127,
     "metadata": {},
     "output_type": "execute_result"
    }
   ],
   "source": [
    "#평균값 정리하기\n",
    "\n",
    "price_mean = danawa_data[\"가격\"].mean()\n",
    "time_mean = danawa_data[\"사용시간\"].mean()\n",
    "suction_mean = danawa_data[\"흡입력\"].mean()\n",
    "price_mean,time_mean , suction_mean"
   ]
  },
  {
   "cell_type": "code",
   "execution_count": 128,
   "id": "745fbee8",
   "metadata": {},
   "outputs": [
    {
     "data": {
      "text/html": [
       "<div>\n",
       "<style scoped>\n",
       "    .dataframe tbody tr th:only-of-type {\n",
       "        vertical-align: middle;\n",
       "    }\n",
       "\n",
       "    .dataframe tbody tr th {\n",
       "        vertical-align: top;\n",
       "    }\n",
       "\n",
       "    .dataframe thead th {\n",
       "        text-align: right;\n",
       "    }\n",
       "</style>\n",
       "<table border=\"1\" class=\"dataframe\">\n",
       "  <thead>\n",
       "    <tr style=\"text-align: right;\">\n",
       "      <th></th>\n",
       "      <th>카테고리</th>\n",
       "      <th>회사명</th>\n",
       "      <th>제품명</th>\n",
       "      <th>가격</th>\n",
       "      <th>사용시간</th>\n",
       "      <th>흡입력</th>\n",
       "    </tr>\n",
       "  </thead>\n",
       "  <tbody>\n",
       "    <tr>\n",
       "      <th>0</th>\n",
       "      <td>핸디/스틱청소기</td>\n",
       "      <td>샤오미</td>\n",
       "      <td>드리미 V10</td>\n",
       "      <td>150080</td>\n",
       "      <td>60.0</td>\n",
       "      <td>220.0</td>\n",
       "    </tr>\n",
       "    <tr>\n",
       "      <th>5</th>\n",
       "      <td>핸디/스틱청소기</td>\n",
       "      <td>델로라</td>\n",
       "      <td>V11 파워 300W</td>\n",
       "      <td>109000</td>\n",
       "      <td>70.0</td>\n",
       "      <td>220.0</td>\n",
       "    </tr>\n",
       "    <tr>\n",
       "      <th>13</th>\n",
       "      <td>핸디/스틱청소기</td>\n",
       "      <td>샤오미</td>\n",
       "      <td>TROUVER POWER 12</td>\n",
       "      <td>164670</td>\n",
       "      <td>60.0</td>\n",
       "      <td>220.0</td>\n",
       "    </tr>\n",
       "    <tr>\n",
       "      <th>14</th>\n",
       "      <td>핸디/스틱청소기</td>\n",
       "      <td>DIBEA</td>\n",
       "      <td>차이슨 ALLNEW29000</td>\n",
       "      <td>248000</td>\n",
       "      <td>48.0</td>\n",
       "      <td>290.0</td>\n",
       "    </tr>\n",
       "    <tr>\n",
       "      <th>35</th>\n",
       "      <td>핸디/스틱청소기</td>\n",
       "      <td>샤오미</td>\n",
       "      <td>드리미 V9</td>\n",
       "      <td>298000</td>\n",
       "      <td>60.0</td>\n",
       "      <td>200.0</td>\n",
       "    </tr>\n",
       "  </tbody>\n",
       "</table>\n",
       "</div>"
      ],
      "text/plain": [
       "        카테고리    회사명               제품명      가격  사용시간    흡입력\n",
       "0   핸디/스틱청소기    샤오미           드리미 V10  150080  60.0  220.0\n",
       "5   핸디/스틱청소기    델로라       V11 파워 300W  109000  70.0  220.0\n",
       "13  핸디/스틱청소기    샤오미  TROUVER POWER 12  164670  60.0  220.0\n",
       "14  핸디/스틱청소기  DIBEA   차이슨 ALLNEW29000  248000  48.0  290.0\n",
       "35  핸디/스틱청소기    샤오미            드리미 V9  298000  60.0  200.0"
      ]
     },
     "execution_count": 128,
     "metadata": {},
     "output_type": "execute_result"
    }
   ],
   "source": [
    "# 가성비 좋은 제품 확인하기\n",
    "\n",
    "condition = (danawa_data[\"가격\"]<=price_mean) & (danawa_data[\"사용시간\"]>=time_mean) &(danawa_data[\"흡입력\"]>=suction_mean)\n",
    "condition_data=danawa_data[condition]\n",
    "condition_data.head()"
   ]
  },
  {
   "cell_type": "code",
   "execution_count": 129,
   "id": "76fed561",
   "metadata": {},
   "outputs": [
    {
     "data": {
      "text/plain": [
       "30"
      ]
     },
     "execution_count": 129,
     "metadata": {},
     "output_type": "execute_result"
    }
   ],
   "source": [
    "len(condition_data)"
   ]
  },
  {
   "cell_type": "markdown",
   "id": "b20f188d",
   "metadata": {},
   "source": [
    "## 데이터 시각화"
   ]
  },
  {
   "cell_type": "code",
   "execution_count": 131,
   "id": "bcb5be75",
   "metadata": {},
   "outputs": [],
   "source": [
    "from matplotlib import font_manager, rc\n",
    "import matplotlib.pyplot as plt\n",
    "import seaborn as sns\n",
    "import platform\n",
    "\n",
    "#한글 설정\n",
    "path = \"C:/Windows/Fonts/malgun.ttf\"\n",
    "font_name = font_manager.FontProperties(fname=path).get_name()\n",
    "rc('font',family=font_name)\n",
    "\n",
    "%matplotlib inline"
   ]
  },
  {
   "cell_type": "code",
   "execution_count": 132,
   "id": "134a6fa7",
   "metadata": {},
   "outputs": [
    {
     "data": {
      "text/plain": [
       "189"
      ]
     },
     "execution_count": 132,
     "metadata": {},
     "output_type": "execute_result"
    }
   ],
   "source": [
    "#결측값 없애기...Nan인 데이터 없애기\n",
    "\n",
    "chart_data=danawa_data.dropna(axis=0)\n",
    "len(chart_data)"
   ]
  },
  {
   "cell_type": "code",
   "execution_count": 133,
   "id": "db88c125",
   "metadata": {},
   "outputs": [],
   "source": [
    "#흡입력, 사용시간 최대값, 최소값, 평균값 구하기\n",
    "\n",
    "suction_max = chart_data[\"흡입력\"].max()\n",
    "sucton_mean = chart_data[\"흡입력\"].mean()\n",
    "time_max = chart_data[\"사용시간\"].max()\n",
    "time_mean =chart_data[\"사용시간\"].mean()"
   ]
  },
  {
   "cell_type": "code",
   "execution_count": 138,
   "id": "c4afc3aa",
   "metadata": {},
   "outputs": [
    {
     "data": {
      "image/png": "[encoded data removed]",
      "text/plain": [
       "<Figure size 1440x720 with 1 Axes>"
      ]
     },
     "metadata": {
      "needs_background": "light"
     },
     "output_type": "display_data"
    }
   ],
   "source": [
    "# 시각화 그리기\n",
    "\n",
    "plt.figure(figsize=(20,10))\n",
    "plt.title(\"무선 핸디/스틱 청소기 차트\")\n",
    "sns.scatterplot(x = \"흡입력\", y = \"사용시간\", size=\"가격\", hue = chart_data[\"회사명\"], data = chart_data, sizes=(10, 1000), legend=False)\n",
    "\n",
    "# 평균값 선 넣기..\n",
    "plt.plot((0,suction_max), (time_mean, time_mean), \"r--\", lw=1) #(x1, x2),(y1,y2)의 선을 그어버림..\n",
    "plt.plot((suction_mean, suction_mean), (0, time_max), \"r--\", lw=1)\n",
    "plt.show()"
   ]
  },
  {
   "cell_type": "markdown",
   "id": "31f633de",
   "metadata": {},
   "source": [
    "## 인기제품의 데이터 시각화"
   ]
  },
  {
   "cell_type": "code",
   "execution_count": 142,
   "id": "de08f826",
   "metadata": {},
   "outputs": [],
   "source": [
    "# 상위 인기 20위 이내의 인기제품만...\n",
    "chart_data=chart_data[:20]"
   ]
  },
  {
   "cell_type": "code",
   "execution_count": 148,
   "id": "81a59b1e",
   "metadata": {},
   "outputs": [
    {
     "data": {
      "image/png": "[encoded data removed]",
      "text/plain": [
       "<Figure size 1080x720 with 1 Axes>"
      ]
     },
     "metadata": {
      "needs_background": "light"
     },
     "output_type": "display_data"
    }
   ],
   "source": [
    "suction_max = chart_data[\"흡입력\"].max()\n",
    "sucton_mean = chart_data[\"흡입력\"].mean()\n",
    "time_max = chart_data[\"사용시간\"].max()\n",
    "time_mean =chart_data[\"사용시간\"].mean()\n",
    "\n",
    "# 시각화 그리기\n",
    "\n",
    "plt.figure(figsize=(15,10))\n",
    "plt.title(\"무선 핸디/스틱 청소기 차트\")\n",
    "sns.scatterplot(x = \"흡입력\", y = \"사용시간\", size=\"가격\", hue = chart_data[\"회사명\"], data = chart_data, sizes=(10, 1000), legend=False)\n",
    "\n",
    "# 평균값 선 넣기..\n",
    "plt.plot((0,suction_max), (time_mean, time_mean), \"r--\", lw=1) #(x1, x2),(y1,y2)의 선을 그어버림..\n",
    "plt.plot((suction_mean, suction_mean), (0, time_max), \"r--\", lw=1)\n",
    "\n",
    "#그래프에 텍스트 넣기..\n",
    "for index, row in chart_data.iterrows(): #\n",
    "    x = row[\"흡입력\"]\n",
    "    y = row[\"사용시간\"]\n",
    "    s = row[\"제품명\"].split(\" \")[0]\n",
    "    plt.text(x,y,s, size=20)\n",
    "plt.show()"
   ]
  },
  {
   "cell_type": "code",
   "execution_count": null,
   "id": "19aca1a1",
   "metadata": {},
   "outputs": [],
   "source": []
  }
 ],
 "metadata": {
  "kernelspec": {
   "display_name": "Python 3",
   "language": "python",
   "name": "python3"
  },
  "language_info": {
   "codemirror_mode": {
    "name": "ipython",
    "version": 3
   },
   "file_extension": ".py",
   "mimetype": "text/x-python",
   "name": "python",
   "nbconvert_exporter": "python",
   "pygments_lexer": "ipython3",
   "version": "3.7.10"
  }
 },
 "nbformat": 4,
 "nbformat_minor": 5
}
